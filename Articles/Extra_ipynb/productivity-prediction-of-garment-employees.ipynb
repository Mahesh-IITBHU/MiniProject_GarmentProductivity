{
 "cells": [
  {
   "cell_type": "markdown",
   "id": "3bba3a4c",
   "metadata": {
    "_cell_guid": "b1076dfc-b9ad-4769-8c92-a6c4dae69d19",
    "_uuid": "8f2839f25d086af736a60e9eeb907d3b93b6e0e5",
    "papermill": {
     "duration": 0.068447,
     "end_time": "2021-09-01T12:38:05.501956",
     "exception": false,
     "start_time": "2021-09-01T12:38:05.433509",
     "status": "completed"
    },
    "tags": []
   },
   "source": [
    "<a id='0'></a>\n",
    "# <p style=\"background-color:red; font-family:newtimeroman; font-size:120%; text-align:center; border-radius: 10px 25px;\">Table of Content</p>\n",
    "* [1.Introduction](#1)\n",
    "* [2.Importing necessary modules and libraries📚](#2)\n",
    "* [3.Data Exploration && Data Wrangling🔍](#3)\n",
    "* [4.Data Vizualization🎨](#5)\n",
    "* [5.Machine Learning model training📝](#6)\n",
    "   * [5.1 Applying Regression Algorithms](#6.1)\n",
    "   * [5.2 Applying Classification Algorithms](#6.2)"
   ]
  },
  {
   "cell_type": "markdown",
   "id": "8f109a4d",
   "metadata": {
    "papermill": {
     "duration": 0.082331,
     "end_time": "2021-09-01T12:38:05.648708",
     "exception": false,
     "start_time": "2021-09-01T12:38:05.566377",
     "status": "completed"
    },
    "tags": []
   },
   "source": [
    "<a id='1'></a>\n",
    "# <p style=\"background-color:violet; font-family:newtimeroman; font-size:150%; text-align:center; border-radius: 10px 25px;\">Introduction</p>"
   ]
  },
  {
   "cell_type": "markdown",
   "id": "bedc8604",
   "metadata": {
    "papermill": {
     "duration": 0.065287,
     "end_time": "2021-09-01T12:38:05.796394",
     "exception": false,
     "start_time": "2021-09-01T12:38:05.731107",
     "status": "completed"
    },
    "tags": []
   },
   "source": [
    "\n",
    "The Garment Industry is one of the key examples of the industrial globalization of this modern era. It is a highly labour-intensive industry with lots of manual processes. Satisfying the huge global demand for garment products is mostly dependent on the production and delivery performance of the employees in the garment manufacturing companies. So, it is highly desirable among the decision makers in the garments industry to track, analyse and predict the productivity performance of the working teams in their factories\n",
    "\n",
    "\n",
    "This dataset includes important attributes of the garment manufacturing process and the productivity of the employees which had been collected manually and also been validated by the industry experts.\n",
    "\n",
    "### Feature Description:\n",
    "* <b> date  </b> : Date in MM-DD-YYYY\n",
    "* <b>quarter </b>: A portion of the month. A month was divided into four quarters\n",
    "* <b>department </b>: Associated department with the instance\n",
    "* <b>day </b>:Day of the Week\n",
    "* <b>team </b>:Associated team number with the instance\n",
    "* <b>targeted_productivity</b>:Targeted productivity set by the Authority for each team for each day.\n",
    "* <b>smv </b> :Standard Minute Value, it is the allocated time for a task\n",
    "* <b>wip </b>:Work in progress. Includes the number of unfinished items for products\n",
    "* <b>over_time</b> :amount of overtime by each team in minutes\n",
    "* <b>incentive </b> :amount of financial incentive (in BDT) that enables or motivates a particular course of action.\n",
    "* <b> Idle_time </b> : Idle time\n",
    "* <b> idle_men </b>: Idle men\n",
    "* <b>no_of_style_change</b> : no_of_style_change\n",
    "* <b>no_of_workers</b> : no_of_workers\n",
    "* <b>actual_productivity</b> : actual_productivity\n"
   ]
  },
  {
   "cell_type": "markdown",
   "id": "83fab2f6",
   "metadata": {
    "papermill": {
     "duration": 0.066339,
     "end_time": "2021-09-01T12:38:05.928026",
     "exception": false,
     "start_time": "2021-09-01T12:38:05.861687",
     "status": "completed"
    },
    "tags": []
   },
   "source": [
    "<a id='2'></a>\n",
    "# <p style=\"background-color:violet; font-family:newtimeroman; font-size:120%; text-align:center; border-radius: 10px 25px;\">2.Importing necessary modules and libraries📚</p>"
   ]
  },
  {
   "cell_type": "code",
   "execution_count": 1,
   "id": "df704148",
   "metadata": {
    "execution": {
     "iopub.execute_input": "2021-09-01T12:38:06.075382Z",
     "iopub.status.busy": "2021-09-01T12:38:06.074614Z",
     "iopub.status.idle": "2021-09-01T12:38:07.504670Z",
     "shell.execute_reply": "2021-09-01T12:38:07.503938Z",
     "shell.execute_reply.started": "2021-09-01T12:34:44.427568Z"
    },
    "papermill": {
     "duration": 1.511552,
     "end_time": "2021-09-01T12:38:07.504877",
     "exception": false,
     "start_time": "2021-09-01T12:38:05.993325",
     "status": "completed"
    },
    "tags": []
   },
   "outputs": [],
   "source": [
    "# importing all necessary libraries\n",
    "import numpy as np # linear algebra\n",
    "import pandas as pd\n",
    "import warnings\n",
    "warnings.filterwarnings('ignore')\n",
    "\n",
    "\n",
    "import matplotlib.pyplot as plt\n",
    "import seaborn as sns\n",
    "sns.set_style(\"darkgrid\")\n",
    "\n",
    "from sklearn.linear_model import LogisticRegression\n",
    "from sklearn.tree import DecisionTreeClassifier\n",
    "from sklearn.neighbors import KNeighborsClassifier\n",
    "from sklearn.ensemble import RandomForestClassifier\n",
    "from sklearn.svm import SVC\n",
    "from sklearn.discriminant_analysis import LinearDiscriminantAnalysis\n",
    "from sklearn.naive_bayes import GaussianNB\n",
    "\n",
    "from sklearn.metrics import accuracy_score, confusion_matrix,r2_score\n",
    "from sklearn.linear_model import LinearRegression\n",
    "from sklearn.model_selection import train_test_split, GridSearchCV, cross_val_score, KFold\n",
    "from sklearn.preprocessing import StandardScaler, LabelEncoder,PolynomialFeatures\n",
    "from sklearn.linear_model import LinearRegression"
   ]
  },
  {
   "cell_type": "code",
   "execution_count": 2,
   "id": "6176a397",
   "metadata": {
    "execution": {
     "iopub.execute_input": "2021-09-01T12:38:07.637599Z",
     "iopub.status.busy": "2021-09-01T12:38:07.636941Z",
     "iopub.status.idle": "2021-09-01T12:38:07.694111Z",
     "shell.execute_reply": "2021-09-01T12:38:07.694590Z",
     "shell.execute_reply.started": "2021-09-01T12:34:45.030373Z"
    },
    "papermill": {
     "duration": 0.125731,
     "end_time": "2021-09-01T12:38:07.694768",
     "exception": false,
     "start_time": "2021-09-01T12:38:07.569037",
     "status": "completed"
    },
    "tags": []
   },
   "outputs": [
    {
     "data": {
      "text/html": [
       "<div>\n",
       "<style scoped>\n",
       "    .dataframe tbody tr th:only-of-type {\n",
       "        vertical-align: middle;\n",
       "    }\n",
       "\n",
       "    .dataframe tbody tr th {\n",
       "        vertical-align: top;\n",
       "    }\n",
       "\n",
       "    .dataframe thead th {\n",
       "        text-align: right;\n",
       "    }\n",
       "</style>\n",
       "<table border=\"1\" class=\"dataframe\">\n",
       "  <thead>\n",
       "    <tr style=\"text-align: right;\">\n",
       "      <th></th>\n",
       "      <th>date</th>\n",
       "      <th>quarter</th>\n",
       "      <th>department</th>\n",
       "      <th>day</th>\n",
       "      <th>team</th>\n",
       "      <th>targeted_productivity</th>\n",
       "      <th>smv</th>\n",
       "      <th>wip</th>\n",
       "      <th>over_time</th>\n",
       "      <th>incentive</th>\n",
       "      <th>idle_time</th>\n",
       "      <th>idle_men</th>\n",
       "      <th>no_of_style_change</th>\n",
       "      <th>no_of_workers</th>\n",
       "      <th>actual_productivity</th>\n",
       "    </tr>\n",
       "  </thead>\n",
       "  <tbody>\n",
       "    <tr>\n",
       "      <th>0</th>\n",
       "      <td>01-01-2015</td>\n",
       "      <td>Quarter1</td>\n",
       "      <td>sweing</td>\n",
       "      <td>Thursday</td>\n",
       "      <td>8</td>\n",
       "      <td>0.80</td>\n",
       "      <td>26.16</td>\n",
       "      <td>1108.0</td>\n",
       "      <td>7080</td>\n",
       "      <td>98</td>\n",
       "      <td>0.0</td>\n",
       "      <td>0</td>\n",
       "      <td>0</td>\n",
       "      <td>59.0</td>\n",
       "      <td>0.940725</td>\n",
       "    </tr>\n",
       "    <tr>\n",
       "      <th>1</th>\n",
       "      <td>01-01-2015</td>\n",
       "      <td>Quarter1</td>\n",
       "      <td>finishing</td>\n",
       "      <td>Thursday</td>\n",
       "      <td>1</td>\n",
       "      <td>0.75</td>\n",
       "      <td>3.94</td>\n",
       "      <td>NaN</td>\n",
       "      <td>960</td>\n",
       "      <td>0</td>\n",
       "      <td>0.0</td>\n",
       "      <td>0</td>\n",
       "      <td>0</td>\n",
       "      <td>8.0</td>\n",
       "      <td>0.886500</td>\n",
       "    </tr>\n",
       "    <tr>\n",
       "      <th>2</th>\n",
       "      <td>01-01-2015</td>\n",
       "      <td>Quarter1</td>\n",
       "      <td>sweing</td>\n",
       "      <td>Thursday</td>\n",
       "      <td>11</td>\n",
       "      <td>0.80</td>\n",
       "      <td>11.41</td>\n",
       "      <td>968.0</td>\n",
       "      <td>3660</td>\n",
       "      <td>50</td>\n",
       "      <td>0.0</td>\n",
       "      <td>0</td>\n",
       "      <td>0</td>\n",
       "      <td>30.5</td>\n",
       "      <td>0.800570</td>\n",
       "    </tr>\n",
       "    <tr>\n",
       "      <th>3</th>\n",
       "      <td>01-01-2015</td>\n",
       "      <td>Quarter1</td>\n",
       "      <td>sweing</td>\n",
       "      <td>Thursday</td>\n",
       "      <td>12</td>\n",
       "      <td>0.80</td>\n",
       "      <td>11.41</td>\n",
       "      <td>968.0</td>\n",
       "      <td>3660</td>\n",
       "      <td>50</td>\n",
       "      <td>0.0</td>\n",
       "      <td>0</td>\n",
       "      <td>0</td>\n",
       "      <td>30.5</td>\n",
       "      <td>0.800570</td>\n",
       "    </tr>\n",
       "    <tr>\n",
       "      <th>4</th>\n",
       "      <td>01-01-2015</td>\n",
       "      <td>Quarter1</td>\n",
       "      <td>sweing</td>\n",
       "      <td>Thursday</td>\n",
       "      <td>6</td>\n",
       "      <td>0.80</td>\n",
       "      <td>25.90</td>\n",
       "      <td>1170.0</td>\n",
       "      <td>1920</td>\n",
       "      <td>50</td>\n",
       "      <td>0.0</td>\n",
       "      <td>0</td>\n",
       "      <td>0</td>\n",
       "      <td>56.0</td>\n",
       "      <td>0.800382</td>\n",
       "    </tr>\n",
       "  </tbody>\n",
       "</table>\n",
       "</div>"
      ],
      "text/plain": [
       "         date   quarter  department       day  team  targeted_productivity  \\\n",
       "0  01-01-2015  Quarter1      sweing  Thursday     8                   0.80   \n",
       "1  01-01-2015  Quarter1  finishing   Thursday     1                   0.75   \n",
       "2  01-01-2015  Quarter1      sweing  Thursday    11                   0.80   \n",
       "3  01-01-2015  Quarter1      sweing  Thursday    12                   0.80   \n",
       "4  01-01-2015  Quarter1      sweing  Thursday     6                   0.80   \n",
       "\n",
       "     smv     wip  over_time  incentive  idle_time  idle_men  \\\n",
       "0  26.16  1108.0       7080         98        0.0         0   \n",
       "1   3.94     NaN        960          0        0.0         0   \n",
       "2  11.41   968.0       3660         50        0.0         0   \n",
       "3  11.41   968.0       3660         50        0.0         0   \n",
       "4  25.90  1170.0       1920         50        0.0         0   \n",
       "\n",
       "   no_of_style_change  no_of_workers  actual_productivity  \n",
       "0                   0           59.0             0.940725  \n",
       "1                   0            8.0             0.886500  \n",
       "2                   0           30.5             0.800570  \n",
       "3                   0           30.5             0.800570  \n",
       "4                   0           56.0             0.800382  "
      ]
     },
     "execution_count": 2,
     "metadata": {},
     "output_type": "execute_result"
    }
   ],
   "source": [
    "# reading data\n",
    "data=pd.read_csv('garments_worker_productivity.csv')\n",
    "data.head()"
   ]
  },
  {
   "cell_type": "code",
   "execution_count": 3,
   "id": "d96b5d8e",
   "metadata": {
    "execution": {
     "iopub.execute_input": "2021-09-01T12:38:08.264432Z",
     "iopub.status.busy": "2021-09-01T12:38:08.263406Z",
     "iopub.status.idle": "2021-09-01T12:38:08.283239Z",
     "shell.execute_reply": "2021-09-01T12:38:08.284232Z",
     "shell.execute_reply.started": "2021-09-01T12:34:45.108318Z"
    },
    "papermill": {
     "duration": 0.088549,
     "end_time": "2021-09-01T12:38:08.284554",
     "exception": false,
     "start_time": "2021-09-01T12:38:08.196005",
     "status": "completed"
    },
    "tags": []
   },
   "outputs": [
    {
     "name": "stdout",
     "output_type": "stream",
     "text": [
      "<class 'pandas.core.frame.DataFrame'>\n",
      "RangeIndex: 1197 entries, 0 to 1196\n",
      "Data columns (total 15 columns):\n",
      " #   Column                 Non-Null Count  Dtype  \n",
      "---  ------                 --------------  -----  \n",
      " 0   date                   1197 non-null   object \n",
      " 1   quarter                1197 non-null   object \n",
      " 2   department             1197 non-null   object \n",
      " 3   day                    1197 non-null   object \n",
      " 4   team                   1197 non-null   int64  \n",
      " 5   targeted_productivity  1197 non-null   float64\n",
      " 6   smv                    1197 non-null   float64\n",
      " 7   wip                    691 non-null    float64\n",
      " 8   over_time              1197 non-null   int64  \n",
      " 9   incentive              1197 non-null   int64  \n",
      " 10  idle_time              1197 non-null   float64\n",
      " 11  idle_men               1197 non-null   int64  \n",
      " 12  no_of_style_change     1197 non-null   int64  \n",
      " 13  no_of_workers          1197 non-null   float64\n",
      " 14  actual_productivity    1197 non-null   float64\n",
      "dtypes: float64(6), int64(5), object(4)\n",
      "memory usage: 140.4+ KB\n"
     ]
    }
   ],
   "source": [
    "data.info()"
   ]
  },
  {
   "cell_type": "code",
   "execution_count": 4,
   "id": "f32caafc",
   "metadata": {
    "execution": {
     "iopub.execute_input": "2021-09-01T12:38:07.830115Z",
     "iopub.status.busy": "2021-09-01T12:38:07.829311Z",
     "iopub.status.idle": "2021-09-01T12:38:07.835865Z",
     "shell.execute_reply": "2021-09-01T12:38:07.834831Z",
     "shell.execute_reply.started": "2021-09-01T12:34:45.068920Z"
    },
    "papermill": {
     "duration": 0.076371,
     "end_time": "2021-09-01T12:38:07.836109",
     "exception": false,
     "start_time": "2021-09-01T12:38:07.759738",
     "status": "completed"
    },
    "tags": []
   },
   "outputs": [
    {
     "data": {
      "text/plain": [
       "(1197, 15)"
      ]
     },
     "execution_count": 4,
     "metadata": {},
     "output_type": "execute_result"
    }
   ],
   "source": [
    "# check shape of dataset\n",
    "data.shape"
   ]
  },
  {
   "cell_type": "code",
   "execution_count": 5,
   "id": "f61a01cc",
   "metadata": {
    "execution": {
     "iopub.execute_input": "2021-09-01T12:38:08.425564Z",
     "iopub.status.busy": "2021-09-01T12:38:08.424898Z",
     "iopub.status.idle": "2021-09-01T12:38:08.465456Z",
     "shell.execute_reply": "2021-09-01T12:38:08.464920Z",
     "shell.execute_reply.started": "2021-09-01T12:34:45.501135Z"
    },
    "papermill": {
     "duration": 0.114574,
     "end_time": "2021-09-01T12:38:08.465600",
     "exception": false,
     "start_time": "2021-09-01T12:38:08.351026",
     "status": "completed"
    },
    "tags": []
   },
   "outputs": [
    {
     "data": {
      "text/html": [
       "<div>\n",
       "<style scoped>\n",
       "    .dataframe tbody tr th:only-of-type {\n",
       "        vertical-align: middle;\n",
       "    }\n",
       "\n",
       "    .dataframe tbody tr th {\n",
       "        vertical-align: top;\n",
       "    }\n",
       "\n",
       "    .dataframe thead th {\n",
       "        text-align: right;\n",
       "    }\n",
       "</style>\n",
       "<table border=\"1\" class=\"dataframe\">\n",
       "  <thead>\n",
       "    <tr style=\"text-align: right;\">\n",
       "      <th></th>\n",
       "      <th>team</th>\n",
       "      <th>targeted_productivity</th>\n",
       "      <th>smv</th>\n",
       "      <th>wip</th>\n",
       "      <th>over_time</th>\n",
       "      <th>incentive</th>\n",
       "      <th>idle_time</th>\n",
       "      <th>idle_men</th>\n",
       "      <th>no_of_style_change</th>\n",
       "      <th>no_of_workers</th>\n",
       "      <th>actual_productivity</th>\n",
       "    </tr>\n",
       "  </thead>\n",
       "  <tbody>\n",
       "    <tr>\n",
       "      <th>count</th>\n",
       "      <td>1197.000000</td>\n",
       "      <td>1197.000000</td>\n",
       "      <td>1197.000000</td>\n",
       "      <td>691.000000</td>\n",
       "      <td>1197.000000</td>\n",
       "      <td>1197.000000</td>\n",
       "      <td>1197.000000</td>\n",
       "      <td>1197.000000</td>\n",
       "      <td>1197.000000</td>\n",
       "      <td>1197.000000</td>\n",
       "      <td>1197.000000</td>\n",
       "    </tr>\n",
       "    <tr>\n",
       "      <th>mean</th>\n",
       "      <td>6.426901</td>\n",
       "      <td>0.729632</td>\n",
       "      <td>15.062172</td>\n",
       "      <td>1190.465991</td>\n",
       "      <td>4567.460317</td>\n",
       "      <td>38.210526</td>\n",
       "      <td>0.730159</td>\n",
       "      <td>0.369256</td>\n",
       "      <td>0.150376</td>\n",
       "      <td>34.609858</td>\n",
       "      <td>0.735091</td>\n",
       "    </tr>\n",
       "    <tr>\n",
       "      <th>std</th>\n",
       "      <td>3.463963</td>\n",
       "      <td>0.097891</td>\n",
       "      <td>10.943219</td>\n",
       "      <td>1837.455001</td>\n",
       "      <td>3348.823563</td>\n",
       "      <td>160.182643</td>\n",
       "      <td>12.709757</td>\n",
       "      <td>3.268987</td>\n",
       "      <td>0.427848</td>\n",
       "      <td>22.197687</td>\n",
       "      <td>0.174488</td>\n",
       "    </tr>\n",
       "    <tr>\n",
       "      <th>min</th>\n",
       "      <td>1.000000</td>\n",
       "      <td>0.070000</td>\n",
       "      <td>2.900000</td>\n",
       "      <td>7.000000</td>\n",
       "      <td>0.000000</td>\n",
       "      <td>0.000000</td>\n",
       "      <td>0.000000</td>\n",
       "      <td>0.000000</td>\n",
       "      <td>0.000000</td>\n",
       "      <td>2.000000</td>\n",
       "      <td>0.233705</td>\n",
       "    </tr>\n",
       "    <tr>\n",
       "      <th>25%</th>\n",
       "      <td>3.000000</td>\n",
       "      <td>0.700000</td>\n",
       "      <td>3.940000</td>\n",
       "      <td>774.500000</td>\n",
       "      <td>1440.000000</td>\n",
       "      <td>0.000000</td>\n",
       "      <td>0.000000</td>\n",
       "      <td>0.000000</td>\n",
       "      <td>0.000000</td>\n",
       "      <td>9.000000</td>\n",
       "      <td>0.650307</td>\n",
       "    </tr>\n",
       "    <tr>\n",
       "      <th>50%</th>\n",
       "      <td>6.000000</td>\n",
       "      <td>0.750000</td>\n",
       "      <td>15.260000</td>\n",
       "      <td>1039.000000</td>\n",
       "      <td>3960.000000</td>\n",
       "      <td>0.000000</td>\n",
       "      <td>0.000000</td>\n",
       "      <td>0.000000</td>\n",
       "      <td>0.000000</td>\n",
       "      <td>34.000000</td>\n",
       "      <td>0.773333</td>\n",
       "    </tr>\n",
       "    <tr>\n",
       "      <th>75%</th>\n",
       "      <td>9.000000</td>\n",
       "      <td>0.800000</td>\n",
       "      <td>24.260000</td>\n",
       "      <td>1252.500000</td>\n",
       "      <td>6960.000000</td>\n",
       "      <td>50.000000</td>\n",
       "      <td>0.000000</td>\n",
       "      <td>0.000000</td>\n",
       "      <td>0.000000</td>\n",
       "      <td>57.000000</td>\n",
       "      <td>0.850253</td>\n",
       "    </tr>\n",
       "    <tr>\n",
       "      <th>max</th>\n",
       "      <td>12.000000</td>\n",
       "      <td>0.800000</td>\n",
       "      <td>54.560000</td>\n",
       "      <td>23122.000000</td>\n",
       "      <td>25920.000000</td>\n",
       "      <td>3600.000000</td>\n",
       "      <td>300.000000</td>\n",
       "      <td>45.000000</td>\n",
       "      <td>2.000000</td>\n",
       "      <td>89.000000</td>\n",
       "      <td>1.120437</td>\n",
       "    </tr>\n",
       "  </tbody>\n",
       "</table>\n",
       "</div>"
      ],
      "text/plain": [
       "              team  targeted_productivity          smv           wip  \\\n",
       "count  1197.000000            1197.000000  1197.000000    691.000000   \n",
       "mean      6.426901               0.729632    15.062172   1190.465991   \n",
       "std       3.463963               0.097891    10.943219   1837.455001   \n",
       "min       1.000000               0.070000     2.900000      7.000000   \n",
       "25%       3.000000               0.700000     3.940000    774.500000   \n",
       "50%       6.000000               0.750000    15.260000   1039.000000   \n",
       "75%       9.000000               0.800000    24.260000   1252.500000   \n",
       "max      12.000000               0.800000    54.560000  23122.000000   \n",
       "\n",
       "          over_time    incentive    idle_time     idle_men  \\\n",
       "count   1197.000000  1197.000000  1197.000000  1197.000000   \n",
       "mean    4567.460317    38.210526     0.730159     0.369256   \n",
       "std     3348.823563   160.182643    12.709757     3.268987   \n",
       "min        0.000000     0.000000     0.000000     0.000000   \n",
       "25%     1440.000000     0.000000     0.000000     0.000000   \n",
       "50%     3960.000000     0.000000     0.000000     0.000000   \n",
       "75%     6960.000000    50.000000     0.000000     0.000000   \n",
       "max    25920.000000  3600.000000   300.000000    45.000000   \n",
       "\n",
       "       no_of_style_change  no_of_workers  actual_productivity  \n",
       "count         1197.000000    1197.000000          1197.000000  \n",
       "mean             0.150376      34.609858             0.735091  \n",
       "std              0.427848      22.197687             0.174488  \n",
       "min              0.000000       2.000000             0.233705  \n",
       "25%              0.000000       9.000000             0.650307  \n",
       "50%              0.000000      34.000000             0.773333  \n",
       "75%              0.000000      57.000000             0.850253  \n",
       "max              2.000000      89.000000             1.120437  "
      ]
     },
     "execution_count": 5,
     "metadata": {},
     "output_type": "execute_result"
    }
   ],
   "source": [
    "data.describe()"
   ]
  },
  {
   "cell_type": "code",
   "execution_count": 6,
   "id": "3f235947",
   "metadata": {
    "execution": {
     "iopub.execute_input": "2021-09-01T12:38:08.127125Z",
     "iopub.status.busy": "2021-09-01T12:38:08.126316Z",
     "iopub.status.idle": "2021-09-01T12:38:08.129604Z",
     "shell.execute_reply": "2021-09-01T12:38:08.130090Z",
     "shell.execute_reply.started": "2021-09-01T12:34:45.094116Z"
    },
    "papermill": {
     "duration": 0.07923,
     "end_time": "2021-09-01T12:38:08.130277",
     "exception": false,
     "start_time": "2021-09-01T12:38:08.051047",
     "status": "completed"
    },
    "tags": []
   },
   "outputs": [
    {
     "data": {
      "text/plain": [
       "sweing        691\n",
       "finishing     257\n",
       "finishing     249\n",
       "Name: department, dtype: int64"
      ]
     },
     "execution_count": 6,
     "metadata": {},
     "output_type": "execute_result"
    }
   ],
   "source": [
    "data['department'].value_counts()"
   ]
  },
  {
   "cell_type": "markdown",
   "id": "3e37167d",
   "metadata": {
    "papermill": {
     "duration": 0.065658,
     "end_time": "2021-09-01T12:38:08.597649",
     "exception": false,
     "start_time": "2021-09-01T12:38:08.531991",
     "status": "completed"
    },
    "tags": []
   },
   "source": [
    "<a id='3'></a>\n",
    "# <p style=\"background-color:violet; font-family:newtimeroman; font-size:120%; text-align:center; border-radius: 10px 25px;\">3.Data Exploration && Data Wrangling📚</p>"
   ]
  },
  {
   "cell_type": "code",
   "execution_count": 7,
   "id": "a3d3877b",
   "metadata": {
    "execution": {
     "iopub.execute_input": "2021-09-01T12:38:09.065777Z",
     "iopub.status.busy": "2021-09-01T12:38:09.065121Z",
     "iopub.status.idle": "2021-09-01T12:38:09.076526Z",
     "shell.execute_reply": "2021-09-01T12:38:09.076000Z",
     "shell.execute_reply.started": "2021-09-01T12:34:51.717919Z"
    },
    "papermill": {
     "duration": 0.088723,
     "end_time": "2021-09-01T12:38:09.076674",
     "exception": false,
     "start_time": "2021-09-01T12:38:08.987951",
     "status": "completed"
    },
    "tags": []
   },
   "outputs": [],
   "source": [
    "data['date'] = pd.to_datetime(data['date'])"
   ]
  },
  {
   "cell_type": "code",
   "execution_count": 8,
   "id": "e5e9f941",
   "metadata": {
    "execution": {
     "iopub.execute_input": "2021-09-01T12:38:08.741467Z",
     "iopub.status.busy": "2021-09-01T12:38:08.740610Z",
     "iopub.status.idle": "2021-09-01T12:38:08.745722Z",
     "shell.execute_reply": "2021-09-01T12:38:08.745186Z",
     "shell.execute_reply.started": "2021-09-01T12:34:48.931444Z"
    },
    "papermill": {
     "duration": 0.081872,
     "end_time": "2021-09-01T12:38:08.745869",
     "exception": false,
     "start_time": "2021-09-01T12:38:08.663997",
     "status": "completed"
    },
    "tags": []
   },
   "outputs": [
    {
     "data": {
      "text/plain": [
       "date                       0\n",
       "quarter                    0\n",
       "department                 0\n",
       "day                        0\n",
       "team                       0\n",
       "targeted_productivity      0\n",
       "smv                        0\n",
       "wip                      506\n",
       "over_time                  0\n",
       "incentive                  0\n",
       "idle_time                  0\n",
       "idle_men                   0\n",
       "no_of_style_change         0\n",
       "no_of_workers              0\n",
       "actual_productivity        0\n",
       "dtype: int64"
      ]
     },
     "execution_count": 8,
     "metadata": {},
     "output_type": "execute_result"
    }
   ],
   "source": [
    "# let's check null values\n",
    "data.isnull().sum()"
   ]
  },
  {
   "cell_type": "code",
   "execution_count": 9,
   "id": "a52ee3c8",
   "metadata": {
    "execution": {
     "iopub.execute_input": "2021-09-01T12:38:08.887476Z",
     "iopub.status.busy": "2021-09-01T12:38:08.886540Z",
     "iopub.status.idle": "2021-09-01T12:38:08.920922Z",
     "shell.execute_reply": "2021-09-01T12:38:08.920295Z",
     "shell.execute_reply.started": "2021-09-01T12:34:49.401108Z"
    },
    "papermill": {
     "duration": 0.108802,
     "end_time": "2021-09-01T12:38:08.921060",
     "exception": false,
     "start_time": "2021-09-01T12:38:08.812258",
     "status": "completed"
    },
    "tags": []
   },
   "outputs": [
    {
     "data": {
      "text/html": [
       "<div>\n",
       "<style scoped>\n",
       "    .dataframe tbody tr th:only-of-type {\n",
       "        vertical-align: middle;\n",
       "    }\n",
       "\n",
       "    .dataframe tbody tr th {\n",
       "        vertical-align: top;\n",
       "    }\n",
       "\n",
       "    .dataframe thead th {\n",
       "        text-align: right;\n",
       "    }\n",
       "</style>\n",
       "<table border=\"1\" class=\"dataframe\">\n",
       "  <thead>\n",
       "    <tr style=\"text-align: right;\">\n",
       "      <th></th>\n",
       "      <th>quarter</th>\n",
       "      <th>department</th>\n",
       "      <th>day</th>\n",
       "    </tr>\n",
       "  </thead>\n",
       "  <tbody>\n",
       "    <tr>\n",
       "      <th>count</th>\n",
       "      <td>1197</td>\n",
       "      <td>1197</td>\n",
       "      <td>1197</td>\n",
       "    </tr>\n",
       "    <tr>\n",
       "      <th>unique</th>\n",
       "      <td>5</td>\n",
       "      <td>3</td>\n",
       "      <td>6</td>\n",
       "    </tr>\n",
       "    <tr>\n",
       "      <th>top</th>\n",
       "      <td>Quarter1</td>\n",
       "      <td>sweing</td>\n",
       "      <td>Wednesday</td>\n",
       "    </tr>\n",
       "    <tr>\n",
       "      <th>freq</th>\n",
       "      <td>360</td>\n",
       "      <td>691</td>\n",
       "      <td>208</td>\n",
       "    </tr>\n",
       "  </tbody>\n",
       "</table>\n",
       "</div>"
      ],
      "text/plain": [
       "         quarter department        day\n",
       "count       1197       1197       1197\n",
       "unique         5          3          6\n",
       "top     Quarter1     sweing  Wednesday\n",
       "freq         360        691        208"
      ]
     },
     "execution_count": 9,
     "metadata": {},
     "output_type": "execute_result"
    }
   ],
   "source": [
    "data.describe(include=['O'])"
   ]
  },
  {
   "cell_type": "code",
   "execution_count": 10,
   "id": "6f567bf7",
   "metadata": {
    "execution": {
     "iopub.execute_input": "2021-09-01T12:38:07.983765Z",
     "iopub.status.busy": "2021-09-01T12:38:07.983037Z",
     "iopub.status.idle": "2021-09-01T12:38:07.985764Z",
     "shell.execute_reply": "2021-09-01T12:38:07.985226Z",
     "shell.execute_reply.started": "2021-09-01T12:34:45.077233Z"
    },
    "papermill": {
     "duration": 0.075745,
     "end_time": "2021-09-01T12:38:07.985930",
     "exception": false,
     "start_time": "2021-09-01T12:38:07.910185",
     "status": "completed"
    },
    "tags": []
   },
   "outputs": [],
   "source": [
    "data['department']=data['department'].replace(['sweing'],['sewing'])"
   ]
  },
  {
   "cell_type": "code",
   "execution_count": 11,
   "id": "b07f73f7",
   "metadata": {
    "execution": {
     "iopub.execute_input": "2021-09-01T12:38:09.217776Z",
     "iopub.status.busy": "2021-09-01T12:38:09.216923Z",
     "iopub.status.idle": "2021-09-01T12:38:09.221154Z",
     "shell.execute_reply": "2021-09-01T12:38:09.220581Z",
     "shell.execute_reply.started": "2021-09-01T12:34:52.201717Z"
    },
    "papermill": {
     "duration": 0.077995,
     "end_time": "2021-09-01T12:38:09.221308",
     "exception": false,
     "start_time": "2021-09-01T12:38:09.143313",
     "status": "completed"
    },
    "tags": []
   },
   "outputs": [],
   "source": [
    "data['department'] = data['department'].apply(lambda x: 'finishing' if x == ('finishing ' or 'finishing' ) else 'sewing' )\n",
    "data['wip'].fillna(int(data['wip'].mean()), inplace=True)"
   ]
  },
  {
   "cell_type": "code",
   "execution_count": 12,
   "id": "a7f0baa3",
   "metadata": {
    "execution": {
     "iopub.execute_input": "2021-09-01T12:38:09.367672Z",
     "iopub.status.busy": "2021-09-01T12:38:09.366965Z",
     "iopub.status.idle": "2021-09-01T12:38:09.369776Z",
     "shell.execute_reply": "2021-09-01T12:38:09.370257Z",
     "shell.execute_reply.started": "2021-09-01T12:34:52.801128Z"
    },
    "papermill": {
     "duration": 0.080881,
     "end_time": "2021-09-01T12:38:09.370481",
     "exception": false,
     "start_time": "2021-09-01T12:38:09.289600",
     "status": "completed"
    },
    "tags": []
   },
   "outputs": [
    {
     "data": {
      "text/plain": [
       "date                     0\n",
       "quarter                  0\n",
       "department               0\n",
       "day                      0\n",
       "team                     0\n",
       "targeted_productivity    0\n",
       "smv                      0\n",
       "wip                      0\n",
       "over_time                0\n",
       "incentive                0\n",
       "idle_time                0\n",
       "idle_men                 0\n",
       "no_of_style_change       0\n",
       "no_of_workers            0\n",
       "actual_productivity      0\n",
       "dtype: int64"
      ]
     },
     "execution_count": 12,
     "metadata": {},
     "output_type": "execute_result"
    }
   ],
   "source": [
    "data.isnull().sum()"
   ]
  },
  {
   "cell_type": "code",
   "execution_count": 13,
   "id": "ba959692",
   "metadata": {
    "execution": {
     "iopub.execute_input": "2021-09-01T12:38:09.511209Z",
     "iopub.status.busy": "2021-09-01T12:38:09.510579Z",
     "iopub.status.idle": "2021-09-01T12:38:09.541713Z",
     "shell.execute_reply": "2021-09-01T12:38:09.541102Z",
     "shell.execute_reply.started": "2021-09-01T12:34:54.151375Z"
    },
    "papermill": {
     "duration": 0.102036,
     "end_time": "2021-09-01T12:38:09.541893",
     "exception": false,
     "start_time": "2021-09-01T12:38:09.439857",
     "status": "completed"
    },
    "tags": []
   },
   "outputs": [],
   "source": [
    "data1=data.to_csv('data.csv')"
   ]
  },
  {
   "cell_type": "code",
   "execution_count": 14,
   "id": "1b81405d",
   "metadata": {
    "execution": {
     "iopub.execute_input": "2021-09-01T12:38:09.700297Z",
     "iopub.status.busy": "2021-09-01T12:38:09.699408Z",
     "iopub.status.idle": "2021-09-01T12:38:09.704199Z",
     "shell.execute_reply": "2021-09-01T12:38:09.703667Z",
     "shell.execute_reply.started": "2021-09-01T12:34:55.321346Z"
    },
    "papermill": {
     "duration": 0.093421,
     "end_time": "2021-09-01T12:38:09.704378",
     "exception": false,
     "start_time": "2021-09-01T12:38:09.610957",
     "status": "completed"
    },
    "tags": []
   },
   "outputs": [
    {
     "data": {
      "text/html": [
       "<div>\n",
       "<style scoped>\n",
       "    .dataframe tbody tr th:only-of-type {\n",
       "        vertical-align: middle;\n",
       "    }\n",
       "\n",
       "    .dataframe tbody tr th {\n",
       "        vertical-align: top;\n",
       "    }\n",
       "\n",
       "    .dataframe thead th {\n",
       "        text-align: right;\n",
       "    }\n",
       "</style>\n",
       "<table border=\"1\" class=\"dataframe\">\n",
       "  <thead>\n",
       "    <tr style=\"text-align: right;\">\n",
       "      <th></th>\n",
       "      <th>date</th>\n",
       "      <th>quarter</th>\n",
       "      <th>department</th>\n",
       "      <th>day</th>\n",
       "      <th>team</th>\n",
       "      <th>targeted_productivity</th>\n",
       "      <th>smv</th>\n",
       "      <th>wip</th>\n",
       "      <th>over_time</th>\n",
       "      <th>incentive</th>\n",
       "      <th>idle_time</th>\n",
       "      <th>idle_men</th>\n",
       "      <th>no_of_style_change</th>\n",
       "      <th>no_of_workers</th>\n",
       "      <th>actual_productivity</th>\n",
       "    </tr>\n",
       "  </thead>\n",
       "  <tbody>\n",
       "    <tr>\n",
       "      <th>0</th>\n",
       "      <td>2015-01-01</td>\n",
       "      <td>Quarter1</td>\n",
       "      <td>sewing</td>\n",
       "      <td>Thursday</td>\n",
       "      <td>8</td>\n",
       "      <td>0.80</td>\n",
       "      <td>26.16</td>\n",
       "      <td>1108.0</td>\n",
       "      <td>7080</td>\n",
       "      <td>98</td>\n",
       "      <td>0.0</td>\n",
       "      <td>0</td>\n",
       "      <td>0</td>\n",
       "      <td>59.0</td>\n",
       "      <td>0.940725</td>\n",
       "    </tr>\n",
       "    <tr>\n",
       "      <th>1</th>\n",
       "      <td>2015-01-01</td>\n",
       "      <td>Quarter1</td>\n",
       "      <td>finishing</td>\n",
       "      <td>Thursday</td>\n",
       "      <td>1</td>\n",
       "      <td>0.75</td>\n",
       "      <td>3.94</td>\n",
       "      <td>1190.0</td>\n",
       "      <td>960</td>\n",
       "      <td>0</td>\n",
       "      <td>0.0</td>\n",
       "      <td>0</td>\n",
       "      <td>0</td>\n",
       "      <td>8.0</td>\n",
       "      <td>0.886500</td>\n",
       "    </tr>\n",
       "    <tr>\n",
       "      <th>2</th>\n",
       "      <td>2015-01-01</td>\n",
       "      <td>Quarter1</td>\n",
       "      <td>sewing</td>\n",
       "      <td>Thursday</td>\n",
       "      <td>11</td>\n",
       "      <td>0.80</td>\n",
       "      <td>11.41</td>\n",
       "      <td>968.0</td>\n",
       "      <td>3660</td>\n",
       "      <td>50</td>\n",
       "      <td>0.0</td>\n",
       "      <td>0</td>\n",
       "      <td>0</td>\n",
       "      <td>30.5</td>\n",
       "      <td>0.800570</td>\n",
       "    </tr>\n",
       "    <tr>\n",
       "      <th>3</th>\n",
       "      <td>2015-01-01</td>\n",
       "      <td>Quarter1</td>\n",
       "      <td>sewing</td>\n",
       "      <td>Thursday</td>\n",
       "      <td>12</td>\n",
       "      <td>0.80</td>\n",
       "      <td>11.41</td>\n",
       "      <td>968.0</td>\n",
       "      <td>3660</td>\n",
       "      <td>50</td>\n",
       "      <td>0.0</td>\n",
       "      <td>0</td>\n",
       "      <td>0</td>\n",
       "      <td>30.5</td>\n",
       "      <td>0.800570</td>\n",
       "    </tr>\n",
       "    <tr>\n",
       "      <th>4</th>\n",
       "      <td>2015-01-01</td>\n",
       "      <td>Quarter1</td>\n",
       "      <td>sewing</td>\n",
       "      <td>Thursday</td>\n",
       "      <td>6</td>\n",
       "      <td>0.80</td>\n",
       "      <td>25.90</td>\n",
       "      <td>1170.0</td>\n",
       "      <td>1920</td>\n",
       "      <td>50</td>\n",
       "      <td>0.0</td>\n",
       "      <td>0</td>\n",
       "      <td>0</td>\n",
       "      <td>56.0</td>\n",
       "      <td>0.800382</td>\n",
       "    </tr>\n",
       "  </tbody>\n",
       "</table>\n",
       "</div>"
      ],
      "text/plain": [
       "        date   quarter department       day  team  targeted_productivity  \\\n",
       "0 2015-01-01  Quarter1     sewing  Thursday     8                   0.80   \n",
       "1 2015-01-01  Quarter1  finishing  Thursday     1                   0.75   \n",
       "2 2015-01-01  Quarter1     sewing  Thursday    11                   0.80   \n",
       "3 2015-01-01  Quarter1     sewing  Thursday    12                   0.80   \n",
       "4 2015-01-01  Quarter1     sewing  Thursday     6                   0.80   \n",
       "\n",
       "     smv     wip  over_time  incentive  idle_time  idle_men  \\\n",
       "0  26.16  1108.0       7080         98        0.0         0   \n",
       "1   3.94  1190.0        960          0        0.0         0   \n",
       "2  11.41   968.0       3660         50        0.0         0   \n",
       "3  11.41   968.0       3660         50        0.0         0   \n",
       "4  25.90  1170.0       1920         50        0.0         0   \n",
       "\n",
       "   no_of_style_change  no_of_workers  actual_productivity  \n",
       "0                   0           59.0             0.940725  \n",
       "1                   0            8.0             0.886500  \n",
       "2                   0           30.5             0.800570  \n",
       "3                   0           30.5             0.800570  \n",
       "4                   0           56.0             0.800382  "
      ]
     },
     "execution_count": 14,
     "metadata": {},
     "output_type": "execute_result"
    }
   ],
   "source": [
    "data.head()"
   ]
  },
  {
   "cell_type": "code",
   "execution_count": 15,
   "id": "ccba58ad",
   "metadata": {
    "execution": {
     "iopub.execute_input": "2021-09-01T12:38:09.850248Z",
     "iopub.status.busy": "2021-09-01T12:38:09.848913Z",
     "iopub.status.idle": "2021-09-01T12:38:10.320723Z",
     "shell.execute_reply": "2021-09-01T12:38:10.320053Z",
     "shell.execute_reply.started": "2021-09-01T12:34:57.031462Z"
    },
    "papermill": {
     "duration": 0.546952,
     "end_time": "2021-09-01T12:38:10.320887",
     "exception": false,
     "start_time": "2021-09-01T12:38:09.773935",
     "status": "completed"
    },
    "tags": []
   },
   "outputs": [
    {
     "data": {
      "text/plain": [
       "<AxesSubplot:>"
      ]
     },
     "execution_count": 15,
     "metadata": {},
     "output_type": "execute_result"
    },
    {
     "data": {
      "image/png": "[encoded data removed]",
      "text/plain": [
       "<Figure size 864x576 with 2 Axes>"
      ]
     },
     "metadata": {},
     "output_type": "display_data"
    }
   ],
   "source": [
    "plt.figure(figsize=(12,8))\n",
    "sns.heatmap(data.corr(),cmap=\"coolwarm\")"
   ]
  },
  {
   "cell_type": "markdown",
   "id": "046fd2dd",
   "metadata": {
    "papermill": {
     "duration": 0.069047,
     "end_time": "2021-09-01T12:38:10.460531",
     "exception": false,
     "start_time": "2021-09-01T12:38:10.391484",
     "status": "completed"
    },
    "tags": []
   },
   "source": [
    "Highest Positive Correlations:\n",
    "\n",
    "* No_of workers and smv (0.91)\n",
    "* No_of workers and over_time (0.73)\n",
    "* Over_time and smv (0.67)\n",
    "* Idle_men and Idle_time (0.56)\n",
    "* Positive Correlations:\n",
    "\n",
    "* No_of workers and no_of_style_change(0.33)\n",
    "* No_of_style_changehas and smv (0.32)\n",
    "* There isnt any obvious negative correlation between features"
   ]
  },
  {
   "cell_type": "markdown",
   "id": "bbb494dc",
   "metadata": {
    "papermill": {
     "duration": 0.070592,
     "end_time": "2021-09-01T12:38:10.600776",
     "exception": false,
     "start_time": "2021-09-01T12:38:10.530184",
     "status": "completed"
    },
    "tags": []
   },
   "source": [
    "<a id='5'></a>\n",
    "# <p style=\"background-color:violet; font-family:newtimeroman; font-size:120%; text-align:center; border-radius: 10px 25px;\">Data Visualization</p>"
   ]
  },
  {
   "cell_type": "markdown",
   "id": "a1b7c8eb",
   "metadata": {
    "papermill": {
     "duration": 0.071061,
     "end_time": "2021-09-01T12:38:10.741578",
     "exception": false,
     "start_time": "2021-09-01T12:38:10.670517",
     "status": "completed"
    },
    "tags": []
   },
   "source": [
    "## Team :Associated team number with the instance"
   ]
  },
  {
   "cell_type": "code",
   "execution_count": 16,
   "id": "c6c5d5a5",
   "metadata": {
    "execution": {
     "iopub.execute_input": "2021-09-01T12:38:10.898089Z",
     "iopub.status.busy": "2021-09-01T12:38:10.894521Z",
     "iopub.status.idle": "2021-09-01T12:38:11.127489Z",
     "shell.execute_reply": "2021-09-01T12:38:11.126946Z",
     "shell.execute_reply.started": "2021-09-01T12:34:58.621199Z"
    },
    "papermill": {
     "duration": 0.314705,
     "end_time": "2021-09-01T12:38:11.127649",
     "exception": false,
     "start_time": "2021-09-01T12:38:10.812944",
     "status": "completed"
    },
    "tags": []
   },
   "outputs": [
    {
     "data": {
      "image/png": "[encoded data removed]",
      "text/plain": [
       "<Figure size 432x288 with 1 Axes>"
      ]
     },
     "metadata": {},
     "output_type": "display_data"
    }
   ],
   "source": [
    "ax = sns.countplot(x = 'team', data = data, palette=[\"orange\", \"violet\"])\n",
    "plt.xlabel('No of Teams')\n",
    "plt.show()"
   ]
  },
  {
   "cell_type": "markdown",
   "id": "b241cd74",
   "metadata": {
    "papermill": {
     "duration": 0.070583,
     "end_time": "2021-09-01T12:38:11.269174",
     "exception": false,
     "start_time": "2021-09-01T12:38:11.198591",
     "status": "completed"
    },
    "tags": []
   },
   "source": [
    "There are 12 teams. Because It is highly desirable among the decision makers in the garments industry to track, analyse and predict the productivity performance of the working teams in their factories, my analsys will be on team basis."
   ]
  },
  {
   "cell_type": "code",
   "execution_count": 17,
   "id": "06523616",
   "metadata": {
    "execution": {
     "iopub.execute_input": "2021-09-01T12:38:11.420044Z",
     "iopub.status.busy": "2021-09-01T12:38:11.419322Z",
     "iopub.status.idle": "2021-09-01T12:38:11.641154Z",
     "shell.execute_reply": "2021-09-01T12:38:11.640600Z",
     "shell.execute_reply.started": "2021-09-01T12:34:59.051321Z"
    },
    "papermill": {
     "duration": 0.301273,
     "end_time": "2021-09-01T12:38:11.641308",
     "exception": false,
     "start_time": "2021-09-01T12:38:11.340035",
     "status": "completed"
    },
    "tags": []
   },
   "outputs": [
    {
     "data": {
      "image/png": "[encoded data removed]",
      "text/plain": [
       "<Figure size 432x288 with 1 Axes>"
      ]
     },
     "metadata": {},
     "output_type": "display_data"
    }
   ],
   "source": [
    "ax = sns.countplot(x = 'department', data = data, palette=[\"blue\", \"#85c6a9\"])\n",
    "plt.xlabel('No of Departments')\n",
    "plt.show()"
   ]
  },
  {
   "cell_type": "markdown",
   "id": "f8186a30",
   "metadata": {
    "papermill": {
     "duration": 0.071458,
     "end_time": "2021-09-01T12:38:11.784184",
     "exception": false,
     "start_time": "2021-09-01T12:38:11.712726",
     "status": "completed"
    },
    "tags": []
   },
   "source": [
    "There are 3 department namely sweing, finishing and finishing but we need to collect them into two group"
   ]
  },
  {
   "cell_type": "code",
   "execution_count": 18,
   "id": "418c9144",
   "metadata": {
    "execution": {
     "iopub.execute_input": "2021-09-01T12:38:11.937239Z",
     "iopub.status.busy": "2021-09-01T12:38:11.935275Z",
     "iopub.status.idle": "2021-09-01T12:38:12.120091Z",
     "shell.execute_reply": "2021-09-01T12:38:12.120553Z",
     "shell.execute_reply.started": "2021-09-01T12:34:59.561497Z"
    },
    "papermill": {
     "duration": 0.264722,
     "end_time": "2021-09-01T12:38:12.120762",
     "exception": false,
     "start_time": "2021-09-01T12:38:11.856040",
     "status": "completed"
    },
    "tags": []
   },
   "outputs": [
    {
     "data": {
      "image/png": "[encoded data removed]",
      "text/plain": [
       "<Figure size 432x288 with 1 Axes>"
      ]
     },
     "metadata": {},
     "output_type": "display_data"
    }
   ],
   "source": [
    "ax = sns.countplot(x = 'day', data = data, palette=[\"red\", \"green\"])\n",
    "plt.xlabel('No of days')\n",
    "plt.show()"
   ]
  },
  {
   "cell_type": "markdown",
   "id": "e9692504",
   "metadata": {
    "papermill": {
     "duration": 0.072904,
     "end_time": "2021-09-01T12:38:12.265983",
     "exception": false,
     "start_time": "2021-09-01T12:38:12.193079",
     "status": "completed"
    },
    "tags": []
   },
   "source": [
    "Friday is not a working day"
   ]
  },
  {
   "cell_type": "code",
   "execution_count": 19,
   "id": "f821a42f",
   "metadata": {
    "execution": {
     "iopub.execute_input": "2021-09-01T12:38:12.417067Z",
     "iopub.status.busy": "2021-09-01T12:38:12.416433Z",
     "iopub.status.idle": "2021-09-01T12:38:12.576550Z",
     "shell.execute_reply": "2021-09-01T12:38:12.576998Z",
     "shell.execute_reply.started": "2021-09-01T12:35:00.011465Z"
    },
    "papermill": {
     "duration": 0.238729,
     "end_time": "2021-09-01T12:38:12.577213",
     "exception": false,
     "start_time": "2021-09-01T12:38:12.338484",
     "status": "completed"
    },
    "tags": []
   },
   "outputs": [
    {
     "data": {
      "image/png": "[encoded data removed]",
      "text/plain": [
       "<Figure size 432x288 with 1 Axes>"
      ]
     },
     "metadata": {},
     "output_type": "display_data"
    }
   ],
   "source": [
    "ax = sns.countplot(x = 'quarter', data = data, palette=[\"orange\", \"blue\"])\n",
    "plt.xlabel('No of quarters')\n",
    "plt.show()"
   ]
  },
  {
   "cell_type": "markdown",
   "id": "3fe6f26a",
   "metadata": {
    "papermill": {
     "duration": 0.072674,
     "end_time": "2021-09-01T12:38:12.723266",
     "exception": false,
     "start_time": "2021-09-01T12:38:12.650592",
     "status": "completed"
    },
    "tags": []
   },
   "source": [
    "There are 5 quarter as quarter 1, quarter 2, quarter 3, quarter 4, quarter 5, which are not evenly distributed"
   ]
  },
  {
   "cell_type": "markdown",
   "id": "ba68f3bc",
   "metadata": {
    "papermill": {
     "duration": 0.07246,
     "end_time": "2021-09-01T12:38:12.868913",
     "exception": false,
     "start_time": "2021-09-01T12:38:12.796453",
     "status": "completed"
    },
    "tags": []
   },
   "source": [
    "#### Numeric Features"
   ]
  },
  {
   "cell_type": "code",
   "execution_count": 20,
   "id": "4150c85d",
   "metadata": {
    "execution": {
     "iopub.execute_input": "2021-09-01T12:38:13.020819Z",
     "iopub.status.busy": "2021-09-01T12:38:13.020162Z",
     "iopub.status.idle": "2021-09-01T12:38:13.027531Z",
     "shell.execute_reply": "2021-09-01T12:38:13.027992Z",
     "shell.execute_reply.started": "2021-09-01T12:35:00.761262Z"
    },
    "papermill": {
     "duration": 0.084042,
     "end_time": "2021-09-01T12:38:13.028183",
     "exception": false,
     "start_time": "2021-09-01T12:38:12.944141",
     "status": "completed"
    },
    "tags": []
   },
   "outputs": [
    {
     "data": {
      "text/plain": [
       "['team',\n",
       " 'targeted_productivity',\n",
       " 'smv',\n",
       " 'wip',\n",
       " 'over_time',\n",
       " 'incentive',\n",
       " 'idle_time',\n",
       " 'idle_men',\n",
       " 'no_of_style_change',\n",
       " 'no_of_workers',\n",
       " 'actual_productivity']"
      ]
     },
     "execution_count": 20,
     "metadata": {},
     "output_type": "execute_result"
    }
   ],
   "source": [
    "data.select_dtypes(include=np.number).columns.tolist()"
   ]
  },
  {
   "cell_type": "markdown",
   "id": "75b65b92",
   "metadata": {
    "papermill": {
     "duration": 0.073909,
     "end_time": "2021-09-01T12:38:13.175431",
     "exception": false,
     "start_time": "2021-09-01T12:38:13.101522",
     "status": "completed"
    },
    "tags": []
   },
   "source": [
    "In this case we have 11 numeric feature as given above but no_of_style_change will be handled as a categorical feature"
   ]
  },
  {
   "cell_type": "markdown",
   "id": "260cbd9b",
   "metadata": {
    "papermill": {
     "duration": 0.072574,
     "end_time": "2021-09-01T12:38:13.320791",
     "exception": false,
     "start_time": "2021-09-01T12:38:13.248217",
     "status": "completed"
    },
    "tags": []
   },
   "source": [
    "### SMV : Standard Minute Value, it is the allocated time for a task"
   ]
  },
  {
   "cell_type": "code",
   "execution_count": 21,
   "id": "9f90a029",
   "metadata": {
    "execution": {
     "iopub.execute_input": "2021-09-01T12:38:13.469628Z",
     "iopub.status.busy": "2021-09-01T12:38:13.469011Z",
     "iopub.status.idle": "2021-09-01T12:38:14.175170Z",
     "shell.execute_reply": "2021-09-01T12:38:14.174322Z",
     "shell.execute_reply.started": "2021-09-01T12:35:01.570747Z"
    },
    "papermill": {
     "duration": 0.781941,
     "end_time": "2021-09-01T12:38:14.175392",
     "exception": false,
     "start_time": "2021-09-01T12:38:13.393451",
     "status": "completed"
    },
    "tags": []
   },
   "outputs": [
    {
     "data": {
      "image/png": "[encoded data removed]",
      "text/plain": [
       "<Figure size 1800x720 with 1 Axes>"
      ]
     },
     "metadata": {},
     "output_type": "display_data"
    }
   ],
   "source": [
    "plt.figure(figsize=(25, 10))\n",
    "palette = \"Set3\"\n",
    "\n",
    "sns.boxplot(x=\"team\", y=\"smv\", hue=\"department\", data = data,\n",
    "     palette = palette, fliersize = 0)\n",
    "\n",
    "plt.title('smv distribution by team',fontsize= 14)\n",
    "plt.show()"
   ]
  },
  {
   "cell_type": "markdown",
   "id": "4beb5b79",
   "metadata": {
    "papermill": {
     "duration": 0.074986,
     "end_time": "2021-09-01T12:38:14.325299",
     "exception": false,
     "start_time": "2021-09-01T12:38:14.250313",
     "status": "completed"
    },
    "tags": []
   },
   "source": [
    "When we look into smv boxplot on team basis with department seperation, it can be clearly seen that while there are fluctuations between teams in the sewing department, the finishing department has almost evenly distributed smv values for each team."
   ]
  },
  {
   "cell_type": "code",
   "execution_count": 22,
   "id": "d53a1a30",
   "metadata": {
    "execution": {
     "iopub.execute_input": "2021-09-01T12:38:14.484030Z",
     "iopub.status.busy": "2021-09-01T12:38:14.483389Z",
     "iopub.status.idle": "2021-09-01T12:38:14.842053Z",
     "shell.execute_reply": "2021-09-01T12:38:14.842626Z",
     "shell.execute_reply.started": "2021-09-01T12:35:02.266156Z"
    },
    "papermill": {
     "duration": 0.442602,
     "end_time": "2021-09-01T12:38:14.842841",
     "exception": false,
     "start_time": "2021-09-01T12:38:14.400239",
     "status": "completed"
    },
    "tags": []
   },
   "outputs": [
    {
     "data": {
      "text/plain": [
       "<AxesSubplot:xlabel='no_of_workers', ylabel='smv'>"
      ]
     },
     "execution_count": 22,
     "metadata": {},
     "output_type": "execute_result"
    },
    {
     "data": {
      "image/png": "[encoded data removed]",
      "text/plain": [
       "<Figure size 432x288 with 1 Axes>"
      ]
     },
     "metadata": {},
     "output_type": "display_data"
    }
   ],
   "source": [
    "sns.scatterplot(data=data, x=\"no_of_workers\", y=\"smv\", hue=\"department\")"
   ]
  },
  {
   "cell_type": "markdown",
   "id": "4684a5e5",
   "metadata": {
    "papermill": {
     "duration": 0.079111,
     "end_time": "2021-09-01T12:38:14.999549",
     "exception": false,
     "start_time": "2021-09-01T12:38:14.920438",
     "status": "completed"
    },
    "tags": []
   },
   "source": [
    "For the finising department smv doees not change with no_of_workers"
   ]
  },
  {
   "cell_type": "code",
   "execution_count": 23,
   "id": "fbe5069b",
   "metadata": {
    "execution": {
     "iopub.execute_input": "2021-09-01T12:38:15.161545Z",
     "iopub.status.busy": "2021-09-01T12:38:15.160852Z",
     "iopub.status.idle": "2021-09-01T12:38:15.312222Z",
     "shell.execute_reply": "2021-09-01T12:38:15.312790Z",
     "shell.execute_reply.started": "2021-09-01T12:35:02.643527Z"
    },
    "papermill": {
     "duration": 0.236473,
     "end_time": "2021-09-01T12:38:15.312973",
     "exception": false,
     "start_time": "2021-09-01T12:38:15.076500",
     "status": "completed"
    },
    "tags": []
   },
   "outputs": [
    {
     "data": {
      "image/png": "[encoded data removed]",
      "text/plain": [
       "<Figure size 432x288 with 1 Axes>"
      ]
     },
     "metadata": {},
     "output_type": "display_data"
    }
   ],
   "source": [
    "sns.boxplot(x='department',y='over_time',data=data)\n",
    "plt.show()"
   ]
  },
  {
   "cell_type": "code",
   "execution_count": 24,
   "id": "0d73bbae",
   "metadata": {
    "execution": {
     "iopub.execute_input": "2021-09-01T12:38:15.470809Z",
     "iopub.status.busy": "2021-09-01T12:38:15.470091Z",
     "iopub.status.idle": "2021-09-01T12:38:15.844409Z",
     "shell.execute_reply": "2021-09-01T12:38:15.844978Z",
     "shell.execute_reply.started": "2021-09-01T12:35:02.831438Z"
    },
    "papermill": {
     "duration": 0.454626,
     "end_time": "2021-09-01T12:38:15.845187",
     "exception": false,
     "start_time": "2021-09-01T12:38:15.390561",
     "status": "completed"
    },
    "tags": []
   },
   "outputs": [
    {
     "data": {
      "image/png": "[encoded data removed]",
      "text/plain": [
       "<Figure size 432x288 with 1 Axes>"
      ]
     },
     "metadata": {},
     "output_type": "display_data"
    }
   ],
   "source": [
    "sns.boxplot(x='team',y='over_time',data=data)\n",
    "plt.show()"
   ]
  },
  {
   "cell_type": "code",
   "execution_count": 25,
   "id": "2a144bf2",
   "metadata": {
    "execution": {
     "iopub.execute_input": "2021-09-01T12:38:16.006207Z",
     "iopub.status.busy": "2021-09-01T12:38:16.005609Z",
     "iopub.status.idle": "2021-09-01T12:38:16.012593Z",
     "shell.execute_reply": "2021-09-01T12:38:16.013262Z",
     "shell.execute_reply.started": "2021-09-01T12:35:03.212716Z"
    },
    "papermill": {
     "duration": 0.090273,
     "end_time": "2021-09-01T12:38:16.013489",
     "exception": false,
     "start_time": "2021-09-01T12:38:15.923216",
     "status": "completed"
    },
    "tags": []
   },
   "outputs": [
    {
     "data": {
      "text/plain": [
       "(8, 15)"
      ]
     },
     "execution_count": 25,
     "metadata": {},
     "output_type": "execute_result"
    }
   ],
   "source": [
    "data[data['over_time']>12000].shape"
   ]
  },
  {
   "cell_type": "code",
   "execution_count": 26,
   "id": "117e119e",
   "metadata": {
    "execution": {
     "iopub.execute_input": "2021-09-01T12:38:16.174914Z",
     "iopub.status.busy": "2021-09-01T12:38:16.174216Z",
     "iopub.status.idle": "2021-09-01T12:38:16.199251Z",
     "shell.execute_reply": "2021-09-01T12:38:16.199782Z",
     "shell.execute_reply.started": "2021-09-01T12:35:03.501374Z"
    },
    "papermill": {
     "duration": 0.107075,
     "end_time": "2021-09-01T12:38:16.199953",
     "exception": false,
     "start_time": "2021-09-01T12:38:16.092878",
     "status": "completed"
    },
    "tags": []
   },
   "outputs": [
    {
     "data": {
      "text/html": [
       "<div>\n",
       "<style scoped>\n",
       "    .dataframe tbody tr th:only-of-type {\n",
       "        vertical-align: middle;\n",
       "    }\n",
       "\n",
       "    .dataframe tbody tr th {\n",
       "        vertical-align: top;\n",
       "    }\n",
       "\n",
       "    .dataframe thead th {\n",
       "        text-align: right;\n",
       "    }\n",
       "</style>\n",
       "<table border=\"1\" class=\"dataframe\">\n",
       "  <thead>\n",
       "    <tr style=\"text-align: right;\">\n",
       "      <th></th>\n",
       "      <th>date</th>\n",
       "      <th>quarter</th>\n",
       "      <th>department</th>\n",
       "      <th>day</th>\n",
       "      <th>team</th>\n",
       "      <th>targeted_productivity</th>\n",
       "      <th>smv</th>\n",
       "      <th>wip</th>\n",
       "      <th>over_time</th>\n",
       "      <th>incentive</th>\n",
       "      <th>idle_time</th>\n",
       "      <th>idle_men</th>\n",
       "      <th>no_of_style_change</th>\n",
       "      <th>no_of_workers</th>\n",
       "      <th>actual_productivity</th>\n",
       "    </tr>\n",
       "  </thead>\n",
       "  <tbody>\n",
       "    <tr>\n",
       "      <th>36</th>\n",
       "      <td>2015-01-03</td>\n",
       "      <td>Quarter1</td>\n",
       "      <td>sewing</td>\n",
       "      <td>Saturday</td>\n",
       "      <td>4</td>\n",
       "      <td>0.70</td>\n",
       "      <td>23.69</td>\n",
       "      <td>544.0</td>\n",
       "      <td>13800</td>\n",
       "      <td>0</td>\n",
       "      <td>0.0</td>\n",
       "      <td>0</td>\n",
       "      <td>0</td>\n",
       "      <td>60.0</td>\n",
       "      <td>0.700134</td>\n",
       "    </tr>\n",
       "    <tr>\n",
       "      <th>127</th>\n",
       "      <td>2015-01-08</td>\n",
       "      <td>Quarter2</td>\n",
       "      <td>finishing</td>\n",
       "      <td>Thursday</td>\n",
       "      <td>4</td>\n",
       "      <td>0.80</td>\n",
       "      <td>3.94</td>\n",
       "      <td>1190.0</td>\n",
       "      <td>12600</td>\n",
       "      <td>0</td>\n",
       "      <td>0.0</td>\n",
       "      <td>0</td>\n",
       "      <td>0</td>\n",
       "      <td>20.0</td>\n",
       "      <td>0.919905</td>\n",
       "    </tr>\n",
       "    <tr>\n",
       "      <th>138</th>\n",
       "      <td>2015-01-08</td>\n",
       "      <td>Quarter2</td>\n",
       "      <td>sewing</td>\n",
       "      <td>Thursday</td>\n",
       "      <td>12</td>\n",
       "      <td>0.80</td>\n",
       "      <td>11.61</td>\n",
       "      <td>548.0</td>\n",
       "      <td>15120</td>\n",
       "      <td>63</td>\n",
       "      <td>0.0</td>\n",
       "      <td>0</td>\n",
       "      <td>0</td>\n",
       "      <td>31.5</td>\n",
       "      <td>0.800107</td>\n",
       "    </tr>\n",
       "    <tr>\n",
       "      <th>139</th>\n",
       "      <td>2015-01-08</td>\n",
       "      <td>Quarter2</td>\n",
       "      <td>sewing</td>\n",
       "      <td>Thursday</td>\n",
       "      <td>6</td>\n",
       "      <td>0.80</td>\n",
       "      <td>11.41</td>\n",
       "      <td>411.0</td>\n",
       "      <td>14640</td>\n",
       "      <td>50</td>\n",
       "      <td>0.0</td>\n",
       "      <td>0</td>\n",
       "      <td>0</td>\n",
       "      <td>30.5</td>\n",
       "      <td>0.800025</td>\n",
       "    </tr>\n",
       "    <tr>\n",
       "      <th>146</th>\n",
       "      <td>2015-01-08</td>\n",
       "      <td>Quarter2</td>\n",
       "      <td>sewing</td>\n",
       "      <td>Thursday</td>\n",
       "      <td>11</td>\n",
       "      <td>0.35</td>\n",
       "      <td>12.52</td>\n",
       "      <td>287.0</td>\n",
       "      <td>25920</td>\n",
       "      <td>38</td>\n",
       "      <td>0.0</td>\n",
       "      <td>0</td>\n",
       "      <td>0</td>\n",
       "      <td>54.0</td>\n",
       "      <td>0.349951</td>\n",
       "    </tr>\n",
       "    <tr>\n",
       "      <th>377</th>\n",
       "      <td>2015-01-22</td>\n",
       "      <td>Quarter4</td>\n",
       "      <td>sewing</td>\n",
       "      <td>Thursday</td>\n",
       "      <td>1</td>\n",
       "      <td>0.70</td>\n",
       "      <td>22.94</td>\n",
       "      <td>1384.0</td>\n",
       "      <td>12180</td>\n",
       "      <td>63</td>\n",
       "      <td>0.0</td>\n",
       "      <td>0</td>\n",
       "      <td>0</td>\n",
       "      <td>57.0</td>\n",
       "      <td>0.750162</td>\n",
       "    </tr>\n",
       "    <tr>\n",
       "      <th>383</th>\n",
       "      <td>2015-01-22</td>\n",
       "      <td>Quarter4</td>\n",
       "      <td>finishing</td>\n",
       "      <td>Thursday</td>\n",
       "      <td>1</td>\n",
       "      <td>0.70</td>\n",
       "      <td>3.94</td>\n",
       "      <td>1190.0</td>\n",
       "      <td>15000</td>\n",
       "      <td>0</td>\n",
       "      <td>0.0</td>\n",
       "      <td>0</td>\n",
       "      <td>0</td>\n",
       "      <td>25.0</td>\n",
       "      <td>0.649662</td>\n",
       "    </tr>\n",
       "    <tr>\n",
       "      <th>384</th>\n",
       "      <td>2015-01-22</td>\n",
       "      <td>Quarter4</td>\n",
       "      <td>finishing</td>\n",
       "      <td>Thursday</td>\n",
       "      <td>2</td>\n",
       "      <td>0.70</td>\n",
       "      <td>3.94</td>\n",
       "      <td>1190.0</td>\n",
       "      <td>15000</td>\n",
       "      <td>0</td>\n",
       "      <td>0.0</td>\n",
       "      <td>0</td>\n",
       "      <td>0</td>\n",
       "      <td>25.0</td>\n",
       "      <td>0.649662</td>\n",
       "    </tr>\n",
       "  </tbody>\n",
       "</table>\n",
       "</div>"
      ],
      "text/plain": [
       "          date   quarter department       day  team  targeted_productivity  \\\n",
       "36  2015-01-03  Quarter1     sewing  Saturday     4                   0.70   \n",
       "127 2015-01-08  Quarter2  finishing  Thursday     4                   0.80   \n",
       "138 2015-01-08  Quarter2     sewing  Thursday    12                   0.80   \n",
       "139 2015-01-08  Quarter2     sewing  Thursday     6                   0.80   \n",
       "146 2015-01-08  Quarter2     sewing  Thursday    11                   0.35   \n",
       "377 2015-01-22  Quarter4     sewing  Thursday     1                   0.70   \n",
       "383 2015-01-22  Quarter4  finishing  Thursday     1                   0.70   \n",
       "384 2015-01-22  Quarter4  finishing  Thursday     2                   0.70   \n",
       "\n",
       "       smv     wip  over_time  incentive  idle_time  idle_men  \\\n",
       "36   23.69   544.0      13800          0        0.0         0   \n",
       "127   3.94  1190.0      12600          0        0.0         0   \n",
       "138  11.61   548.0      15120         63        0.0         0   \n",
       "139  11.41   411.0      14640         50        0.0         0   \n",
       "146  12.52   287.0      25920         38        0.0         0   \n",
       "377  22.94  1384.0      12180         63        0.0         0   \n",
       "383   3.94  1190.0      15000          0        0.0         0   \n",
       "384   3.94  1190.0      15000          0        0.0         0   \n",
       "\n",
       "     no_of_style_change  no_of_workers  actual_productivity  \n",
       "36                    0           60.0             0.700134  \n",
       "127                   0           20.0             0.919905  \n",
       "138                   0           31.5             0.800107  \n",
       "139                   0           30.5             0.800025  \n",
       "146                   0           54.0             0.349951  \n",
       "377                   0           57.0             0.750162  \n",
       "383                   0           25.0             0.649662  \n",
       "384                   0           25.0             0.649662  "
      ]
     },
     "execution_count": 26,
     "metadata": {},
     "output_type": "execute_result"
    }
   ],
   "source": [
    "data[data['over_time']>12000]"
   ]
  },
  {
   "cell_type": "code",
   "execution_count": 27,
   "id": "4cb8aba3",
   "metadata": {
    "execution": {
     "iopub.execute_input": "2021-09-01T12:38:16.361803Z",
     "iopub.status.busy": "2021-09-01T12:38:16.361106Z",
     "iopub.status.idle": "2021-09-01T12:38:16.370212Z",
     "shell.execute_reply": "2021-09-01T12:38:16.369631Z",
     "shell.execute_reply.started": "2021-09-01T12:35:03.761159Z"
    },
    "papermill": {
     "duration": 0.090862,
     "end_time": "2021-09-01T12:38:16.370383",
     "exception": false,
     "start_time": "2021-09-01T12:38:16.279521",
     "status": "completed"
    },
    "tags": []
   },
   "outputs": [
    {
     "data": {
      "text/plain": [
       "(10, 15)"
      ]
     },
     "execution_count": 27,
     "metadata": {},
     "output_type": "execute_result"
    }
   ],
   "source": [
    "data[data['incentive']>150].shape"
   ]
  },
  {
   "cell_type": "code",
   "execution_count": 28,
   "id": "1a075e4e",
   "metadata": {
    "execution": {
     "iopub.execute_input": "2021-09-01T12:38:16.553472Z",
     "iopub.status.busy": "2021-09-01T12:38:16.544129Z",
     "iopub.status.idle": "2021-09-01T12:38:16.562087Z",
     "shell.execute_reply": "2021-09-01T12:38:16.561462Z",
     "shell.execute_reply.started": "2021-09-01T12:35:03.991237Z"
    },
    "papermill": {
     "duration": 0.1122,
     "end_time": "2021-09-01T12:38:16.562248",
     "exception": false,
     "start_time": "2021-09-01T12:38:16.450048",
     "status": "completed"
    },
    "tags": []
   },
   "outputs": [
    {
     "data": {
      "text/html": [
       "<div>\n",
       "<style scoped>\n",
       "    .dataframe tbody tr th:only-of-type {\n",
       "        vertical-align: middle;\n",
       "    }\n",
       "\n",
       "    .dataframe tbody tr th {\n",
       "        vertical-align: top;\n",
       "    }\n",
       "\n",
       "    .dataframe thead th {\n",
       "        text-align: right;\n",
       "    }\n",
       "</style>\n",
       "<table border=\"1\" class=\"dataframe\">\n",
       "  <thead>\n",
       "    <tr style=\"text-align: right;\">\n",
       "      <th></th>\n",
       "      <th>date</th>\n",
       "      <th>quarter</th>\n",
       "      <th>department</th>\n",
       "      <th>day</th>\n",
       "      <th>team</th>\n",
       "      <th>targeted_productivity</th>\n",
       "      <th>smv</th>\n",
       "      <th>wip</th>\n",
       "      <th>over_time</th>\n",
       "      <th>incentive</th>\n",
       "      <th>idle_time</th>\n",
       "      <th>idle_men</th>\n",
       "      <th>no_of_style_change</th>\n",
       "      <th>no_of_workers</th>\n",
       "      <th>actual_productivity</th>\n",
       "    </tr>\n",
       "  </thead>\n",
       "  <tbody>\n",
       "    <tr>\n",
       "      <th>1128</th>\n",
       "      <td>2015-03-09</td>\n",
       "      <td>Quarter2</td>\n",
       "      <td>sewing</td>\n",
       "      <td>Monday</td>\n",
       "      <td>11</td>\n",
       "      <td>0.80</td>\n",
       "      <td>2.90</td>\n",
       "      <td>1190.0</td>\n",
       "      <td>0</td>\n",
       "      <td>960</td>\n",
       "      <td>0.0</td>\n",
       "      <td>0</td>\n",
       "      <td>0</td>\n",
       "      <td>8.0</td>\n",
       "      <td>0.960625</td>\n",
       "    </tr>\n",
       "    <tr>\n",
       "      <th>1129</th>\n",
       "      <td>2015-03-09</td>\n",
       "      <td>Quarter2</td>\n",
       "      <td>sewing</td>\n",
       "      <td>Monday</td>\n",
       "      <td>12</td>\n",
       "      <td>0.80</td>\n",
       "      <td>4.60</td>\n",
       "      <td>1190.0</td>\n",
       "      <td>0</td>\n",
       "      <td>1080</td>\n",
       "      <td>0.0</td>\n",
       "      <td>0</td>\n",
       "      <td>0</td>\n",
       "      <td>9.0</td>\n",
       "      <td>0.902963</td>\n",
       "    </tr>\n",
       "    <tr>\n",
       "      <th>1130</th>\n",
       "      <td>2015-03-09</td>\n",
       "      <td>Quarter2</td>\n",
       "      <td>sewing</td>\n",
       "      <td>Monday</td>\n",
       "      <td>5</td>\n",
       "      <td>0.60</td>\n",
       "      <td>3.94</td>\n",
       "      <td>1190.0</td>\n",
       "      <td>0</td>\n",
       "      <td>2880</td>\n",
       "      <td>0.0</td>\n",
       "      <td>0</td>\n",
       "      <td>0</td>\n",
       "      <td>12.0</td>\n",
       "      <td>0.864343</td>\n",
       "    </tr>\n",
       "    <tr>\n",
       "      <th>1133</th>\n",
       "      <td>2015-03-09</td>\n",
       "      <td>Quarter2</td>\n",
       "      <td>sewing</td>\n",
       "      <td>Monday</td>\n",
       "      <td>9</td>\n",
       "      <td>0.75</td>\n",
       "      <td>2.90</td>\n",
       "      <td>1190.0</td>\n",
       "      <td>0</td>\n",
       "      <td>3600</td>\n",
       "      <td>0.0</td>\n",
       "      <td>0</td>\n",
       "      <td>0</td>\n",
       "      <td>15.0</td>\n",
       "      <td>0.841000</td>\n",
       "    </tr>\n",
       "    <tr>\n",
       "      <th>1137</th>\n",
       "      <td>2015-03-09</td>\n",
       "      <td>Quarter2</td>\n",
       "      <td>sewing</td>\n",
       "      <td>Monday</td>\n",
       "      <td>3</td>\n",
       "      <td>0.80</td>\n",
       "      <td>4.60</td>\n",
       "      <td>1190.0</td>\n",
       "      <td>0</td>\n",
       "      <td>1440</td>\n",
       "      <td>0.0</td>\n",
       "      <td>0</td>\n",
       "      <td>0</td>\n",
       "      <td>12.0</td>\n",
       "      <td>0.795417</td>\n",
       "    </tr>\n",
       "    <tr>\n",
       "      <th>1138</th>\n",
       "      <td>2015-03-09</td>\n",
       "      <td>Quarter2</td>\n",
       "      <td>sewing</td>\n",
       "      <td>Monday</td>\n",
       "      <td>4</td>\n",
       "      <td>0.75</td>\n",
       "      <td>3.94</td>\n",
       "      <td>1190.0</td>\n",
       "      <td>0</td>\n",
       "      <td>960</td>\n",
       "      <td>0.0</td>\n",
       "      <td>0</td>\n",
       "      <td>0</td>\n",
       "      <td>8.0</td>\n",
       "      <td>0.795388</td>\n",
       "    </tr>\n",
       "    <tr>\n",
       "      <th>1139</th>\n",
       "      <td>2015-03-09</td>\n",
       "      <td>Quarter2</td>\n",
       "      <td>sewing</td>\n",
       "      <td>Monday</td>\n",
       "      <td>1</td>\n",
       "      <td>0.75</td>\n",
       "      <td>3.94</td>\n",
       "      <td>1190.0</td>\n",
       "      <td>0</td>\n",
       "      <td>960</td>\n",
       "      <td>0.0</td>\n",
       "      <td>0</td>\n",
       "      <td>0</td>\n",
       "      <td>8.0</td>\n",
       "      <td>0.794567</td>\n",
       "    </tr>\n",
       "    <tr>\n",
       "      <th>1143</th>\n",
       "      <td>2015-03-09</td>\n",
       "      <td>Quarter2</td>\n",
       "      <td>sewing</td>\n",
       "      <td>Monday</td>\n",
       "      <td>2</td>\n",
       "      <td>0.70</td>\n",
       "      <td>3.90</td>\n",
       "      <td>1190.0</td>\n",
       "      <td>0</td>\n",
       "      <td>1200</td>\n",
       "      <td>0.0</td>\n",
       "      <td>0</td>\n",
       "      <td>0</td>\n",
       "      <td>10.0</td>\n",
       "      <td>0.682500</td>\n",
       "    </tr>\n",
       "    <tr>\n",
       "      <th>1148</th>\n",
       "      <td>2015-03-09</td>\n",
       "      <td>Quarter2</td>\n",
       "      <td>sewing</td>\n",
       "      <td>Monday</td>\n",
       "      <td>10</td>\n",
       "      <td>0.70</td>\n",
       "      <td>2.90</td>\n",
       "      <td>1190.0</td>\n",
       "      <td>0</td>\n",
       "      <td>960</td>\n",
       "      <td>0.0</td>\n",
       "      <td>0</td>\n",
       "      <td>0</td>\n",
       "      <td>8.0</td>\n",
       "      <td>0.477292</td>\n",
       "    </tr>\n",
       "    <tr>\n",
       "      <th>1149</th>\n",
       "      <td>2015-03-09</td>\n",
       "      <td>Quarter2</td>\n",
       "      <td>sewing</td>\n",
       "      <td>Monday</td>\n",
       "      <td>8</td>\n",
       "      <td>0.65</td>\n",
       "      <td>3.90</td>\n",
       "      <td>1190.0</td>\n",
       "      <td>0</td>\n",
       "      <td>960</td>\n",
       "      <td>0.0</td>\n",
       "      <td>0</td>\n",
       "      <td>0</td>\n",
       "      <td>8.0</td>\n",
       "      <td>0.264062</td>\n",
       "    </tr>\n",
       "  </tbody>\n",
       "</table>\n",
       "</div>"
      ],
      "text/plain": [
       "           date   quarter department     day  team  targeted_productivity  \\\n",
       "1128 2015-03-09  Quarter2     sewing  Monday    11                   0.80   \n",
       "1129 2015-03-09  Quarter2     sewing  Monday    12                   0.80   \n",
       "1130 2015-03-09  Quarter2     sewing  Monday     5                   0.60   \n",
       "1133 2015-03-09  Quarter2     sewing  Monday     9                   0.75   \n",
       "1137 2015-03-09  Quarter2     sewing  Monday     3                   0.80   \n",
       "1138 2015-03-09  Quarter2     sewing  Monday     4                   0.75   \n",
       "1139 2015-03-09  Quarter2     sewing  Monday     1                   0.75   \n",
       "1143 2015-03-09  Quarter2     sewing  Monday     2                   0.70   \n",
       "1148 2015-03-09  Quarter2     sewing  Monday    10                   0.70   \n",
       "1149 2015-03-09  Quarter2     sewing  Monday     8                   0.65   \n",
       "\n",
       "       smv     wip  over_time  incentive  idle_time  idle_men  \\\n",
       "1128  2.90  1190.0          0        960        0.0         0   \n",
       "1129  4.60  1190.0          0       1080        0.0         0   \n",
       "1130  3.94  1190.0          0       2880        0.0         0   \n",
       "1133  2.90  1190.0          0       3600        0.0         0   \n",
       "1137  4.60  1190.0          0       1440        0.0         0   \n",
       "1138  3.94  1190.0          0        960        0.0         0   \n",
       "1139  3.94  1190.0          0        960        0.0         0   \n",
       "1143  3.90  1190.0          0       1200        0.0         0   \n",
       "1148  2.90  1190.0          0        960        0.0         0   \n",
       "1149  3.90  1190.0          0        960        0.0         0   \n",
       "\n",
       "      no_of_style_change  no_of_workers  actual_productivity  \n",
       "1128                   0            8.0             0.960625  \n",
       "1129                   0            9.0             0.902963  \n",
       "1130                   0           12.0             0.864343  \n",
       "1133                   0           15.0             0.841000  \n",
       "1137                   0           12.0             0.795417  \n",
       "1138                   0            8.0             0.795388  \n",
       "1139                   0            8.0             0.794567  \n",
       "1143                   0           10.0             0.682500  \n",
       "1148                   0            8.0             0.477292  \n",
       "1149                   0            8.0             0.264062  "
      ]
     },
     "execution_count": 28,
     "metadata": {},
     "output_type": "execute_result"
    }
   ],
   "source": [
    "data[data['incentive']>150]"
   ]
  },
  {
   "cell_type": "markdown",
   "id": "b7384f08",
   "metadata": {
    "papermill": {
     "duration": 0.088396,
     "end_time": "2021-09-01T12:38:16.751726",
     "exception": false,
     "start_time": "2021-09-01T12:38:16.663330",
     "status": "completed"
    },
    "tags": []
   },
   "source": [
    "All of the highest incentive values belong to the finishing department on March 9, Quarter2."
   ]
  },
  {
   "cell_type": "code",
   "execution_count": 29,
   "id": "fb993f85",
   "metadata": {
    "execution": {
     "iopub.execute_input": "2021-09-01T12:38:16.935150Z",
     "iopub.status.busy": "2021-09-01T12:38:16.934231Z",
     "iopub.status.idle": "2021-09-01T12:38:16.939730Z",
     "shell.execute_reply": "2021-09-01T12:38:16.938969Z",
     "shell.execute_reply.started": "2021-09-01T12:35:04.551328Z"
    },
    "papermill": {
     "duration": 0.108158,
     "end_time": "2021-09-01T12:38:16.939891",
     "exception": false,
     "start_time": "2021-09-01T12:38:16.831733",
     "status": "completed"
    },
    "tags": []
   },
   "outputs": [
    {
     "data": {
      "text/html": [
       "<div>\n",
       "<style scoped>\n",
       "    .dataframe tbody tr th:only-of-type {\n",
       "        vertical-align: middle;\n",
       "    }\n",
       "\n",
       "    .dataframe tbody tr th {\n",
       "        vertical-align: top;\n",
       "    }\n",
       "\n",
       "    .dataframe thead th {\n",
       "        text-align: right;\n",
       "    }\n",
       "</style>\n",
       "<table border=\"1\" class=\"dataframe\">\n",
       "  <thead>\n",
       "    <tr style=\"text-align: right;\">\n",
       "      <th></th>\n",
       "      <th>date</th>\n",
       "      <th>quarter</th>\n",
       "      <th>department</th>\n",
       "      <th>day</th>\n",
       "      <th>team</th>\n",
       "      <th>targeted_productivity</th>\n",
       "      <th>smv</th>\n",
       "      <th>wip</th>\n",
       "      <th>over_time</th>\n",
       "      <th>incentive</th>\n",
       "      <th>idle_time</th>\n",
       "      <th>idle_men</th>\n",
       "      <th>no_of_style_change</th>\n",
       "      <th>no_of_workers</th>\n",
       "      <th>actual_productivity</th>\n",
       "    </tr>\n",
       "  </thead>\n",
       "  <tbody>\n",
       "    <tr>\n",
       "      <th>615</th>\n",
       "      <td>2015-02-04</td>\n",
       "      <td>Quarter1</td>\n",
       "      <td>sewing</td>\n",
       "      <td>Wednesday</td>\n",
       "      <td>5</td>\n",
       "      <td>0.65</td>\n",
       "      <td>30.10</td>\n",
       "      <td>326.0</td>\n",
       "      <td>5820</td>\n",
       "      <td>0</td>\n",
       "      <td>90.0</td>\n",
       "      <td>10</td>\n",
       "      <td>0</td>\n",
       "      <td>58.5</td>\n",
       "      <td>0.650835</td>\n",
       "    </tr>\n",
       "    <tr>\n",
       "      <th>617</th>\n",
       "      <td>2015-02-04</td>\n",
       "      <td>Quarter1</td>\n",
       "      <td>sewing</td>\n",
       "      <td>Wednesday</td>\n",
       "      <td>4</td>\n",
       "      <td>0.35</td>\n",
       "      <td>30.10</td>\n",
       "      <td>287.0</td>\n",
       "      <td>6060</td>\n",
       "      <td>23</td>\n",
       "      <td>150.0</td>\n",
       "      <td>15</td>\n",
       "      <td>0</td>\n",
       "      <td>55.5</td>\n",
       "      <td>0.350706</td>\n",
       "    </tr>\n",
       "    <tr>\n",
       "      <th>650</th>\n",
       "      <td>2015-02-07</td>\n",
       "      <td>Quarter1</td>\n",
       "      <td>sewing</td>\n",
       "      <td>Saturday</td>\n",
       "      <td>7</td>\n",
       "      <td>0.70</td>\n",
       "      <td>24.26</td>\n",
       "      <td>658.0</td>\n",
       "      <td>6960</td>\n",
       "      <td>0</td>\n",
       "      <td>270.0</td>\n",
       "      <td>45</td>\n",
       "      <td>0</td>\n",
       "      <td>58.0</td>\n",
       "      <td>0.662270</td>\n",
       "    </tr>\n",
       "    <tr>\n",
       "      <th>654</th>\n",
       "      <td>2015-02-07</td>\n",
       "      <td>Quarter1</td>\n",
       "      <td>sewing</td>\n",
       "      <td>Saturday</td>\n",
       "      <td>8</td>\n",
       "      <td>0.70</td>\n",
       "      <td>24.26</td>\n",
       "      <td>652.0</td>\n",
       "      <td>6840</td>\n",
       "      <td>0</td>\n",
       "      <td>300.0</td>\n",
       "      <td>37</td>\n",
       "      <td>0</td>\n",
       "      <td>57.0</td>\n",
       "      <td>0.365319</td>\n",
       "    </tr>\n",
       "  </tbody>\n",
       "</table>\n",
       "</div>"
      ],
      "text/plain": [
       "          date   quarter department        day  team  targeted_productivity  \\\n",
       "615 2015-02-04  Quarter1     sewing  Wednesday     5                   0.65   \n",
       "617 2015-02-04  Quarter1     sewing  Wednesday     4                   0.35   \n",
       "650 2015-02-07  Quarter1     sewing   Saturday     7                   0.70   \n",
       "654 2015-02-07  Quarter1     sewing   Saturday     8                   0.70   \n",
       "\n",
       "       smv    wip  over_time  incentive  idle_time  idle_men  \\\n",
       "615  30.10  326.0       5820          0       90.0        10   \n",
       "617  30.10  287.0       6060         23      150.0        15   \n",
       "650  24.26  658.0       6960          0      270.0        45   \n",
       "654  24.26  652.0       6840          0      300.0        37   \n",
       "\n",
       "     no_of_style_change  no_of_workers  actual_productivity  \n",
       "615                   0           58.5             0.650835  \n",
       "617                   0           55.5             0.350706  \n",
       "650                   0           58.0             0.662270  \n",
       "654                   0           57.0             0.365319  "
      ]
     },
     "execution_count": 29,
     "metadata": {},
     "output_type": "execute_result"
    }
   ],
   "source": [
    "data[data['idle_time']>20]"
   ]
  },
  {
   "cell_type": "markdown",
   "id": "af86c789",
   "metadata": {
    "papermill": {
     "duration": 0.080173,
     "end_time": "2021-09-01T12:38:17.100761",
     "exception": false,
     "start_time": "2021-09-01T12:38:17.020588",
     "status": "completed"
    },
    "tags": []
   },
   "source": [
    "All of the highest idle_men values belong to the sweing department on February 4 and 7, Quarter1."
   ]
  },
  {
   "cell_type": "code",
   "execution_count": 30,
   "id": "e061cd87",
   "metadata": {
    "execution": {
     "iopub.execute_input": "2021-09-01T12:38:17.287043Z",
     "iopub.status.busy": "2021-09-01T12:38:17.284679Z",
     "iopub.status.idle": "2021-09-01T12:38:17.691188Z",
     "shell.execute_reply": "2021-09-01T12:38:17.690675Z",
     "shell.execute_reply.started": "2021-09-01T12:35:05.186715Z"
    },
    "papermill": {
     "duration": 0.51071,
     "end_time": "2021-09-01T12:38:17.691333",
     "exception": false,
     "start_time": "2021-09-01T12:38:17.180623",
     "status": "completed"
    },
    "tags": []
   },
   "outputs": [
    {
     "data": {
      "image/png": "[encoded data removed]",
      "text/plain": [
       "<Figure size 1080x504 with 2 Axes>"
      ]
     },
     "metadata": {},
     "output_type": "display_data"
    }
   ],
   "source": [
    "plt.figure(figsize=(15, 7))\n",
    "palette='gist_rainbow'\n",
    "\n",
    "plt.subplot(1, 2, 1)\n",
    "sns.countplot('no_of_style_change',hue='quarter',data=data)\n",
    "plt.xlabel('no_of_style_change')\n",
    "\n",
    "plt.subplot(1, 2, 2)\n",
    "sns.countplot('no_of_style_change',hue='department',data=data)\n",
    "plt.xlabel('no_of_style_change')\n",
    "\n",
    "plt.show()"
   ]
  },
  {
   "cell_type": "markdown",
   "id": "ce66f6fe",
   "metadata": {
    "papermill": {
     "duration": 0.081347,
     "end_time": "2021-09-01T12:38:17.854280",
     "exception": false,
     "start_time": "2021-09-01T12:38:17.772933",
     "status": "completed"
    },
    "tags": []
   },
   "source": [
    "There is no no_of_style_change in Quarter5 and all of changes occured in the sweing department"
   ]
  },
  {
   "cell_type": "code",
   "execution_count": 31,
   "id": "dd9ac767",
   "metadata": {
    "execution": {
     "iopub.execute_input": "2021-09-01T12:38:18.030332Z",
     "iopub.status.busy": "2021-09-01T12:38:18.029674Z",
     "iopub.status.idle": "2021-09-01T12:38:18.151055Z",
     "shell.execute_reply": "2021-09-01T12:38:18.151583Z",
     "shell.execute_reply.started": "2021-09-01T12:35:06.141417Z"
    },
    "papermill": {
     "duration": 0.214474,
     "end_time": "2021-09-01T12:38:18.151754",
     "exception": false,
     "start_time": "2021-09-01T12:38:17.937280",
     "status": "completed"
    },
    "tags": []
   },
   "outputs": [
    {
     "data": {
      "image/png": "[encoded data removed]",
      "text/plain": [
       "<Figure size 432x288 with 1 Axes>"
      ]
     },
     "metadata": {},
     "output_type": "display_data"
    }
   ],
   "source": [
    "df = data.groupby(['department']).no_of_workers.sum()\n",
    "df.plot.pie(title=\"Employee rates by department\",autopct='%1.1f%%')\n",
    "plt.ylabel(None)\n",
    "plt.show()"
   ]
  },
  {
   "cell_type": "markdown",
   "id": "5f9cf3e8",
   "metadata": {
    "papermill": {
     "duration": 0.082242,
     "end_time": "2021-09-01T12:38:18.316982",
     "exception": false,
     "start_time": "2021-09-01T12:38:18.234740",
     "status": "completed"
    },
    "tags": []
   },
   "source": [
    "Employee rates in sweing and finishing departments are respectively %87.5 and %12.5."
   ]
  },
  {
   "cell_type": "code",
   "execution_count": 32,
   "id": "52d4a9e5",
   "metadata": {
    "execution": {
     "iopub.execute_input": "2021-09-01T12:38:18.491627Z",
     "iopub.status.busy": "2021-09-01T12:38:18.490979Z",
     "iopub.status.idle": "2021-09-01T12:38:19.396690Z",
     "shell.execute_reply": "2021-09-01T12:38:19.395920Z",
     "shell.execute_reply.started": "2021-09-01T12:35:06.641495Z"
    },
    "papermill": {
     "duration": 0.997263,
     "end_time": "2021-09-01T12:38:19.396847",
     "exception": false,
     "start_time": "2021-09-01T12:38:18.399584",
     "status": "completed"
    },
    "tags": []
   },
   "outputs": [
    {
     "data": {
      "image/png": "[encoded data removed]",
      "text/plain": [
       "<Figure size 1800x720 with 1 Axes>"
      ]
     },
     "metadata": {},
     "output_type": "display_data"
    }
   ],
   "source": [
    "plt.figure(figsize=(25, 10))\n",
    "palette = \"Set3\"\n",
    "\n",
    "sns.boxplot(x = 'team', y = 'actual_productivity', data = data,\n",
    "     palette = palette,hue='department',fliersize = 0)\n",
    "plt.yticks(np.arange(0,1.2,step=0.3))\n",
    "plt.title('Actual_productivity distribution by team and department',fontsize= 14)\n",
    "plt.show()"
   ]
  },
  {
   "cell_type": "code",
   "execution_count": 33,
   "id": "d9d914d8",
   "metadata": {
    "execution": {
     "iopub.execute_input": "2021-09-01T12:38:19.581052Z",
     "iopub.status.busy": "2021-09-01T12:38:19.580230Z",
     "iopub.status.idle": "2021-09-01T12:38:20.312742Z",
     "shell.execute_reply": "2021-09-01T12:38:20.312148Z",
     "shell.execute_reply.started": "2021-09-01T12:35:07.615102Z"
    },
    "papermill": {
     "duration": 0.829058,
     "end_time": "2021-09-01T12:38:20.312898",
     "exception": false,
     "start_time": "2021-09-01T12:38:19.483840",
     "status": "completed"
    },
    "tags": []
   },
   "outputs": [
    {
     "data": {
      "image/png": "[encoded data removed]",
      "text/plain": [
       "<Figure size 1800x720 with 1 Axes>"
      ]
     },
     "metadata": {},
     "output_type": "display_data"
    }
   ],
   "source": [
    "plt.figure(figsize=(25, 10))\n",
    "palette = \"Set3\"\n",
    "\n",
    "sns.boxplot(x = 'team', y = data.targeted_productivity-data.actual_productivity, data = data,\n",
    "     palette = palette,hue='department',fliersize = 0)\n",
    "\n",
    "plt.title('Difference distribution between targeted_productivity and actual_productivity by team and department',fontsize= 14)\n",
    "plt.show()"
   ]
  },
  {
   "cell_type": "code",
   "execution_count": 34,
   "id": "8005fe0e",
   "metadata": {
    "execution": {
     "iopub.execute_input": "2021-09-01T12:38:20.509567Z",
     "iopub.status.busy": "2021-09-01T12:38:20.508562Z",
     "iopub.status.idle": "2021-09-01T12:38:20.512653Z",
     "shell.execute_reply": "2021-09-01T12:38:20.513093Z",
     "shell.execute_reply.started": "2021-09-01T12:35:08.419907Z"
    },
    "papermill": {
     "duration": 0.112612,
     "end_time": "2021-09-01T12:38:20.513289",
     "exception": false,
     "start_time": "2021-09-01T12:38:20.400677",
     "status": "completed"
    },
    "tags": []
   },
   "outputs": [
    {
     "data": {
      "text/html": [
       "<div>\n",
       "<style scoped>\n",
       "    .dataframe tbody tr th:only-of-type {\n",
       "        vertical-align: middle;\n",
       "    }\n",
       "\n",
       "    .dataframe tbody tr th {\n",
       "        vertical-align: top;\n",
       "    }\n",
       "\n",
       "    .dataframe thead th {\n",
       "        text-align: right;\n",
       "    }\n",
       "</style>\n",
       "<table border=\"1\" class=\"dataframe\">\n",
       "  <thead>\n",
       "    <tr style=\"text-align: right;\">\n",
       "      <th></th>\n",
       "      <th>date</th>\n",
       "      <th>quarter</th>\n",
       "      <th>department</th>\n",
       "      <th>day</th>\n",
       "      <th>team</th>\n",
       "      <th>targeted_productivity</th>\n",
       "      <th>smv</th>\n",
       "      <th>wip</th>\n",
       "      <th>over_time</th>\n",
       "      <th>incentive</th>\n",
       "      <th>idle_time</th>\n",
       "      <th>idle_men</th>\n",
       "      <th>no_of_style_change</th>\n",
       "      <th>no_of_workers</th>\n",
       "      <th>actual_productivity</th>\n",
       "    </tr>\n",
       "  </thead>\n",
       "  <tbody>\n",
       "    <tr>\n",
       "      <th>0</th>\n",
       "      <td>2015-01-01</td>\n",
       "      <td>Quarter1</td>\n",
       "      <td>sewing</td>\n",
       "      <td>Thursday</td>\n",
       "      <td>8</td>\n",
       "      <td>0.80</td>\n",
       "      <td>26.16</td>\n",
       "      <td>1108.0</td>\n",
       "      <td>7080</td>\n",
       "      <td>98</td>\n",
       "      <td>0.0</td>\n",
       "      <td>0</td>\n",
       "      <td>0</td>\n",
       "      <td>59.0</td>\n",
       "      <td>0.940725</td>\n",
       "    </tr>\n",
       "    <tr>\n",
       "      <th>1</th>\n",
       "      <td>2015-01-01</td>\n",
       "      <td>Quarter1</td>\n",
       "      <td>finishing</td>\n",
       "      <td>Thursday</td>\n",
       "      <td>1</td>\n",
       "      <td>0.75</td>\n",
       "      <td>3.94</td>\n",
       "      <td>1190.0</td>\n",
       "      <td>960</td>\n",
       "      <td>0</td>\n",
       "      <td>0.0</td>\n",
       "      <td>0</td>\n",
       "      <td>0</td>\n",
       "      <td>8.0</td>\n",
       "      <td>0.886500</td>\n",
       "    </tr>\n",
       "    <tr>\n",
       "      <th>2</th>\n",
       "      <td>2015-01-01</td>\n",
       "      <td>Quarter1</td>\n",
       "      <td>sewing</td>\n",
       "      <td>Thursday</td>\n",
       "      <td>11</td>\n",
       "      <td>0.80</td>\n",
       "      <td>11.41</td>\n",
       "      <td>968.0</td>\n",
       "      <td>3660</td>\n",
       "      <td>50</td>\n",
       "      <td>0.0</td>\n",
       "      <td>0</td>\n",
       "      <td>0</td>\n",
       "      <td>30.5</td>\n",
       "      <td>0.800570</td>\n",
       "    </tr>\n",
       "    <tr>\n",
       "      <th>3</th>\n",
       "      <td>2015-01-01</td>\n",
       "      <td>Quarter1</td>\n",
       "      <td>sewing</td>\n",
       "      <td>Thursday</td>\n",
       "      <td>12</td>\n",
       "      <td>0.80</td>\n",
       "      <td>11.41</td>\n",
       "      <td>968.0</td>\n",
       "      <td>3660</td>\n",
       "      <td>50</td>\n",
       "      <td>0.0</td>\n",
       "      <td>0</td>\n",
       "      <td>0</td>\n",
       "      <td>30.5</td>\n",
       "      <td>0.800570</td>\n",
       "    </tr>\n",
       "    <tr>\n",
       "      <th>4</th>\n",
       "      <td>2015-01-01</td>\n",
       "      <td>Quarter1</td>\n",
       "      <td>sewing</td>\n",
       "      <td>Thursday</td>\n",
       "      <td>6</td>\n",
       "      <td>0.80</td>\n",
       "      <td>25.90</td>\n",
       "      <td>1170.0</td>\n",
       "      <td>1920</td>\n",
       "      <td>50</td>\n",
       "      <td>0.0</td>\n",
       "      <td>0</td>\n",
       "      <td>0</td>\n",
       "      <td>56.0</td>\n",
       "      <td>0.800382</td>\n",
       "    </tr>\n",
       "  </tbody>\n",
       "</table>\n",
       "</div>"
      ],
      "text/plain": [
       "        date   quarter department       day  team  targeted_productivity  \\\n",
       "0 2015-01-01  Quarter1     sewing  Thursday     8                   0.80   \n",
       "1 2015-01-01  Quarter1  finishing  Thursday     1                   0.75   \n",
       "2 2015-01-01  Quarter1     sewing  Thursday    11                   0.80   \n",
       "3 2015-01-01  Quarter1     sewing  Thursday    12                   0.80   \n",
       "4 2015-01-01  Quarter1     sewing  Thursday     6                   0.80   \n",
       "\n",
       "     smv     wip  over_time  incentive  idle_time  idle_men  \\\n",
       "0  26.16  1108.0       7080         98        0.0         0   \n",
       "1   3.94  1190.0        960          0        0.0         0   \n",
       "2  11.41   968.0       3660         50        0.0         0   \n",
       "3  11.41   968.0       3660         50        0.0         0   \n",
       "4  25.90  1170.0       1920         50        0.0         0   \n",
       "\n",
       "   no_of_style_change  no_of_workers  actual_productivity  \n",
       "0                   0           59.0             0.940725  \n",
       "1                   0            8.0             0.886500  \n",
       "2                   0           30.5             0.800570  \n",
       "3                   0           30.5             0.800570  \n",
       "4                   0           56.0             0.800382  "
      ]
     },
     "execution_count": 34,
     "metadata": {},
     "output_type": "execute_result"
    }
   ],
   "source": [
    "data.head()"
   ]
  },
  {
   "cell_type": "code",
   "execution_count": 35,
   "id": "a7ec08f8",
   "metadata": {
    "execution": {
     "iopub.execute_input": "2021-09-01T12:38:20.693611Z",
     "iopub.status.busy": "2021-09-01T12:38:20.692673Z",
     "iopub.status.idle": "2021-09-01T12:38:20.704906Z",
     "shell.execute_reply": "2021-09-01T12:38:20.705393Z",
     "shell.execute_reply.started": "2021-09-01T12:35:08.448081Z"
    },
    "papermill": {
     "duration": 0.104116,
     "end_time": "2021-09-01T12:38:20.705608",
     "exception": false,
     "start_time": "2021-09-01T12:38:20.601492",
     "status": "completed"
    },
    "tags": []
   },
   "outputs": [],
   "source": [
    "# split features into Categorical and Numerical \n",
    "catogrical = [x for x in data.columns if data[x].dtype == \"object\"]\n",
    "numeric = [x for x in data.columns if data[x].dtype == \"float64\"]\n",
    "#filling null or missing values with more frequent values\n",
    "for i in catogrical:\n",
    "    data[i].fillna(data[i].mode()[0], inplace=True)\n",
    "# filling null or missing values with mean or average \n",
    "\n",
    "for i in numeric:\n",
    "    data[i].fillna(data[i].mean(), inplace = True)"
   ]
  },
  {
   "cell_type": "code",
   "execution_count": 36,
   "id": "bb5de5eb",
   "metadata": {
    "execution": {
     "iopub.execute_input": "2021-09-01T12:38:20.887235Z",
     "iopub.status.busy": "2021-09-01T12:38:20.886235Z",
     "iopub.status.idle": "2021-09-01T12:38:23.790051Z",
     "shell.execute_reply": "2021-09-01T12:38:23.790592Z",
     "shell.execute_reply.started": "2021-09-01T12:35:08.465147Z"
    },
    "papermill": {
     "duration": 2.99625,
     "end_time": "2021-09-01T12:38:23.790790",
     "exception": false,
     "start_time": "2021-09-01T12:38:20.794540",
     "status": "completed"
    },
    "tags": []
   },
   "outputs": [
    {
     "data": {
      "text/plain": [
       "array([[<AxesSubplot:title={'center':'date'}>,\n",
       "        <AxesSubplot:title={'center':'team'}>,\n",
       "        <AxesSubplot:title={'center':'targeted_productivity'}>],\n",
       "       [<AxesSubplot:title={'center':'smv'}>,\n",
       "        <AxesSubplot:title={'center':'wip'}>,\n",
       "        <AxesSubplot:title={'center':'over_time'}>],\n",
       "       [<AxesSubplot:title={'center':'incentive'}>,\n",
       "        <AxesSubplot:title={'center':'idle_time'}>,\n",
       "        <AxesSubplot:title={'center':'idle_men'}>],\n",
       "       [<AxesSubplot:title={'center':'no_of_style_change'}>,\n",
       "        <AxesSubplot:title={'center':'no_of_workers'}>,\n",
       "        <AxesSubplot:title={'center':'actual_productivity'}>]],\n",
       "      dtype=object)"
      ]
     },
     "execution_count": 36,
     "metadata": {},
     "output_type": "execute_result"
    },
    {
     "data": {
      "image/png": "[encoded data removed]",
      "text/plain": [
       "<Figure size 1440x1440 with 12 Axes>"
      ]
     },
     "metadata": {},
     "output_type": "display_data"
    }
   ],
   "source": [
    "# see how the data is distributed.\n",
    "data.hist(figsize = (20,20))"
   ]
  },
  {
   "cell_type": "markdown",
   "id": "d7065520",
   "metadata": {
    "papermill": {
     "duration": 0.092669,
     "end_time": "2021-09-01T12:38:23.974154",
     "exception": false,
     "start_time": "2021-09-01T12:38:23.881485",
     "status": "completed"
    },
    "tags": []
   },
   "source": [
    "## Creating Target_Label for productivity"
   ]
  },
  {
   "cell_type": "code",
   "execution_count": 37,
   "id": "513b96a5",
   "metadata": {
    "execution": {
     "iopub.execute_input": "2021-09-01T12:38:24.161954Z",
     "iopub.status.busy": "2021-09-01T12:38:24.161215Z",
     "iopub.status.idle": "2021-09-01T12:38:24.164135Z",
     "shell.execute_reply": "2021-09-01T12:38:24.164655Z",
     "shell.execute_reply.started": "2021-09-01T12:35:11.515074Z"
    },
    "papermill": {
     "duration": 0.099702,
     "end_time": "2021-09-01T12:38:24.164872",
     "exception": false,
     "start_time": "2021-09-01T12:38:24.065170",
     "status": "completed"
    },
    "tags": []
   },
   "outputs": [],
   "source": [
    "data1=data.copy()"
   ]
  },
  {
   "cell_type": "code",
   "execution_count": 38,
   "id": "db4bebe1",
   "metadata": {
    "execution": {
     "iopub.execute_input": "2021-09-01T12:38:24.354935Z",
     "iopub.status.busy": "2021-09-01T12:38:24.353960Z",
     "iopub.status.idle": "2021-09-01T12:38:24.358937Z",
     "shell.execute_reply": "2021-09-01T12:38:24.358375Z",
     "shell.execute_reply.started": "2021-09-01T12:35:11.521948Z"
    },
    "papermill": {
     "duration": 0.103369,
     "end_time": "2021-09-01T12:38:24.359099",
     "exception": false,
     "start_time": "2021-09-01T12:38:24.255730",
     "status": "completed"
    },
    "tags": []
   },
   "outputs": [
    {
     "data": {
      "text/plain": [
       "Index(['date', 'quarter', 'department', 'day', 'team', 'targeted_productivity',\n",
       "       'smv', 'wip', 'over_time', 'incentive', 'idle_time', 'idle_men',\n",
       "       'no_of_style_change', 'no_of_workers', 'actual_productivity', 'diff'],\n",
       "      dtype='object')"
      ]
     },
     "execution_count": 38,
     "metadata": {},
     "output_type": "execute_result"
    }
   ],
   "source": [
    "data1['diff']=data1.actual_productivity-data1.targeted_productivity\n",
    "data1.columns"
   ]
  },
  {
   "cell_type": "code",
   "execution_count": 39,
   "id": "6c28d24d",
   "metadata": {
    "execution": {
     "iopub.execute_input": "2021-09-01T12:38:24.575479Z",
     "iopub.status.busy": "2021-09-01T12:38:24.573689Z",
     "iopub.status.idle": "2021-09-01T12:38:24.579378Z",
     "shell.execute_reply": "2021-09-01T12:38:24.578715Z",
     "shell.execute_reply.started": "2021-09-01T12:35:12.846427Z"
    },
    "papermill": {
     "duration": 0.128247,
     "end_time": "2021-09-01T12:38:24.579535",
     "exception": false,
     "start_time": "2021-09-01T12:38:24.451288",
     "status": "completed"
    },
    "tags": []
   },
   "outputs": [
    {
     "data": {
      "text/html": [
       "<div>\n",
       "<style scoped>\n",
       "    .dataframe tbody tr th:only-of-type {\n",
       "        vertical-align: middle;\n",
       "    }\n",
       "\n",
       "    .dataframe tbody tr th {\n",
       "        vertical-align: top;\n",
       "    }\n",
       "\n",
       "    .dataframe thead th {\n",
       "        text-align: right;\n",
       "    }\n",
       "</style>\n",
       "<table border=\"1\" class=\"dataframe\">\n",
       "  <thead>\n",
       "    <tr style=\"text-align: right;\">\n",
       "      <th></th>\n",
       "      <th>date</th>\n",
       "      <th>quarter</th>\n",
       "      <th>department</th>\n",
       "      <th>day</th>\n",
       "      <th>team</th>\n",
       "      <th>targeted_productivity</th>\n",
       "      <th>smv</th>\n",
       "      <th>wip</th>\n",
       "      <th>over_time</th>\n",
       "      <th>incentive</th>\n",
       "      <th>idle_time</th>\n",
       "      <th>idle_men</th>\n",
       "      <th>no_of_style_change</th>\n",
       "      <th>no_of_workers</th>\n",
       "      <th>actual_productivity</th>\n",
       "      <th>diff</th>\n",
       "      <th>Target_label</th>\n",
       "    </tr>\n",
       "  </thead>\n",
       "  <tbody>\n",
       "    <tr>\n",
       "      <th>0</th>\n",
       "      <td>2015-01-01</td>\n",
       "      <td>Quarter1</td>\n",
       "      <td>sewing</td>\n",
       "      <td>Thursday</td>\n",
       "      <td>8</td>\n",
       "      <td>0.80</td>\n",
       "      <td>26.16</td>\n",
       "      <td>1108.0</td>\n",
       "      <td>7080</td>\n",
       "      <td>98</td>\n",
       "      <td>0.0</td>\n",
       "      <td>0</td>\n",
       "      <td>0</td>\n",
       "      <td>59.0</td>\n",
       "      <td>0.940725</td>\n",
       "      <td>0.140725</td>\n",
       "      <td>1.0</td>\n",
       "    </tr>\n",
       "    <tr>\n",
       "      <th>1</th>\n",
       "      <td>2015-01-01</td>\n",
       "      <td>Quarter1</td>\n",
       "      <td>finishing</td>\n",
       "      <td>Thursday</td>\n",
       "      <td>1</td>\n",
       "      <td>0.75</td>\n",
       "      <td>3.94</td>\n",
       "      <td>1190.0</td>\n",
       "      <td>960</td>\n",
       "      <td>0</td>\n",
       "      <td>0.0</td>\n",
       "      <td>0</td>\n",
       "      <td>0</td>\n",
       "      <td>8.0</td>\n",
       "      <td>0.886500</td>\n",
       "      <td>0.136500</td>\n",
       "      <td>1.0</td>\n",
       "    </tr>\n",
       "    <tr>\n",
       "      <th>2</th>\n",
       "      <td>2015-01-01</td>\n",
       "      <td>Quarter1</td>\n",
       "      <td>sewing</td>\n",
       "      <td>Thursday</td>\n",
       "      <td>11</td>\n",
       "      <td>0.80</td>\n",
       "      <td>11.41</td>\n",
       "      <td>968.0</td>\n",
       "      <td>3660</td>\n",
       "      <td>50</td>\n",
       "      <td>0.0</td>\n",
       "      <td>0</td>\n",
       "      <td>0</td>\n",
       "      <td>30.5</td>\n",
       "      <td>0.800570</td>\n",
       "      <td>0.000570</td>\n",
       "      <td>1.0</td>\n",
       "    </tr>\n",
       "    <tr>\n",
       "      <th>3</th>\n",
       "      <td>2015-01-01</td>\n",
       "      <td>Quarter1</td>\n",
       "      <td>sewing</td>\n",
       "      <td>Thursday</td>\n",
       "      <td>12</td>\n",
       "      <td>0.80</td>\n",
       "      <td>11.41</td>\n",
       "      <td>968.0</td>\n",
       "      <td>3660</td>\n",
       "      <td>50</td>\n",
       "      <td>0.0</td>\n",
       "      <td>0</td>\n",
       "      <td>0</td>\n",
       "      <td>30.5</td>\n",
       "      <td>0.800570</td>\n",
       "      <td>0.000570</td>\n",
       "      <td>1.0</td>\n",
       "    </tr>\n",
       "    <tr>\n",
       "      <th>4</th>\n",
       "      <td>2015-01-01</td>\n",
       "      <td>Quarter1</td>\n",
       "      <td>sewing</td>\n",
       "      <td>Thursday</td>\n",
       "      <td>6</td>\n",
       "      <td>0.80</td>\n",
       "      <td>25.90</td>\n",
       "      <td>1170.0</td>\n",
       "      <td>1920</td>\n",
       "      <td>50</td>\n",
       "      <td>0.0</td>\n",
       "      <td>0</td>\n",
       "      <td>0</td>\n",
       "      <td>56.0</td>\n",
       "      <td>0.800382</td>\n",
       "      <td>0.000382</td>\n",
       "      <td>1.0</td>\n",
       "    </tr>\n",
       "  </tbody>\n",
       "</table>\n",
       "</div>"
      ],
      "text/plain": [
       "        date   quarter department       day  team  targeted_productivity  \\\n",
       "0 2015-01-01  Quarter1     sewing  Thursday     8                   0.80   \n",
       "1 2015-01-01  Quarter1  finishing  Thursday     1                   0.75   \n",
       "2 2015-01-01  Quarter1     sewing  Thursday    11                   0.80   \n",
       "3 2015-01-01  Quarter1     sewing  Thursday    12                   0.80   \n",
       "4 2015-01-01  Quarter1     sewing  Thursday     6                   0.80   \n",
       "\n",
       "     smv     wip  over_time  incentive  idle_time  idle_men  \\\n",
       "0  26.16  1108.0       7080         98        0.0         0   \n",
       "1   3.94  1190.0        960          0        0.0         0   \n",
       "2  11.41   968.0       3660         50        0.0         0   \n",
       "3  11.41   968.0       3660         50        0.0         0   \n",
       "4  25.90  1170.0       1920         50        0.0         0   \n",
       "\n",
       "   no_of_style_change  no_of_workers  actual_productivity      diff  \\\n",
       "0                   0           59.0             0.940725  0.140725   \n",
       "1                   0            8.0             0.886500  0.136500   \n",
       "2                   0           30.5             0.800570  0.000570   \n",
       "3                   0           30.5             0.800570  0.000570   \n",
       "4                   0           56.0             0.800382  0.000382   \n",
       "\n",
       "   Target_label  \n",
       "0           1.0  \n",
       "1           1.0  \n",
       "2           1.0  \n",
       "3           1.0  \n",
       "4           1.0  "
      ]
     },
     "execution_count": 39,
     "metadata": {},
     "output_type": "execute_result"
    }
   ],
   "source": [
    "data1['Target_label']=np.nan\n",
    "data1.head()\n",
    "data1.loc[data1['diff']<0,'Target_label'] = -1\n",
    "data1.loc[(data1['diff']==0), 'Target_label'] = 0\n",
    "data1.loc[data1['diff']>0, 'Target_label'] = 1\n",
    "data1.head()"
   ]
  },
  {
   "cell_type": "markdown",
   "id": "dc0352d8",
   "metadata": {
    "papermill": {
     "duration": 0.090065,
     "end_time": "2021-09-01T12:38:24.760653",
     "exception": false,
     "start_time": "2021-09-01T12:38:24.670588",
     "status": "completed"
    },
    "tags": []
   },
   "source": [
    "### Observations\n",
    "If the difference between actual_productivity and targeted_productivity is positive it means productivity is in the range of over_performed,\n",
    "\n",
    "If the difference between actual_productivity and targeted_productivity is equal to 0 it meansproductivity is in the range of as expected,\n",
    "\n",
    "If the difference between actual_productivity and targeted_productivity is negative it means productivity is in the range of under_performed"
   ]
  },
  {
   "cell_type": "code",
   "execution_count": 40,
   "id": "0c40851a",
   "metadata": {
    "execution": {
     "iopub.execute_input": "2021-09-01T12:38:24.996084Z",
     "iopub.status.busy": "2021-09-01T12:38:24.995438Z",
     "iopub.status.idle": "2021-09-01T12:38:25.022023Z",
     "shell.execute_reply": "2021-09-01T12:38:25.022523Z",
     "shell.execute_reply.started": "2021-09-01T12:35:13.291854Z"
    },
    "papermill": {
     "duration": 0.171838,
     "end_time": "2021-09-01T12:38:25.022692",
     "exception": false,
     "start_time": "2021-09-01T12:38:24.850854",
     "status": "completed"
    },
    "tags": []
   },
   "outputs": [
    {
     "data": {
      "text/html": [
       "<div>\n",
       "<style scoped>\n",
       "    .dataframe tbody tr th:only-of-type {\n",
       "        vertical-align: middle;\n",
       "    }\n",
       "\n",
       "    .dataframe tbody tr th {\n",
       "        vertical-align: top;\n",
       "    }\n",
       "\n",
       "    .dataframe thead th {\n",
       "        text-align: right;\n",
       "    }\n",
       "</style>\n",
       "<table border=\"1\" class=\"dataframe\">\n",
       "  <thead>\n",
       "    <tr style=\"text-align: right;\">\n",
       "      <th></th>\n",
       "      <th>date</th>\n",
       "      <th>quarter</th>\n",
       "      <th>department</th>\n",
       "      <th>day</th>\n",
       "      <th>team</th>\n",
       "      <th>targeted_productivity</th>\n",
       "      <th>smv</th>\n",
       "      <th>wip</th>\n",
       "      <th>over_time</th>\n",
       "      <th>incentive</th>\n",
       "      <th>idle_time</th>\n",
       "      <th>idle_men</th>\n",
       "      <th>no_of_style_change</th>\n",
       "      <th>no_of_workers</th>\n",
       "      <th>actual_productivity</th>\n",
       "      <th>diff</th>\n",
       "      <th>Target_label</th>\n",
       "    </tr>\n",
       "  </thead>\n",
       "  <tbody>\n",
       "    <tr>\n",
       "      <th>163</th>\n",
       "      <td>2015-01-10</td>\n",
       "      <td>Quarter2</td>\n",
       "      <td>sewing</td>\n",
       "      <td>Saturday</td>\n",
       "      <td>10</td>\n",
       "      <td>0.8</td>\n",
       "      <td>28.08</td>\n",
       "      <td>1082.0</td>\n",
       "      <td>10530</td>\n",
       "      <td>63</td>\n",
       "      <td>0.0</td>\n",
       "      <td>0</td>\n",
       "      <td>0</td>\n",
       "      <td>58.5</td>\n",
       "      <td>0.8</td>\n",
       "      <td>0.0</td>\n",
       "      <td>0.0</td>\n",
       "    </tr>\n",
       "    <tr>\n",
       "      <th>182</th>\n",
       "      <td>2015-01-11</td>\n",
       "      <td>Quarter2</td>\n",
       "      <td>sewing</td>\n",
       "      <td>Sunday</td>\n",
       "      <td>2</td>\n",
       "      <td>0.8</td>\n",
       "      <td>28.08</td>\n",
       "      <td>805.0</td>\n",
       "      <td>10530</td>\n",
       "      <td>63</td>\n",
       "      <td>0.0</td>\n",
       "      <td>0</td>\n",
       "      <td>0</td>\n",
       "      <td>58.5</td>\n",
       "      <td>0.8</td>\n",
       "      <td>0.0</td>\n",
       "      <td>0.0</td>\n",
       "    </tr>\n",
       "    <tr>\n",
       "      <th>183</th>\n",
       "      <td>2015-01-11</td>\n",
       "      <td>Quarter2</td>\n",
       "      <td>sewing</td>\n",
       "      <td>Sunday</td>\n",
       "      <td>10</td>\n",
       "      <td>0.8</td>\n",
       "      <td>28.08</td>\n",
       "      <td>762.0</td>\n",
       "      <td>10530</td>\n",
       "      <td>38</td>\n",
       "      <td>0.0</td>\n",
       "      <td>0</td>\n",
       "      <td>0</td>\n",
       "      <td>58.5</td>\n",
       "      <td>0.8</td>\n",
       "      <td>0.0</td>\n",
       "      <td>0.0</td>\n",
       "    </tr>\n",
       "    <tr>\n",
       "      <th>207</th>\n",
       "      <td>2015-01-12</td>\n",
       "      <td>Quarter2</td>\n",
       "      <td>sewing</td>\n",
       "      <td>Monday</td>\n",
       "      <td>2</td>\n",
       "      <td>0.8</td>\n",
       "      <td>28.08</td>\n",
       "      <td>737.0</td>\n",
       "      <td>10530</td>\n",
       "      <td>63</td>\n",
       "      <td>0.0</td>\n",
       "      <td>0</td>\n",
       "      <td>0</td>\n",
       "      <td>58.5</td>\n",
       "      <td>0.8</td>\n",
       "      <td>0.0</td>\n",
       "      <td>0.0</td>\n",
       "    </tr>\n",
       "    <tr>\n",
       "      <th>229</th>\n",
       "      <td>2015-01-13</td>\n",
       "      <td>Quarter2</td>\n",
       "      <td>sewing</td>\n",
       "      <td>Tuesday</td>\n",
       "      <td>2</td>\n",
       "      <td>0.8</td>\n",
       "      <td>28.08</td>\n",
       "      <td>723.0</td>\n",
       "      <td>10530</td>\n",
       "      <td>50</td>\n",
       "      <td>0.0</td>\n",
       "      <td>0</td>\n",
       "      <td>0</td>\n",
       "      <td>58.5</td>\n",
       "      <td>0.8</td>\n",
       "      <td>0.0</td>\n",
       "      <td>0.0</td>\n",
       "    </tr>\n",
       "    <tr>\n",
       "      <th>855</th>\n",
       "      <td>2015-02-19</td>\n",
       "      <td>Quarter3</td>\n",
       "      <td>sewing</td>\n",
       "      <td>Thursday</td>\n",
       "      <td>8</td>\n",
       "      <td>0.7</td>\n",
       "      <td>29.40</td>\n",
       "      <td>1116.0</td>\n",
       "      <td>6240</td>\n",
       "      <td>0</td>\n",
       "      <td>0.0</td>\n",
       "      <td>0</td>\n",
       "      <td>2</td>\n",
       "      <td>57.0</td>\n",
       "      <td>0.7</td>\n",
       "      <td>0.0</td>\n",
       "      <td>0.0</td>\n",
       "    </tr>\n",
       "  </tbody>\n",
       "</table>\n",
       "</div>"
      ],
      "text/plain": [
       "          date   quarter department       day  team  targeted_productivity  \\\n",
       "163 2015-01-10  Quarter2     sewing  Saturday    10                    0.8   \n",
       "182 2015-01-11  Quarter2     sewing    Sunday     2                    0.8   \n",
       "183 2015-01-11  Quarter2     sewing    Sunday    10                    0.8   \n",
       "207 2015-01-12  Quarter2     sewing    Monday     2                    0.8   \n",
       "229 2015-01-13  Quarter2     sewing   Tuesday     2                    0.8   \n",
       "855 2015-02-19  Quarter3     sewing  Thursday     8                    0.7   \n",
       "\n",
       "       smv     wip  over_time  incentive  idle_time  idle_men  \\\n",
       "163  28.08  1082.0      10530         63        0.0         0   \n",
       "182  28.08   805.0      10530         63        0.0         0   \n",
       "183  28.08   762.0      10530         38        0.0         0   \n",
       "207  28.08   737.0      10530         63        0.0         0   \n",
       "229  28.08   723.0      10530         50        0.0         0   \n",
       "855  29.40  1116.0       6240          0        0.0         0   \n",
       "\n",
       "     no_of_style_change  no_of_workers  actual_productivity  diff  \\\n",
       "163                   0           58.5                  0.8   0.0   \n",
       "182                   0           58.5                  0.8   0.0   \n",
       "183                   0           58.5                  0.8   0.0   \n",
       "207                   0           58.5                  0.8   0.0   \n",
       "229                   0           58.5                  0.8   0.0   \n",
       "855                   2           57.0                  0.7   0.0   \n",
       "\n",
       "     Target_label  \n",
       "163           0.0  \n",
       "182           0.0  \n",
       "183           0.0  \n",
       "207           0.0  \n",
       "229           0.0  \n",
       "855           0.0  "
      ]
     },
     "execution_count": 40,
     "metadata": {},
     "output_type": "execute_result"
    }
   ],
   "source": [
    "data1[data1['Target_label']==0]"
   ]
  },
  {
   "cell_type": "code",
   "execution_count": 41,
   "id": "6cd7f78f",
   "metadata": {
    "execution": {
     "iopub.execute_input": "2021-09-01T12:38:25.213241Z",
     "iopub.status.busy": "2021-09-01T12:38:25.212612Z",
     "iopub.status.idle": "2021-09-01T12:38:25.342012Z",
     "shell.execute_reply": "2021-09-01T12:38:25.342522Z",
     "shell.execute_reply.started": "2021-09-01T12:35:13.561487Z"
    },
    "papermill": {
     "duration": 0.228355,
     "end_time": "2021-09-01T12:38:25.342690",
     "exception": false,
     "start_time": "2021-09-01T12:38:25.114335",
     "status": "completed"
    },
    "tags": []
   },
   "outputs": [
    {
     "data": {
      "image/png": "[encoded data removed]",
      "text/plain": [
       "<Figure size 432x288 with 1 Axes>"
      ]
     },
     "metadata": {},
     "output_type": "display_data"
    }
   ],
   "source": [
    "ax = sns.countplot(x = 'Target_label', data = data1, palette='Set1')\n",
    "plt.xlabel('No of Target_label')\n",
    "\n",
    "plt.show()"
   ]
  },
  {
   "cell_type": "markdown",
   "id": "ae2c539e",
   "metadata": {
    "papermill": {
     "duration": 0.092527,
     "end_time": "2021-09-01T12:38:25.527401",
     "exception": false,
     "start_time": "2021-09-01T12:38:25.434874",
     "status": "completed"
    },
    "tags": []
   },
   "source": [
    "As it can be seen from the graph above, there is imbalance so it is needed to be handled"
   ]
  },
  {
   "cell_type": "code",
   "execution_count": 42,
   "id": "d830f8fb",
   "metadata": {
    "execution": {
     "iopub.execute_input": "2021-09-01T12:38:25.721866Z",
     "iopub.status.busy": "2021-09-01T12:38:25.721137Z",
     "iopub.status.idle": "2021-09-01T12:38:25.724105Z",
     "shell.execute_reply": "2021-09-01T12:38:25.724673Z",
     "shell.execute_reply.started": "2021-09-01T12:35:14.131887Z"
    },
    "papermill": {
     "duration": 0.10478,
     "end_time": "2021-09-01T12:38:25.724876",
     "exception": false,
     "start_time": "2021-09-01T12:38:25.620096",
     "status": "completed"
    },
    "tags": []
   },
   "outputs": [
    {
     "data": {
      "text/plain": [
       " 1.0    869\n",
       "-1.0    322\n",
       " 0.0      6\n",
       "Name: Target_label, dtype: int64"
      ]
     },
     "execution_count": 42,
     "metadata": {},
     "output_type": "execute_result"
    }
   ],
   "source": [
    "data1['Target_label'].value_counts()"
   ]
  },
  {
   "cell_type": "markdown",
   "id": "08ea0bb4",
   "metadata": {
    "papermill": {
     "duration": 0.093619,
     "end_time": "2021-09-01T12:38:25.911373",
     "exception": false,
     "start_time": "2021-09-01T12:38:25.817754",
     "status": "completed"
    },
    "tags": []
   },
   "source": [
    "### Observations\n",
    "From the value counts above, it can be seen that the dataset ist imbalanced due to the large number of unbalanced observations. In this case, a binary classification problem can be modelled that predicts whether productivity is in the range of over_performed or not.\n",
    "\n",
    "As part of our preprocessing,it is needed to turn the 3 class labels into 2 labels:"
   ]
  },
  {
   "cell_type": "code",
   "execution_count": 43,
   "id": "9ba5d3bb",
   "metadata": {
    "execution": {
     "iopub.execute_input": "2021-09-01T12:38:26.104619Z",
     "iopub.status.busy": "2021-09-01T12:38:26.103974Z",
     "iopub.status.idle": "2021-09-01T12:38:26.114024Z",
     "shell.execute_reply": "2021-09-01T12:38:26.114541Z",
     "shell.execute_reply.started": "2021-09-01T12:35:14.631012Z"
    },
    "papermill": {
     "duration": 0.107981,
     "end_time": "2021-09-01T12:38:26.114709",
     "exception": false,
     "start_time": "2021-09-01T12:38:26.006728",
     "status": "completed"
    },
    "tags": []
   },
   "outputs": [
    {
     "data": {
      "text/plain": [
       " 1    875\n",
       "-1    322\n",
       "Name: Target_label, dtype: int64"
      ]
     },
     "execution_count": 43,
     "metadata": {},
     "output_type": "execute_result"
    }
   ],
   "source": [
    "data1['Target_label'] = [-1 if x==-1 else 1 for x in data1['Target_label']]\n",
    "data1['Target_label'].value_counts()"
   ]
  },
  {
   "cell_type": "code",
   "execution_count": 44,
   "id": "7043f239",
   "metadata": {
    "execution": {
     "iopub.execute_input": "2021-09-01T12:38:26.304717Z",
     "iopub.status.busy": "2021-09-01T12:38:26.304048Z",
     "iopub.status.idle": "2021-09-01T12:38:26.424707Z",
     "shell.execute_reply": "2021-09-01T12:38:26.425274Z",
     "shell.execute_reply.started": "2021-09-01T12:35:14.911406Z"
    },
    "papermill": {
     "duration": 0.217395,
     "end_time": "2021-09-01T12:38:26.425467",
     "exception": false,
     "start_time": "2021-09-01T12:38:26.208072",
     "status": "completed"
    },
    "tags": []
   },
   "outputs": [
    {
     "data": {
      "image/png": "[encoded data removed]",
      "text/plain": [
       "<Figure size 432x288 with 1 Axes>"
      ]
     },
     "metadata": {},
     "output_type": "display_data"
    }
   ],
   "source": [
    "ax = sns.countplot(x = 'Target_label', data = data1)\n",
    "plt.xlabel('No of Target_label')\n",
    "\n",
    "plt.show()"
   ]
  },
  {
   "cell_type": "code",
   "execution_count": 45,
   "id": "e4d9b5d1",
   "metadata": {
    "execution": {
     "iopub.execute_input": "2021-09-01T12:38:26.617885Z",
     "iopub.status.busy": "2021-09-01T12:38:26.617210Z",
     "iopub.status.idle": "2021-09-01T12:38:26.626821Z",
     "shell.execute_reply": "2021-09-01T12:38:26.626283Z",
     "shell.execute_reply.started": "2021-09-01T12:35:15.201102Z"
    },
    "papermill": {
     "duration": 0.107485,
     "end_time": "2021-09-01T12:38:26.626963",
     "exception": false,
     "start_time": "2021-09-01T12:38:26.519478",
     "status": "completed"
    },
    "tags": []
   },
   "outputs": [],
   "source": [
    "X1_train, X1_test, y1_train, y1_test = train_test_split(data1.drop(['Target_label'], axis = 1), \n",
    "                                                    data1['Target_label'], test_size = 0.2)"
   ]
  },
  {
   "cell_type": "code",
   "execution_count": 46,
   "id": "eaab08da",
   "metadata": {
    "execution": {
     "iopub.execute_input": "2021-09-01T12:38:26.821097Z",
     "iopub.status.busy": "2021-09-01T12:38:26.820458Z",
     "iopub.status.idle": "2021-09-01T12:38:26.835693Z",
     "shell.execute_reply": "2021-09-01T12:38:26.836255Z",
     "shell.execute_reply.started": "2021-09-01T12:35:15.471348Z"
    },
    "papermill": {
     "duration": 0.116642,
     "end_time": "2021-09-01T12:38:26.836442",
     "exception": false,
     "start_time": "2021-09-01T12:38:26.719800",
     "status": "completed"
    },
    "tags": []
   },
   "outputs": [
    {
     "data": {
      "text/plain": [
       " 1    875\n",
       "-1    706\n",
       "Name: Target_label, dtype: int64"
      ]
     },
     "execution_count": 46,
     "metadata": {},
     "output_type": "execute_result"
    }
   ],
   "source": [
    "from sklearn.utils import resample,shuffle\n",
    "df_majority = data1[data1['Target_label']==1]\n",
    "df_minority = data1[data1['Target_label']==-1]\n",
    "df_minority_upsampled = resample(df_minority,replace=True,n_samples=y1_train.value_counts()[1],random_state = 123)\n",
    "balanced_df = pd.concat([df_minority_upsampled,df_majority])\n",
    "balanced_df = shuffle(balanced_df)\n",
    "balanced_df.Target_label.value_counts()"
   ]
  },
  {
   "cell_type": "code",
   "execution_count": 47,
   "id": "3e3edd24",
   "metadata": {
    "execution": {
     "iopub.execute_input": "2021-09-01T12:38:27.029517Z",
     "iopub.status.busy": "2021-09-01T12:38:27.028844Z",
     "iopub.status.idle": "2021-09-01T12:38:27.066033Z",
     "shell.execute_reply": "2021-09-01T12:38:27.065384Z",
     "shell.execute_reply.started": "2021-09-01T12:35:15.731152Z"
    },
    "papermill": {
     "duration": 0.136703,
     "end_time": "2021-09-01T12:38:27.066192",
     "exception": false,
     "start_time": "2021-09-01T12:38:26.929489",
     "status": "completed"
    },
    "tags": []
   },
   "outputs": [
    {
     "data": {
      "text/html": [
       "<div>\n",
       "<style scoped>\n",
       "    .dataframe tbody tr th:only-of-type {\n",
       "        vertical-align: middle;\n",
       "    }\n",
       "\n",
       "    .dataframe tbody tr th {\n",
       "        vertical-align: top;\n",
       "    }\n",
       "\n",
       "    .dataframe thead th {\n",
       "        text-align: right;\n",
       "    }\n",
       "</style>\n",
       "<table border=\"1\" class=\"dataframe\">\n",
       "  <thead>\n",
       "    <tr style=\"text-align: right;\">\n",
       "      <th></th>\n",
       "      <th>date</th>\n",
       "      <th>quarter</th>\n",
       "      <th>department</th>\n",
       "      <th>day</th>\n",
       "      <th>team</th>\n",
       "      <th>targeted_productivity</th>\n",
       "      <th>smv</th>\n",
       "      <th>wip</th>\n",
       "      <th>over_time</th>\n",
       "      <th>incentive</th>\n",
       "      <th>idle_time</th>\n",
       "      <th>idle_men</th>\n",
       "      <th>no_of_style_change</th>\n",
       "      <th>no_of_workers</th>\n",
       "      <th>actual_productivity</th>\n",
       "    </tr>\n",
       "  </thead>\n",
       "  <tbody>\n",
       "    <tr>\n",
       "      <th>0</th>\n",
       "      <td>2015-01-01</td>\n",
       "      <td>0</td>\n",
       "      <td>1</td>\n",
       "      <td>3</td>\n",
       "      <td>8</td>\n",
       "      <td>0.80</td>\n",
       "      <td>26.16</td>\n",
       "      <td>1108.0</td>\n",
       "      <td>7080</td>\n",
       "      <td>98</td>\n",
       "      <td>0.0</td>\n",
       "      <td>0</td>\n",
       "      <td>0</td>\n",
       "      <td>59.0</td>\n",
       "      <td>0.940725</td>\n",
       "    </tr>\n",
       "    <tr>\n",
       "      <th>1</th>\n",
       "      <td>2015-01-01</td>\n",
       "      <td>0</td>\n",
       "      <td>0</td>\n",
       "      <td>3</td>\n",
       "      <td>1</td>\n",
       "      <td>0.75</td>\n",
       "      <td>3.94</td>\n",
       "      <td>1190.0</td>\n",
       "      <td>960</td>\n",
       "      <td>0</td>\n",
       "      <td>0.0</td>\n",
       "      <td>0</td>\n",
       "      <td>0</td>\n",
       "      <td>8.0</td>\n",
       "      <td>0.886500</td>\n",
       "    </tr>\n",
       "    <tr>\n",
       "      <th>2</th>\n",
       "      <td>2015-01-01</td>\n",
       "      <td>0</td>\n",
       "      <td>1</td>\n",
       "      <td>3</td>\n",
       "      <td>11</td>\n",
       "      <td>0.80</td>\n",
       "      <td>11.41</td>\n",
       "      <td>968.0</td>\n",
       "      <td>3660</td>\n",
       "      <td>50</td>\n",
       "      <td>0.0</td>\n",
       "      <td>0</td>\n",
       "      <td>0</td>\n",
       "      <td>30.5</td>\n",
       "      <td>0.800570</td>\n",
       "    </tr>\n",
       "    <tr>\n",
       "      <th>3</th>\n",
       "      <td>2015-01-01</td>\n",
       "      <td>0</td>\n",
       "      <td>1</td>\n",
       "      <td>3</td>\n",
       "      <td>12</td>\n",
       "      <td>0.80</td>\n",
       "      <td>11.41</td>\n",
       "      <td>968.0</td>\n",
       "      <td>3660</td>\n",
       "      <td>50</td>\n",
       "      <td>0.0</td>\n",
       "      <td>0</td>\n",
       "      <td>0</td>\n",
       "      <td>30.5</td>\n",
       "      <td>0.800570</td>\n",
       "    </tr>\n",
       "    <tr>\n",
       "      <th>4</th>\n",
       "      <td>2015-01-01</td>\n",
       "      <td>0</td>\n",
       "      <td>1</td>\n",
       "      <td>3</td>\n",
       "      <td>6</td>\n",
       "      <td>0.80</td>\n",
       "      <td>25.90</td>\n",
       "      <td>1170.0</td>\n",
       "      <td>1920</td>\n",
       "      <td>50</td>\n",
       "      <td>0.0</td>\n",
       "      <td>0</td>\n",
       "      <td>0</td>\n",
       "      <td>56.0</td>\n",
       "      <td>0.800382</td>\n",
       "    </tr>\n",
       "    <tr>\n",
       "      <th>...</th>\n",
       "      <td>...</td>\n",
       "      <td>...</td>\n",
       "      <td>...</td>\n",
       "      <td>...</td>\n",
       "      <td>...</td>\n",
       "      <td>...</td>\n",
       "      <td>...</td>\n",
       "      <td>...</td>\n",
       "      <td>...</td>\n",
       "      <td>...</td>\n",
       "      <td>...</td>\n",
       "      <td>...</td>\n",
       "      <td>...</td>\n",
       "      <td>...</td>\n",
       "      <td>...</td>\n",
       "    </tr>\n",
       "    <tr>\n",
       "      <th>1192</th>\n",
       "      <td>2015-03-11</td>\n",
       "      <td>1</td>\n",
       "      <td>1</td>\n",
       "      <td>5</td>\n",
       "      <td>10</td>\n",
       "      <td>0.75</td>\n",
       "      <td>2.90</td>\n",
       "      <td>1190.0</td>\n",
       "      <td>960</td>\n",
       "      <td>0</td>\n",
       "      <td>0.0</td>\n",
       "      <td>0</td>\n",
       "      <td>0</td>\n",
       "      <td>8.0</td>\n",
       "      <td>0.628333</td>\n",
       "    </tr>\n",
       "    <tr>\n",
       "      <th>1193</th>\n",
       "      <td>2015-03-11</td>\n",
       "      <td>1</td>\n",
       "      <td>1</td>\n",
       "      <td>5</td>\n",
       "      <td>8</td>\n",
       "      <td>0.70</td>\n",
       "      <td>3.90</td>\n",
       "      <td>1190.0</td>\n",
       "      <td>960</td>\n",
       "      <td>0</td>\n",
       "      <td>0.0</td>\n",
       "      <td>0</td>\n",
       "      <td>0</td>\n",
       "      <td>8.0</td>\n",
       "      <td>0.625625</td>\n",
       "    </tr>\n",
       "    <tr>\n",
       "      <th>1194</th>\n",
       "      <td>2015-03-11</td>\n",
       "      <td>1</td>\n",
       "      <td>1</td>\n",
       "      <td>5</td>\n",
       "      <td>7</td>\n",
       "      <td>0.65</td>\n",
       "      <td>3.90</td>\n",
       "      <td>1190.0</td>\n",
       "      <td>960</td>\n",
       "      <td>0</td>\n",
       "      <td>0.0</td>\n",
       "      <td>0</td>\n",
       "      <td>0</td>\n",
       "      <td>8.0</td>\n",
       "      <td>0.625625</td>\n",
       "    </tr>\n",
       "    <tr>\n",
       "      <th>1195</th>\n",
       "      <td>2015-03-11</td>\n",
       "      <td>1</td>\n",
       "      <td>1</td>\n",
       "      <td>5</td>\n",
       "      <td>9</td>\n",
       "      <td>0.75</td>\n",
       "      <td>2.90</td>\n",
       "      <td>1190.0</td>\n",
       "      <td>1800</td>\n",
       "      <td>0</td>\n",
       "      <td>0.0</td>\n",
       "      <td>0</td>\n",
       "      <td>0</td>\n",
       "      <td>15.0</td>\n",
       "      <td>0.505889</td>\n",
       "    </tr>\n",
       "    <tr>\n",
       "      <th>1196</th>\n",
       "      <td>2015-03-11</td>\n",
       "      <td>1</td>\n",
       "      <td>1</td>\n",
       "      <td>5</td>\n",
       "      <td>6</td>\n",
       "      <td>0.70</td>\n",
       "      <td>2.90</td>\n",
       "      <td>1190.0</td>\n",
       "      <td>720</td>\n",
       "      <td>0</td>\n",
       "      <td>0.0</td>\n",
       "      <td>0</td>\n",
       "      <td>0</td>\n",
       "      <td>6.0</td>\n",
       "      <td>0.394722</td>\n",
       "    </tr>\n",
       "  </tbody>\n",
       "</table>\n",
       "<p>1197 rows × 15 columns</p>\n",
       "</div>"
      ],
      "text/plain": [
       "           date  quarter  department  day  team  targeted_productivity    smv  \\\n",
       "0    2015-01-01        0           1    3     8                   0.80  26.16   \n",
       "1    2015-01-01        0           0    3     1                   0.75   3.94   \n",
       "2    2015-01-01        0           1    3    11                   0.80  11.41   \n",
       "3    2015-01-01        0           1    3    12                   0.80  11.41   \n",
       "4    2015-01-01        0           1    3     6                   0.80  25.90   \n",
       "...         ...      ...         ...  ...   ...                    ...    ...   \n",
       "1192 2015-03-11        1           1    5    10                   0.75   2.90   \n",
       "1193 2015-03-11        1           1    5     8                   0.70   3.90   \n",
       "1194 2015-03-11        1           1    5     7                   0.65   3.90   \n",
       "1195 2015-03-11        1           1    5     9                   0.75   2.90   \n",
       "1196 2015-03-11        1           1    5     6                   0.70   2.90   \n",
       "\n",
       "         wip  over_time  incentive  idle_time  idle_men  no_of_style_change  \\\n",
       "0     1108.0       7080         98        0.0         0                   0   \n",
       "1     1190.0        960          0        0.0         0                   0   \n",
       "2      968.0       3660         50        0.0         0                   0   \n",
       "3      968.0       3660         50        0.0         0                   0   \n",
       "4     1170.0       1920         50        0.0         0                   0   \n",
       "...      ...        ...        ...        ...       ...                 ...   \n",
       "1192  1190.0        960          0        0.0         0                   0   \n",
       "1193  1190.0        960          0        0.0         0                   0   \n",
       "1194  1190.0        960          0        0.0         0                   0   \n",
       "1195  1190.0       1800          0        0.0         0                   0   \n",
       "1196  1190.0        720          0        0.0         0                   0   \n",
       "\n",
       "      no_of_workers  actual_productivity  \n",
       "0              59.0             0.940725  \n",
       "1               8.0             0.886500  \n",
       "2              30.5             0.800570  \n",
       "3              30.5             0.800570  \n",
       "4              56.0             0.800382  \n",
       "...             ...                  ...  \n",
       "1192            8.0             0.628333  \n",
       "1193            8.0             0.625625  \n",
       "1194            8.0             0.625625  \n",
       "1195           15.0             0.505889  \n",
       "1196            6.0             0.394722  \n",
       "\n",
       "[1197 rows x 15 columns]"
      ]
     },
     "execution_count": 47,
     "metadata": {},
     "output_type": "execute_result"
    }
   ],
   "source": [
    "from sklearn.preprocessing import LabelEncoder\n",
    "\n",
    "data1= data.copy()\n",
    "label_encoder = LabelEncoder()\n",
    "for col in catogrical:\n",
    "    data[col] = label_encoder.fit_transform(data[col])\n",
    "    \n",
    "data"
   ]
  },
  {
   "cell_type": "code",
   "execution_count": 48,
   "id": "d0331ec7",
   "metadata": {},
   "outputs": [
    {
     "data": {
      "text/plain": [
       "['quarter', 'department', 'day']"
      ]
     },
     "execution_count": 48,
     "metadata": {},
     "output_type": "execute_result"
    }
   ],
   "source": [
    "catogrical"
   ]
  },
  {
   "cell_type": "code",
   "execution_count": 49,
   "id": "aa94d09a",
   "metadata": {
    "execution": {
     "iopub.execute_input": "2021-09-01T12:38:27.262594Z",
     "iopub.status.busy": "2021-09-01T12:38:27.261922Z",
     "iopub.status.idle": "2021-09-01T12:38:27.275087Z",
     "shell.execute_reply": "2021-09-01T12:38:27.275639Z",
     "shell.execute_reply.started": "2021-09-01T12:35:16.021496Z"
    },
    "papermill": {
     "duration": 0.113303,
     "end_time": "2021-09-01T12:38:27.275850",
     "exception": false,
     "start_time": "2021-09-01T12:38:27.162547",
     "status": "completed"
    },
    "tags": []
   },
   "outputs": [],
   "source": [
    "data[\"Date\"] = pd.to_datetime(data['date'])\n",
    "data[\"year\"] = data[\"date\"].dt.year\n",
    "data[\"day\"] = data[\"date\"].dt.day\n",
    "data[\"month\"] = data[\"date\"].dt.month\n",
    "\n",
    "# Drop original columns Date\n",
    "data.drop('Date', axis=1, inplace=True)"
   ]
  },
  {
   "cell_type": "code",
   "execution_count": 50,
   "id": "020f772c",
   "metadata": {
    "execution": {
     "iopub.execute_input": "2021-09-01T12:38:27.471698Z",
     "iopub.status.busy": "2021-09-01T12:38:27.471002Z",
     "iopub.status.idle": "2021-09-01T12:38:27.490849Z",
     "shell.execute_reply": "2021-09-01T12:38:27.491367Z",
     "shell.execute_reply.started": "2021-09-01T12:35:16.281579Z"
    },
    "papermill": {
     "duration": 0.11952,
     "end_time": "2021-09-01T12:38:27.491573",
     "exception": false,
     "start_time": "2021-09-01T12:38:27.372053",
     "status": "completed"
    },
    "tags": []
   },
   "outputs": [
    {
     "data": {
      "text/html": [
       "<div>\n",
       "<style scoped>\n",
       "    .dataframe tbody tr th:only-of-type {\n",
       "        vertical-align: middle;\n",
       "    }\n",
       "\n",
       "    .dataframe tbody tr th {\n",
       "        vertical-align: top;\n",
       "    }\n",
       "\n",
       "    .dataframe thead th {\n",
       "        text-align: right;\n",
       "    }\n",
       "</style>\n",
       "<table border=\"1\" class=\"dataframe\">\n",
       "  <thead>\n",
       "    <tr style=\"text-align: right;\">\n",
       "      <th></th>\n",
       "      <th>date</th>\n",
       "      <th>quarter</th>\n",
       "      <th>department</th>\n",
       "      <th>day</th>\n",
       "      <th>team</th>\n",
       "      <th>targeted_productivity</th>\n",
       "      <th>smv</th>\n",
       "      <th>wip</th>\n",
       "      <th>over_time</th>\n",
       "      <th>incentive</th>\n",
       "      <th>idle_time</th>\n",
       "      <th>idle_men</th>\n",
       "      <th>no_of_style_change</th>\n",
       "      <th>no_of_workers</th>\n",
       "      <th>actual_productivity</th>\n",
       "      <th>year</th>\n",
       "      <th>month</th>\n",
       "    </tr>\n",
       "  </thead>\n",
       "  <tbody>\n",
       "    <tr>\n",
       "      <th>0</th>\n",
       "      <td>2015-01-01</td>\n",
       "      <td>0</td>\n",
       "      <td>1</td>\n",
       "      <td>1</td>\n",
       "      <td>8</td>\n",
       "      <td>0.80</td>\n",
       "      <td>26.16</td>\n",
       "      <td>1108.0</td>\n",
       "      <td>7080</td>\n",
       "      <td>98</td>\n",
       "      <td>0.0</td>\n",
       "      <td>0</td>\n",
       "      <td>0</td>\n",
       "      <td>59.0</td>\n",
       "      <td>0.940725</td>\n",
       "      <td>2015</td>\n",
       "      <td>1</td>\n",
       "    </tr>\n",
       "    <tr>\n",
       "      <th>1</th>\n",
       "      <td>2015-01-01</td>\n",
       "      <td>0</td>\n",
       "      <td>0</td>\n",
       "      <td>1</td>\n",
       "      <td>1</td>\n",
       "      <td>0.75</td>\n",
       "      <td>3.94</td>\n",
       "      <td>1190.0</td>\n",
       "      <td>960</td>\n",
       "      <td>0</td>\n",
       "      <td>0.0</td>\n",
       "      <td>0</td>\n",
       "      <td>0</td>\n",
       "      <td>8.0</td>\n",
       "      <td>0.886500</td>\n",
       "      <td>2015</td>\n",
       "      <td>1</td>\n",
       "    </tr>\n",
       "    <tr>\n",
       "      <th>2</th>\n",
       "      <td>2015-01-01</td>\n",
       "      <td>0</td>\n",
       "      <td>1</td>\n",
       "      <td>1</td>\n",
       "      <td>11</td>\n",
       "      <td>0.80</td>\n",
       "      <td>11.41</td>\n",
       "      <td>968.0</td>\n",
       "      <td>3660</td>\n",
       "      <td>50</td>\n",
       "      <td>0.0</td>\n",
       "      <td>0</td>\n",
       "      <td>0</td>\n",
       "      <td>30.5</td>\n",
       "      <td>0.800570</td>\n",
       "      <td>2015</td>\n",
       "      <td>1</td>\n",
       "    </tr>\n",
       "    <tr>\n",
       "      <th>3</th>\n",
       "      <td>2015-01-01</td>\n",
       "      <td>0</td>\n",
       "      <td>1</td>\n",
       "      <td>1</td>\n",
       "      <td>12</td>\n",
       "      <td>0.80</td>\n",
       "      <td>11.41</td>\n",
       "      <td>968.0</td>\n",
       "      <td>3660</td>\n",
       "      <td>50</td>\n",
       "      <td>0.0</td>\n",
       "      <td>0</td>\n",
       "      <td>0</td>\n",
       "      <td>30.5</td>\n",
       "      <td>0.800570</td>\n",
       "      <td>2015</td>\n",
       "      <td>1</td>\n",
       "    </tr>\n",
       "    <tr>\n",
       "      <th>4</th>\n",
       "      <td>2015-01-01</td>\n",
       "      <td>0</td>\n",
       "      <td>1</td>\n",
       "      <td>1</td>\n",
       "      <td>6</td>\n",
       "      <td>0.80</td>\n",
       "      <td>25.90</td>\n",
       "      <td>1170.0</td>\n",
       "      <td>1920</td>\n",
       "      <td>50</td>\n",
       "      <td>0.0</td>\n",
       "      <td>0</td>\n",
       "      <td>0</td>\n",
       "      <td>56.0</td>\n",
       "      <td>0.800382</td>\n",
       "      <td>2015</td>\n",
       "      <td>1</td>\n",
       "    </tr>\n",
       "  </tbody>\n",
       "</table>\n",
       "</div>"
      ],
      "text/plain": [
       "        date  quarter  department  day  team  targeted_productivity    smv  \\\n",
       "0 2015-01-01        0           1    1     8                   0.80  26.16   \n",
       "1 2015-01-01        0           0    1     1                   0.75   3.94   \n",
       "2 2015-01-01        0           1    1    11                   0.80  11.41   \n",
       "3 2015-01-01        0           1    1    12                   0.80  11.41   \n",
       "4 2015-01-01        0           1    1     6                   0.80  25.90   \n",
       "\n",
       "      wip  over_time  incentive  idle_time  idle_men  no_of_style_change  \\\n",
       "0  1108.0       7080         98        0.0         0                   0   \n",
       "1  1190.0        960          0        0.0         0                   0   \n",
       "2   968.0       3660         50        0.0         0                   0   \n",
       "3   968.0       3660         50        0.0         0                   0   \n",
       "4  1170.0       1920         50        0.0         0                   0   \n",
       "\n",
       "   no_of_workers  actual_productivity  year  month  \n",
       "0           59.0             0.940725  2015      1  \n",
       "1            8.0             0.886500  2015      1  \n",
       "2           30.5             0.800570  2015      1  \n",
       "3           30.5             0.800570  2015      1  \n",
       "4           56.0             0.800382  2015      1  "
      ]
     },
     "execution_count": 50,
     "metadata": {},
     "output_type": "execute_result"
    }
   ],
   "source": [
    "data.head()"
   ]
  },
  {
   "cell_type": "code",
   "execution_count": 51,
   "id": "be9640d5",
   "metadata": {
    "execution": {
     "iopub.execute_input": "2021-09-01T12:38:27.728882Z",
     "iopub.status.busy": "2021-09-01T12:38:27.728107Z",
     "iopub.status.idle": "2021-09-01T12:38:27.734940Z",
     "shell.execute_reply": "2021-09-01T12:38:27.734199Z",
     "shell.execute_reply.started": "2021-09-01T12:35:16.531823Z"
    },
    "papermill": {
     "duration": 0.142578,
     "end_time": "2021-09-01T12:38:27.735116",
     "exception": false,
     "start_time": "2021-09-01T12:38:27.592538",
     "status": "completed"
    },
    "tags": []
   },
   "outputs": [],
   "source": [
    "data.drop('date',axis=1,inplace=True)"
   ]
  },
  {
   "cell_type": "code",
   "execution_count": 52,
   "id": "ee0dd27e",
   "metadata": {
    "execution": {
     "iopub.execute_input": "2021-09-01T12:38:27.950254Z",
     "iopub.status.busy": "2021-09-01T12:38:27.949418Z",
     "iopub.status.idle": "2021-09-01T12:38:27.953676Z",
     "shell.execute_reply": "2021-09-01T12:38:27.952975Z",
     "shell.execute_reply.started": "2021-09-01T12:35:18.381257Z"
    },
    "papermill": {
     "duration": 0.120994,
     "end_time": "2021-09-01T12:38:27.953832",
     "exception": false,
     "start_time": "2021-09-01T12:38:27.832838",
     "status": "completed"
    },
    "tags": []
   },
   "outputs": [
    {
     "data": {
      "text/html": [
       "<div>\n",
       "<style scoped>\n",
       "    .dataframe tbody tr th:only-of-type {\n",
       "        vertical-align: middle;\n",
       "    }\n",
       "\n",
       "    .dataframe tbody tr th {\n",
       "        vertical-align: top;\n",
       "    }\n",
       "\n",
       "    .dataframe thead th {\n",
       "        text-align: right;\n",
       "    }\n",
       "</style>\n",
       "<table border=\"1\" class=\"dataframe\">\n",
       "  <thead>\n",
       "    <tr style=\"text-align: right;\">\n",
       "      <th></th>\n",
       "      <th>quarter</th>\n",
       "      <th>department</th>\n",
       "      <th>day</th>\n",
       "      <th>team</th>\n",
       "      <th>targeted_productivity</th>\n",
       "      <th>smv</th>\n",
       "      <th>wip</th>\n",
       "      <th>over_time</th>\n",
       "      <th>incentive</th>\n",
       "      <th>idle_time</th>\n",
       "      <th>idle_men</th>\n",
       "      <th>no_of_style_change</th>\n",
       "      <th>no_of_workers</th>\n",
       "      <th>actual_productivity</th>\n",
       "      <th>year</th>\n",
       "      <th>month</th>\n",
       "    </tr>\n",
       "  </thead>\n",
       "  <tbody>\n",
       "    <tr>\n",
       "      <th>0</th>\n",
       "      <td>0</td>\n",
       "      <td>1</td>\n",
       "      <td>1</td>\n",
       "      <td>8</td>\n",
       "      <td>0.80</td>\n",
       "      <td>26.16</td>\n",
       "      <td>1108.0</td>\n",
       "      <td>7080</td>\n",
       "      <td>98</td>\n",
       "      <td>0.0</td>\n",
       "      <td>0</td>\n",
       "      <td>0</td>\n",
       "      <td>59.0</td>\n",
       "      <td>0.940725</td>\n",
       "      <td>2015</td>\n",
       "      <td>1</td>\n",
       "    </tr>\n",
       "    <tr>\n",
       "      <th>1</th>\n",
       "      <td>0</td>\n",
       "      <td>0</td>\n",
       "      <td>1</td>\n",
       "      <td>1</td>\n",
       "      <td>0.75</td>\n",
       "      <td>3.94</td>\n",
       "      <td>1190.0</td>\n",
       "      <td>960</td>\n",
       "      <td>0</td>\n",
       "      <td>0.0</td>\n",
       "      <td>0</td>\n",
       "      <td>0</td>\n",
       "      <td>8.0</td>\n",
       "      <td>0.886500</td>\n",
       "      <td>2015</td>\n",
       "      <td>1</td>\n",
       "    </tr>\n",
       "    <tr>\n",
       "      <th>2</th>\n",
       "      <td>0</td>\n",
       "      <td>1</td>\n",
       "      <td>1</td>\n",
       "      <td>11</td>\n",
       "      <td>0.80</td>\n",
       "      <td>11.41</td>\n",
       "      <td>968.0</td>\n",
       "      <td>3660</td>\n",
       "      <td>50</td>\n",
       "      <td>0.0</td>\n",
       "      <td>0</td>\n",
       "      <td>0</td>\n",
       "      <td>30.5</td>\n",
       "      <td>0.800570</td>\n",
       "      <td>2015</td>\n",
       "      <td>1</td>\n",
       "    </tr>\n",
       "    <tr>\n",
       "      <th>3</th>\n",
       "      <td>0</td>\n",
       "      <td>1</td>\n",
       "      <td>1</td>\n",
       "      <td>12</td>\n",
       "      <td>0.80</td>\n",
       "      <td>11.41</td>\n",
       "      <td>968.0</td>\n",
       "      <td>3660</td>\n",
       "      <td>50</td>\n",
       "      <td>0.0</td>\n",
       "      <td>0</td>\n",
       "      <td>0</td>\n",
       "      <td>30.5</td>\n",
       "      <td>0.800570</td>\n",
       "      <td>2015</td>\n",
       "      <td>1</td>\n",
       "    </tr>\n",
       "    <tr>\n",
       "      <th>4</th>\n",
       "      <td>0</td>\n",
       "      <td>1</td>\n",
       "      <td>1</td>\n",
       "      <td>6</td>\n",
       "      <td>0.80</td>\n",
       "      <td>25.90</td>\n",
       "      <td>1170.0</td>\n",
       "      <td>1920</td>\n",
       "      <td>50</td>\n",
       "      <td>0.0</td>\n",
       "      <td>0</td>\n",
       "      <td>0</td>\n",
       "      <td>56.0</td>\n",
       "      <td>0.800382</td>\n",
       "      <td>2015</td>\n",
       "      <td>1</td>\n",
       "    </tr>\n",
       "  </tbody>\n",
       "</table>\n",
       "</div>"
      ],
      "text/plain": [
       "   quarter  department  day  team  targeted_productivity    smv     wip  \\\n",
       "0        0           1    1     8                   0.80  26.16  1108.0   \n",
       "1        0           0    1     1                   0.75   3.94  1190.0   \n",
       "2        0           1    1    11                   0.80  11.41   968.0   \n",
       "3        0           1    1    12                   0.80  11.41   968.0   \n",
       "4        0           1    1     6                   0.80  25.90  1170.0   \n",
       "\n",
       "   over_time  incentive  idle_time  idle_men  no_of_style_change  \\\n",
       "0       7080         98        0.0         0                   0   \n",
       "1        960          0        0.0         0                   0   \n",
       "2       3660         50        0.0         0                   0   \n",
       "3       3660         50        0.0         0                   0   \n",
       "4       1920         50        0.0         0                   0   \n",
       "\n",
       "   no_of_workers  actual_productivity  year  month  \n",
       "0           59.0             0.940725  2015      1  \n",
       "1            8.0             0.886500  2015      1  \n",
       "2           30.5             0.800570  2015      1  \n",
       "3           30.5             0.800570  2015      1  \n",
       "4           56.0             0.800382  2015      1  "
      ]
     },
     "execution_count": 52,
     "metadata": {},
     "output_type": "execute_result"
    }
   ],
   "source": [
    "data.head()"
   ]
  },
  {
   "cell_type": "markdown",
   "id": "daef8d4a",
   "metadata": {
    "papermill": {
     "duration": 0.098065,
     "end_time": "2021-09-01T12:38:28.152280",
     "exception": false,
     "start_time": "2021-09-01T12:38:28.054215",
     "status": "completed"
    },
    "tags": []
   },
   "source": [
    "<a id='6'></a>\n",
    "# <p style=\"background-color:violet; font-family:newtimeroman; font-size:120%; text-align:center; border-radius: 10px 25px;\">Machine Learning Model</p>"
   ]
  },
  {
   "cell_type": "code",
   "execution_count": 53,
   "id": "396a45e2",
   "metadata": {
    "execution": {
     "iopub.execute_input": "2021-09-01T12:38:28.358053Z",
     "iopub.status.busy": "2021-09-01T12:38:28.357286Z",
     "iopub.status.idle": "2021-09-01T12:38:28.364890Z",
     "shell.execute_reply": "2021-09-01T12:38:28.364277Z",
     "shell.execute_reply.started": "2021-09-01T12:35:18.901406Z"
    },
    "papermill": {
     "duration": 0.115332,
     "end_time": "2021-09-01T12:38:28.365069",
     "exception": false,
     "start_time": "2021-09-01T12:38:28.249737",
     "status": "completed"
    },
    "tags": []
   },
   "outputs": [],
   "source": [
    "X = data.drop('actual_productivity',axis=1)\n",
    "y = data['actual_productivity']\n",
    "#Standardization\n",
    "from sklearn.preprocessing import StandardScaler\n",
    "sc=StandardScaler()\n",
    "X=sc.fit_transform(X)\n",
    "from sklearn.model_selection import train_test_split\n",
    "X_train, X_test, y_train, y_test = train_test_split(X, y, test_size=0.25, random_state=42,shuffle=True)"
   ]
  },
  {
   "cell_type": "markdown",
   "id": "f8fb4002",
   "metadata": {
    "papermill": {
     "duration": 0.098537,
     "end_time": "2021-09-01T12:38:28.562166",
     "exception": false,
     "start_time": "2021-09-01T12:38:28.463629",
     "status": "completed"
    },
    "tags": []
   },
   "source": [
    "<a id='6.1'></a>\n",
    "# <p style=\"background-color:orange; font-family:newtimeroman; font-size:120%; text-align:center; border-radius: 10px 25px;\">Applying Regression Algorithms</p>"
   ]
  },
  {
   "cell_type": "markdown",
   "id": "256e8ec2",
   "metadata": {
    "papermill": {
     "duration": 0.096616,
     "end_time": "2021-09-01T12:38:28.757551",
     "exception": false,
     "start_time": "2021-09-01T12:38:28.660935",
     "status": "completed"
    },
    "tags": []
   },
   "source": [
    "## Linear Regression"
   ]
  },
  {
   "cell_type": "code",
   "execution_count": 54,
   "id": "c7599050",
   "metadata": {
    "execution": {
     "iopub.execute_input": "2021-09-01T12:38:28.958619Z",
     "iopub.status.busy": "2021-09-01T12:38:28.957950Z",
     "iopub.status.idle": "2021-09-01T12:38:29.143463Z",
     "shell.execute_reply": "2021-09-01T12:38:29.142185Z",
     "shell.execute_reply.started": "2021-09-01T12:35:21.901437Z"
    },
    "papermill": {
     "duration": 0.287783,
     "end_time": "2021-09-01T12:38:29.143647",
     "exception": false,
     "start_time": "2021-09-01T12:38:28.855864",
     "status": "completed"
    },
    "tags": []
   },
   "outputs": [],
   "source": [
    "lr = LinearRegression()\n",
    "lr.fit(X_train, y_train)\n",
    "y_pred= lr.predict(X_test)"
   ]
  },
  {
   "cell_type": "code",
   "execution_count": 55,
   "id": "ad3041cb",
   "metadata": {
    "execution": {
     "iopub.execute_input": "2021-09-01T12:38:29.347675Z",
     "iopub.status.busy": "2021-09-01T12:38:29.346951Z",
     "iopub.status.idle": "2021-09-01T12:38:29.349818Z",
     "shell.execute_reply": "2021-09-01T12:38:29.350519Z",
     "shell.execute_reply.started": "2021-09-01T12:35:22.161252Z"
    },
    "papermill": {
     "duration": 0.108644,
     "end_time": "2021-09-01T12:38:29.350778",
     "exception": false,
     "start_time": "2021-09-01T12:38:29.242134",
     "status": "completed"
    },
    "tags": []
   },
   "outputs": [
    {
     "name": "stdout",
     "output_type": "stream",
     "text": [
      "R2 score is -1.7952746468717762\n",
      "Residual sum of squares (MSE): 0.02\n"
     ]
    }
   ],
   "source": [
    "#Accuracy and MSE\n",
    "print(f'R2 score is {r2_score(y_pred,y_test)}')\n",
    "print(\"Residual sum of squares (MSE): %.2f\" % np.mean((y_pred - y_test) ** 2))\n"
   ]
  },
  {
   "cell_type": "code",
   "execution_count": 58,
   "id": "b7a41271",
   "metadata": {},
   "outputs": [
    {
     "data": {
      "text/plain": [
       "0.18850806288949817"
      ]
     },
     "execution_count": 58,
     "metadata": {},
     "output_type": "execute_result"
    }
   ],
   "source": [
    "lr.score(X_test,y_test)"
   ]
  },
  {
   "cell_type": "code",
   "execution_count": 59,
   "id": "396fb6ae",
   "metadata": {
    "execution": {
     "iopub.execute_input": "2021-09-01T12:38:29.552130Z",
     "iopub.status.busy": "2021-09-01T12:38:29.551441Z",
     "iopub.status.idle": "2021-09-01T12:38:29.579829Z",
     "shell.execute_reply": "2021-09-01T12:38:29.580861Z",
     "shell.execute_reply.started": "2021-09-01T12:35:22.391452Z"
    },
    "papermill": {
     "duration": 0.130571,
     "end_time": "2021-09-01T12:38:29.581135",
     "exception": false,
     "start_time": "2021-09-01T12:38:29.450564",
     "status": "completed"
    },
    "tags": []
   },
   "outputs": [
    {
     "name": "stdout",
     "output_type": "stream",
     "text": [
      "Test data R-2 score:  0.18850806288949817\n",
      "Test data Spearman correlation 0.5087623078089165\n",
      "Test data Pearson correlation 0.4443476943392052\n",
      " \n",
      "Train data R-2 score: 0.3219553076244671\n",
      "Train data Spearman correlation 0.5503116253845799\n",
      "Train data Pearson correlation: 0.567411057016399\n"
     ]
    }
   ],
   "source": [
    "from scipy.stats import spearmanr, pearsonr\n",
    "predicted_train = lr.predict(X_train)\n",
    "predicted_test = lr.predict(X_test)\n",
    "test_score = r2_score(y_test, predicted_test)\n",
    "spearman = spearmanr(y_test, predicted_test)\n",
    "pearson = pearsonr(y_test, predicted_test)\n",
    "\n",
    "print('Test data R-2 score: ',test_score)\n",
    "print('Test data Spearman correlation',spearman[0])\n",
    "print('Test data Pearson correlation',pearson[0])\n",
    "\n",
    "train_score = r2_score(y_train, predicted_train)\n",
    "spearmanTrain = spearmanr(y_train, predicted_train)\n",
    "pearsonTrain = pearsonr(y_train, predicted_train)\n",
    "\n",
    "print(' ')\n",
    "\n",
    "print('Train data R-2 score:',train_score)\n",
    "print('Train data Spearman correlation',spearmanTrain[0])\n",
    "print('Train data Pearson correlation:',pearsonTrain[0])\n"
   ]
  },
  {
   "cell_type": "markdown",
   "id": "ed0cdd8b",
   "metadata": {
    "papermill": {
     "duration": 0.096474,
     "end_time": "2021-09-01T12:38:29.820197",
     "exception": false,
     "start_time": "2021-09-01T12:38:29.723723",
     "status": "completed"
    },
    "tags": []
   },
   "source": [
    "## Random Forest Regressor"
   ]
  },
  {
   "cell_type": "code",
   "execution_count": 60,
   "id": "fd79d736",
   "metadata": {
    "execution": {
     "iopub.execute_input": "2021-09-01T12:38:30.046157Z",
     "iopub.status.busy": "2021-09-01T12:38:30.040900Z",
     "iopub.status.idle": "2021-09-01T12:38:32.182820Z",
     "shell.execute_reply": "2021-09-01T12:38:32.183489Z",
     "shell.execute_reply.started": "2021-09-01T12:35:22.981513Z"
    },
    "papermill": {
     "duration": 2.265929,
     "end_time": "2021-09-01T12:38:32.183738",
     "exception": false,
     "start_time": "2021-09-01T12:38:29.917809",
     "status": "completed"
    },
    "tags": []
   },
   "outputs": [
    {
     "name": "stdout",
     "output_type": "stream",
     "text": [
      "Test data R-2 score:  0.49391256996173505\n",
      "Test data Spearman correlation 0.7186787970591568\n",
      "Test data Pearson correlation 0.7039641333558366\n",
      " \n",
      "Train data R-2 score: 0.7951195826233187\n",
      "Train data Spearman correlation 0.9015816774381229\n",
      "Train data Pearson correlation: 0.9008574194556593\n"
     ]
    }
   ],
   "source": [
    "from sklearn.ensemble import RandomForestRegressor\n",
    "rf = RandomForestRegressor(n_estimators=500,min_samples_split=10)\n",
    "rf.fit(X_train,y_train)\n",
    "predicted_train = rf.predict(X_train)\n",
    "predicted_test = rf.predict(X_test)\n",
    "test_score = r2_score(y_test, predicted_test)\n",
    "spearman = spearmanr(y_test, predicted_test)\n",
    "pearson = pearsonr(y_test, predicted_test)\n",
    "\n",
    "print('Test data R-2 score: ',test_score)\n",
    "print('Test data Spearman correlation',spearman[0])\n",
    "print('Test data Pearson correlation',pearson[0])\n",
    "\n",
    "train_score = r2_score(y_train, predicted_train)\n",
    "spearmanTrain = spearmanr(y_train, predicted_train)\n",
    "pearsonTrain = pearsonr(y_train, predicted_train)\n",
    "\n",
    "print(' ')\n",
    "\n",
    "print('Train data R-2 score:',train_score)\n",
    "print('Train data Spearman correlation',spearmanTrain[0])\n",
    "print('Train data Pearson correlation:',pearsonTrain[0])"
   ]
  },
  {
   "cell_type": "markdown",
   "id": "bc30e665",
   "metadata": {
    "papermill": {
     "duration": 0.096216,
     "end_time": "2021-09-01T12:38:32.378261",
     "exception": false,
     "start_time": "2021-09-01T12:38:32.282045",
     "status": "completed"
    },
    "tags": []
   },
   "source": [
    "<a id='6.2'></a>\n",
    "# <p style=\"background-color:yellow; font-family:newtimeroman; font-size:120%; text-align:center; border-radius: 10px 25px;\">Applying Classification Algorithms</p>"
   ]
  },
  {
   "cell_type": "code",
   "execution_count": 61,
   "id": "48a084b8",
   "metadata": {
    "execution": {
     "iopub.execute_input": "2021-09-01T12:38:32.581105Z",
     "iopub.status.busy": "2021-09-01T12:38:32.580315Z",
     "iopub.status.idle": "2021-09-01T12:38:32.585718Z",
     "shell.execute_reply": "2021-09-01T12:38:32.585033Z",
     "shell.execute_reply.started": "2021-09-01T12:35:25.165435Z"
    },
    "papermill": {
     "duration": 0.110994,
     "end_time": "2021-09-01T12:38:32.585860",
     "exception": false,
     "start_time": "2021-09-01T12:38:32.474866",
     "status": "completed"
    },
    "tags": []
   },
   "outputs": [],
   "source": [
    "def evaluate(model, X_train, X_test, y_train, y_test):\n",
    "    y_test_pred = model.predict(X_test)\n",
    "    y_train_pred = model.predict(X_train)\n",
    "\n",
    "    print(\"TRAINIG RESULTS: \\n===============================\")\n",
    "    clf_report = pd.DataFrame(classification_report(y_train, y_train_pred, output_dict=True))\n",
    "    print(f\"CONFUSION MATRIX:\\n{confusion_matrix(y_train, y_train_pred)}\")\n",
    "    print(f\"ACCURACY SCORE:\\n{accuracy_score(y_train, y_train_pred):.4f}\")\n",
    "    print(f\"CLASSIFICATION REPORT:\\n{clf_report}\")\n",
    "\n",
    "    print(\"TESTING RESULTS: \\n===============================\")\n",
    "    clf_report = pd.DataFrame(classification_report(y_test, y_test_pred, output_dict=True))\n",
    "    print(f\"CONFUSION MATRIX:\\n{confusion_matrix(y_test, y_test_pred)}\")\n",
    "    print(f\"ACCURACY SCORE:\\n{accuracy_score(y_test, y_test_pred):.4f}\")\n",
    "    print(f\"CLASSIFICATION REPORT:\\n{clf_report}\")"
   ]
  },
  {
   "cell_type": "code",
   "execution_count": 62,
   "id": "b6ccde7f",
   "metadata": {
    "execution": {
     "iopub.execute_input": "2021-09-01T12:38:32.800067Z",
     "iopub.status.busy": "2021-09-01T12:38:32.796419Z",
     "iopub.status.idle": "2021-09-01T12:38:32.818636Z",
     "shell.execute_reply": "2021-09-01T12:38:32.819103Z",
     "shell.execute_reply.started": "2021-09-01T12:35:25.174970Z"
    },
    "papermill": {
     "duration": 0.136316,
     "end_time": "2021-09-01T12:38:32.819279",
     "exception": false,
     "start_time": "2021-09-01T12:38:32.682963",
     "status": "completed"
    },
    "tags": []
   },
   "outputs": [
    {
     "data": {
      "text/html": [
       "<div>\n",
       "<style scoped>\n",
       "    .dataframe tbody tr th:only-of-type {\n",
       "        vertical-align: middle;\n",
       "    }\n",
       "\n",
       "    .dataframe tbody tr th {\n",
       "        vertical-align: top;\n",
       "    }\n",
       "\n",
       "    .dataframe thead th {\n",
       "        text-align: right;\n",
       "    }\n",
       "</style>\n",
       "<table border=\"1\" class=\"dataframe\">\n",
       "  <thead>\n",
       "    <tr style=\"text-align: right;\">\n",
       "      <th></th>\n",
       "      <th>date</th>\n",
       "      <th>quarter</th>\n",
       "      <th>department</th>\n",
       "      <th>day</th>\n",
       "      <th>team</th>\n",
       "      <th>targeted_productivity</th>\n",
       "      <th>smv</th>\n",
       "      <th>wip</th>\n",
       "      <th>over_time</th>\n",
       "      <th>incentive</th>\n",
       "      <th>idle_time</th>\n",
       "      <th>idle_men</th>\n",
       "      <th>no_of_style_change</th>\n",
       "      <th>no_of_workers</th>\n",
       "      <th>actual_productivity</th>\n",
       "      <th>diff</th>\n",
       "      <th>Target_label</th>\n",
       "    </tr>\n",
       "  </thead>\n",
       "  <tbody>\n",
       "    <tr>\n",
       "      <th>106</th>\n",
       "      <td>2015-01-07</td>\n",
       "      <td>Quarter1</td>\n",
       "      <td>sewing</td>\n",
       "      <td>Wednesday</td>\n",
       "      <td>1</td>\n",
       "      <td>0.80</td>\n",
       "      <td>26.16</td>\n",
       "      <td>1179.0</td>\n",
       "      <td>10620</td>\n",
       "      <td>75</td>\n",
       "      <td>0.0</td>\n",
       "      <td>0</td>\n",
       "      <td>0</td>\n",
       "      <td>59.0</td>\n",
       "      <td>0.850502</td>\n",
       "      <td>0.050502</td>\n",
       "      <td>1</td>\n",
       "    </tr>\n",
       "    <tr>\n",
       "      <th>874</th>\n",
       "      <td>2015-02-22</td>\n",
       "      <td>Quarter4</td>\n",
       "      <td>sewing</td>\n",
       "      <td>Sunday</td>\n",
       "      <td>8</td>\n",
       "      <td>0.70</td>\n",
       "      <td>29.40</td>\n",
       "      <td>1146.0</td>\n",
       "      <td>6840</td>\n",
       "      <td>40</td>\n",
       "      <td>0.0</td>\n",
       "      <td>0</td>\n",
       "      <td>2</td>\n",
       "      <td>57.0</td>\n",
       "      <td>0.700614</td>\n",
       "      <td>0.000614</td>\n",
       "      <td>1</td>\n",
       "    </tr>\n",
       "    <tr>\n",
       "      <th>969</th>\n",
       "      <td>2015-02-28</td>\n",
       "      <td>Quarter4</td>\n",
       "      <td>sewing</td>\n",
       "      <td>Saturday</td>\n",
       "      <td>1</td>\n",
       "      <td>0.50</td>\n",
       "      <td>3.94</td>\n",
       "      <td>1190.0</td>\n",
       "      <td>3360</td>\n",
       "      <td>0</td>\n",
       "      <td>0.0</td>\n",
       "      <td>0</td>\n",
       "      <td>0</td>\n",
       "      <td>8.0</td>\n",
       "      <td>0.768847</td>\n",
       "      <td>0.268847</td>\n",
       "      <td>1</td>\n",
       "    </tr>\n",
       "    <tr>\n",
       "      <th>160</th>\n",
       "      <td>2015-01-10</td>\n",
       "      <td>Quarter2</td>\n",
       "      <td>sewing</td>\n",
       "      <td>Saturday</td>\n",
       "      <td>12</td>\n",
       "      <td>0.80</td>\n",
       "      <td>11.61</td>\n",
       "      <td>893.0</td>\n",
       "      <td>4710</td>\n",
       "      <td>50</td>\n",
       "      <td>0.0</td>\n",
       "      <td>0</td>\n",
       "      <td>0</td>\n",
       "      <td>31.5</td>\n",
       "      <td>0.800346</td>\n",
       "      <td>0.000346</td>\n",
       "      <td>1</td>\n",
       "    </tr>\n",
       "    <tr>\n",
       "      <th>413</th>\n",
       "      <td>2015-01-24</td>\n",
       "      <td>Quarter4</td>\n",
       "      <td>finishing</td>\n",
       "      <td>Saturday</td>\n",
       "      <td>1</td>\n",
       "      <td>0.70</td>\n",
       "      <td>3.94</td>\n",
       "      <td>1190.0</td>\n",
       "      <td>1440</td>\n",
       "      <td>0</td>\n",
       "      <td>0.0</td>\n",
       "      <td>0</td>\n",
       "      <td>0</td>\n",
       "      <td>8.0</td>\n",
       "      <td>0.578314</td>\n",
       "      <td>-0.121686</td>\n",
       "      <td>-1</td>\n",
       "    </tr>\n",
       "    <tr>\n",
       "      <th>...</th>\n",
       "      <td>...</td>\n",
       "      <td>...</td>\n",
       "      <td>...</td>\n",
       "      <td>...</td>\n",
       "      <td>...</td>\n",
       "      <td>...</td>\n",
       "      <td>...</td>\n",
       "      <td>...</td>\n",
       "      <td>...</td>\n",
       "      <td>...</td>\n",
       "      <td>...</td>\n",
       "      <td>...</td>\n",
       "      <td>...</td>\n",
       "      <td>...</td>\n",
       "      <td>...</td>\n",
       "      <td>...</td>\n",
       "      <td>...</td>\n",
       "    </tr>\n",
       "    <tr>\n",
       "      <th>936</th>\n",
       "      <td>2015-02-25</td>\n",
       "      <td>Quarter4</td>\n",
       "      <td>sewing</td>\n",
       "      <td>Wednesday</td>\n",
       "      <td>7</td>\n",
       "      <td>0.75</td>\n",
       "      <td>4.60</td>\n",
       "      <td>1190.0</td>\n",
       "      <td>960</td>\n",
       "      <td>0</td>\n",
       "      <td>0.0</td>\n",
       "      <td>0</td>\n",
       "      <td>0</td>\n",
       "      <td>8.0</td>\n",
       "      <td>0.676667</td>\n",
       "      <td>-0.073333</td>\n",
       "      <td>-1</td>\n",
       "    </tr>\n",
       "    <tr>\n",
       "      <th>1017</th>\n",
       "      <td>2015-03-02</td>\n",
       "      <td>Quarter1</td>\n",
       "      <td>sewing</td>\n",
       "      <td>Monday</td>\n",
       "      <td>9</td>\n",
       "      <td>0.75</td>\n",
       "      <td>18.79</td>\n",
       "      <td>935.0</td>\n",
       "      <td>6240</td>\n",
       "      <td>45</td>\n",
       "      <td>0.0</td>\n",
       "      <td>0</td>\n",
       "      <td>0</td>\n",
       "      <td>52.0</td>\n",
       "      <td>0.750396</td>\n",
       "      <td>0.000396</td>\n",
       "      <td>1</td>\n",
       "    </tr>\n",
       "    <tr>\n",
       "      <th>289</th>\n",
       "      <td>2015-01-17</td>\n",
       "      <td>Quarter3</td>\n",
       "      <td>sewing</td>\n",
       "      <td>Saturday</td>\n",
       "      <td>2</td>\n",
       "      <td>0.60</td>\n",
       "      <td>22.94</td>\n",
       "      <td>865.0</td>\n",
       "      <td>6570</td>\n",
       "      <td>23</td>\n",
       "      <td>0.0</td>\n",
       "      <td>0</td>\n",
       "      <td>0</td>\n",
       "      <td>56.5</td>\n",
       "      <td>0.770114</td>\n",
       "      <td>0.170114</td>\n",
       "      <td>1</td>\n",
       "    </tr>\n",
       "    <tr>\n",
       "      <th>923</th>\n",
       "      <td>2015-02-25</td>\n",
       "      <td>Quarter4</td>\n",
       "      <td>sewing</td>\n",
       "      <td>Wednesday</td>\n",
       "      <td>5</td>\n",
       "      <td>0.80</td>\n",
       "      <td>4.60</td>\n",
       "      <td>1190.0</td>\n",
       "      <td>1080</td>\n",
       "      <td>0</td>\n",
       "      <td>0.0</td>\n",
       "      <td>0</td>\n",
       "      <td>0</td>\n",
       "      <td>9.0</td>\n",
       "      <td>0.902963</td>\n",
       "      <td>0.102963</td>\n",
       "      <td>1</td>\n",
       "    </tr>\n",
       "    <tr>\n",
       "      <th>881</th>\n",
       "      <td>2015-02-22</td>\n",
       "      <td>Quarter4</td>\n",
       "      <td>sewing</td>\n",
       "      <td>Sunday</td>\n",
       "      <td>10</td>\n",
       "      <td>0.80</td>\n",
       "      <td>3.94</td>\n",
       "      <td>1190.0</td>\n",
       "      <td>960</td>\n",
       "      <td>0</td>\n",
       "      <td>0.0</td>\n",
       "      <td>0</td>\n",
       "      <td>0</td>\n",
       "      <td>8.0</td>\n",
       "      <td>0.385792</td>\n",
       "      <td>-0.414208</td>\n",
       "      <td>-1</td>\n",
       "    </tr>\n",
       "  </tbody>\n",
       "</table>\n",
       "<p>1581 rows × 17 columns</p>\n",
       "</div>"
      ],
      "text/plain": [
       "           date   quarter department        day  team  targeted_productivity  \\\n",
       "106  2015-01-07  Quarter1     sewing  Wednesday     1                   0.80   \n",
       "874  2015-02-22  Quarter4     sewing     Sunday     8                   0.70   \n",
       "969  2015-02-28  Quarter4     sewing   Saturday     1                   0.50   \n",
       "160  2015-01-10  Quarter2     sewing   Saturday    12                   0.80   \n",
       "413  2015-01-24  Quarter4  finishing   Saturday     1                   0.70   \n",
       "...         ...       ...        ...        ...   ...                    ...   \n",
       "936  2015-02-25  Quarter4     sewing  Wednesday     7                   0.75   \n",
       "1017 2015-03-02  Quarter1     sewing     Monday     9                   0.75   \n",
       "289  2015-01-17  Quarter3     sewing   Saturday     2                   0.60   \n",
       "923  2015-02-25  Quarter4     sewing  Wednesday     5                   0.80   \n",
       "881  2015-02-22  Quarter4     sewing     Sunday    10                   0.80   \n",
       "\n",
       "        smv     wip  over_time  incentive  idle_time  idle_men  \\\n",
       "106   26.16  1179.0      10620         75        0.0         0   \n",
       "874   29.40  1146.0       6840         40        0.0         0   \n",
       "969    3.94  1190.0       3360          0        0.0         0   \n",
       "160   11.61   893.0       4710         50        0.0         0   \n",
       "413    3.94  1190.0       1440          0        0.0         0   \n",
       "...     ...     ...        ...        ...        ...       ...   \n",
       "936    4.60  1190.0        960          0        0.0         0   \n",
       "1017  18.79   935.0       6240         45        0.0         0   \n",
       "289   22.94   865.0       6570         23        0.0         0   \n",
       "923    4.60  1190.0       1080          0        0.0         0   \n",
       "881    3.94  1190.0        960          0        0.0         0   \n",
       "\n",
       "      no_of_style_change  no_of_workers  actual_productivity      diff  \\\n",
       "106                    0           59.0             0.850502  0.050502   \n",
       "874                    2           57.0             0.700614  0.000614   \n",
       "969                    0            8.0             0.768847  0.268847   \n",
       "160                    0           31.5             0.800346  0.000346   \n",
       "413                    0            8.0             0.578314 -0.121686   \n",
       "...                  ...            ...                  ...       ...   \n",
       "936                    0            8.0             0.676667 -0.073333   \n",
       "1017                   0           52.0             0.750396  0.000396   \n",
       "289                    0           56.5             0.770114  0.170114   \n",
       "923                    0            9.0             0.902963  0.102963   \n",
       "881                    0            8.0             0.385792 -0.414208   \n",
       "\n",
       "      Target_label  \n",
       "106              1  \n",
       "874              1  \n",
       "969              1  \n",
       "160              1  \n",
       "413             -1  \n",
       "...            ...  \n",
       "936             -1  \n",
       "1017             1  \n",
       "289              1  \n",
       "923              1  \n",
       "881             -1  \n",
       "\n",
       "[1581 rows x 17 columns]"
      ]
     },
     "execution_count": 62,
     "metadata": {},
     "output_type": "execute_result"
    }
   ],
   "source": [
    "balanced_df"
   ]
  },
  {
   "cell_type": "code",
   "execution_count": 63,
   "id": "3b8ec91d",
   "metadata": {
    "execution": {
     "iopub.execute_input": "2021-09-01T12:38:33.019152Z",
     "iopub.status.busy": "2021-09-01T12:38:33.018529Z",
     "iopub.status.idle": "2021-09-01T12:38:33.055957Z",
     "shell.execute_reply": "2021-09-01T12:38:33.056459Z",
     "shell.execute_reply.started": "2021-09-01T12:35:25.218150Z"
    },
    "papermill": {
     "duration": 0.139178,
     "end_time": "2021-09-01T12:38:33.056627",
     "exception": false,
     "start_time": "2021-09-01T12:38:32.917449",
     "status": "completed"
    },
    "tags": []
   },
   "outputs": [
    {
     "data": {
      "text/html": [
       "<div>\n",
       "<style scoped>\n",
       "    .dataframe tbody tr th:only-of-type {\n",
       "        vertical-align: middle;\n",
       "    }\n",
       "\n",
       "    .dataframe tbody tr th {\n",
       "        vertical-align: top;\n",
       "    }\n",
       "\n",
       "    .dataframe thead th {\n",
       "        text-align: right;\n",
       "    }\n",
       "</style>\n",
       "<table border=\"1\" class=\"dataframe\">\n",
       "  <thead>\n",
       "    <tr style=\"text-align: right;\">\n",
       "      <th></th>\n",
       "      <th>date</th>\n",
       "      <th>quarter</th>\n",
       "      <th>department</th>\n",
       "      <th>day</th>\n",
       "      <th>team</th>\n",
       "      <th>targeted_productivity</th>\n",
       "      <th>smv</th>\n",
       "      <th>wip</th>\n",
       "      <th>over_time</th>\n",
       "      <th>incentive</th>\n",
       "      <th>idle_time</th>\n",
       "      <th>idle_men</th>\n",
       "      <th>no_of_style_change</th>\n",
       "      <th>no_of_workers</th>\n",
       "      <th>actual_productivity</th>\n",
       "      <th>diff</th>\n",
       "      <th>Target_label</th>\n",
       "    </tr>\n",
       "  </thead>\n",
       "  <tbody>\n",
       "    <tr>\n",
       "      <th>106</th>\n",
       "      <td>2015-01-07</td>\n",
       "      <td>0</td>\n",
       "      <td>1</td>\n",
       "      <td>5</td>\n",
       "      <td>1</td>\n",
       "      <td>0.80</td>\n",
       "      <td>26.16</td>\n",
       "      <td>1179.0</td>\n",
       "      <td>10620</td>\n",
       "      <td>75</td>\n",
       "      <td>0.0</td>\n",
       "      <td>0</td>\n",
       "      <td>0</td>\n",
       "      <td>59.0</td>\n",
       "      <td>0.850502</td>\n",
       "      <td>0.050502</td>\n",
       "      <td>1</td>\n",
       "    </tr>\n",
       "    <tr>\n",
       "      <th>874</th>\n",
       "      <td>2015-02-22</td>\n",
       "      <td>3</td>\n",
       "      <td>1</td>\n",
       "      <td>2</td>\n",
       "      <td>8</td>\n",
       "      <td>0.70</td>\n",
       "      <td>29.40</td>\n",
       "      <td>1146.0</td>\n",
       "      <td>6840</td>\n",
       "      <td>40</td>\n",
       "      <td>0.0</td>\n",
       "      <td>0</td>\n",
       "      <td>2</td>\n",
       "      <td>57.0</td>\n",
       "      <td>0.700614</td>\n",
       "      <td>0.000614</td>\n",
       "      <td>1</td>\n",
       "    </tr>\n",
       "    <tr>\n",
       "      <th>969</th>\n",
       "      <td>2015-02-28</td>\n",
       "      <td>3</td>\n",
       "      <td>1</td>\n",
       "      <td>1</td>\n",
       "      <td>1</td>\n",
       "      <td>0.50</td>\n",
       "      <td>3.94</td>\n",
       "      <td>1190.0</td>\n",
       "      <td>3360</td>\n",
       "      <td>0</td>\n",
       "      <td>0.0</td>\n",
       "      <td>0</td>\n",
       "      <td>0</td>\n",
       "      <td>8.0</td>\n",
       "      <td>0.768847</td>\n",
       "      <td>0.268847</td>\n",
       "      <td>1</td>\n",
       "    </tr>\n",
       "    <tr>\n",
       "      <th>160</th>\n",
       "      <td>2015-01-10</td>\n",
       "      <td>1</td>\n",
       "      <td>1</td>\n",
       "      <td>1</td>\n",
       "      <td>12</td>\n",
       "      <td>0.80</td>\n",
       "      <td>11.61</td>\n",
       "      <td>893.0</td>\n",
       "      <td>4710</td>\n",
       "      <td>50</td>\n",
       "      <td>0.0</td>\n",
       "      <td>0</td>\n",
       "      <td>0</td>\n",
       "      <td>31.5</td>\n",
       "      <td>0.800346</td>\n",
       "      <td>0.000346</td>\n",
       "      <td>1</td>\n",
       "    </tr>\n",
       "    <tr>\n",
       "      <th>413</th>\n",
       "      <td>2015-01-24</td>\n",
       "      <td>3</td>\n",
       "      <td>0</td>\n",
       "      <td>1</td>\n",
       "      <td>1</td>\n",
       "      <td>0.70</td>\n",
       "      <td>3.94</td>\n",
       "      <td>1190.0</td>\n",
       "      <td>1440</td>\n",
       "      <td>0</td>\n",
       "      <td>0.0</td>\n",
       "      <td>0</td>\n",
       "      <td>0</td>\n",
       "      <td>8.0</td>\n",
       "      <td>0.578314</td>\n",
       "      <td>-0.121686</td>\n",
       "      <td>-1</td>\n",
       "    </tr>\n",
       "    <tr>\n",
       "      <th>...</th>\n",
       "      <td>...</td>\n",
       "      <td>...</td>\n",
       "      <td>...</td>\n",
       "      <td>...</td>\n",
       "      <td>...</td>\n",
       "      <td>...</td>\n",
       "      <td>...</td>\n",
       "      <td>...</td>\n",
       "      <td>...</td>\n",
       "      <td>...</td>\n",
       "      <td>...</td>\n",
       "      <td>...</td>\n",
       "      <td>...</td>\n",
       "      <td>...</td>\n",
       "      <td>...</td>\n",
       "      <td>...</td>\n",
       "      <td>...</td>\n",
       "    </tr>\n",
       "    <tr>\n",
       "      <th>936</th>\n",
       "      <td>2015-02-25</td>\n",
       "      <td>3</td>\n",
       "      <td>1</td>\n",
       "      <td>5</td>\n",
       "      <td>7</td>\n",
       "      <td>0.75</td>\n",
       "      <td>4.60</td>\n",
       "      <td>1190.0</td>\n",
       "      <td>960</td>\n",
       "      <td>0</td>\n",
       "      <td>0.0</td>\n",
       "      <td>0</td>\n",
       "      <td>0</td>\n",
       "      <td>8.0</td>\n",
       "      <td>0.676667</td>\n",
       "      <td>-0.073333</td>\n",
       "      <td>-1</td>\n",
       "    </tr>\n",
       "    <tr>\n",
       "      <th>1017</th>\n",
       "      <td>2015-03-02</td>\n",
       "      <td>0</td>\n",
       "      <td>1</td>\n",
       "      <td>0</td>\n",
       "      <td>9</td>\n",
       "      <td>0.75</td>\n",
       "      <td>18.79</td>\n",
       "      <td>935.0</td>\n",
       "      <td>6240</td>\n",
       "      <td>45</td>\n",
       "      <td>0.0</td>\n",
       "      <td>0</td>\n",
       "      <td>0</td>\n",
       "      <td>52.0</td>\n",
       "      <td>0.750396</td>\n",
       "      <td>0.000396</td>\n",
       "      <td>1</td>\n",
       "    </tr>\n",
       "    <tr>\n",
       "      <th>289</th>\n",
       "      <td>2015-01-17</td>\n",
       "      <td>2</td>\n",
       "      <td>1</td>\n",
       "      <td>1</td>\n",
       "      <td>2</td>\n",
       "      <td>0.60</td>\n",
       "      <td>22.94</td>\n",
       "      <td>865.0</td>\n",
       "      <td>6570</td>\n",
       "      <td>23</td>\n",
       "      <td>0.0</td>\n",
       "      <td>0</td>\n",
       "      <td>0</td>\n",
       "      <td>56.5</td>\n",
       "      <td>0.770114</td>\n",
       "      <td>0.170114</td>\n",
       "      <td>1</td>\n",
       "    </tr>\n",
       "    <tr>\n",
       "      <th>923</th>\n",
       "      <td>2015-02-25</td>\n",
       "      <td>3</td>\n",
       "      <td>1</td>\n",
       "      <td>5</td>\n",
       "      <td>5</td>\n",
       "      <td>0.80</td>\n",
       "      <td>4.60</td>\n",
       "      <td>1190.0</td>\n",
       "      <td>1080</td>\n",
       "      <td>0</td>\n",
       "      <td>0.0</td>\n",
       "      <td>0</td>\n",
       "      <td>0</td>\n",
       "      <td>9.0</td>\n",
       "      <td>0.902963</td>\n",
       "      <td>0.102963</td>\n",
       "      <td>1</td>\n",
       "    </tr>\n",
       "    <tr>\n",
       "      <th>881</th>\n",
       "      <td>2015-02-22</td>\n",
       "      <td>3</td>\n",
       "      <td>1</td>\n",
       "      <td>2</td>\n",
       "      <td>10</td>\n",
       "      <td>0.80</td>\n",
       "      <td>3.94</td>\n",
       "      <td>1190.0</td>\n",
       "      <td>960</td>\n",
       "      <td>0</td>\n",
       "      <td>0.0</td>\n",
       "      <td>0</td>\n",
       "      <td>0</td>\n",
       "      <td>8.0</td>\n",
       "      <td>0.385792</td>\n",
       "      <td>-0.414208</td>\n",
       "      <td>-1</td>\n",
       "    </tr>\n",
       "  </tbody>\n",
       "</table>\n",
       "<p>1581 rows × 17 columns</p>\n",
       "</div>"
      ],
      "text/plain": [
       "           date  quarter  department  day  team  targeted_productivity    smv  \\\n",
       "106  2015-01-07        0           1    5     1                   0.80  26.16   \n",
       "874  2015-02-22        3           1    2     8                   0.70  29.40   \n",
       "969  2015-02-28        3           1    1     1                   0.50   3.94   \n",
       "160  2015-01-10        1           1    1    12                   0.80  11.61   \n",
       "413  2015-01-24        3           0    1     1                   0.70   3.94   \n",
       "...         ...      ...         ...  ...   ...                    ...    ...   \n",
       "936  2015-02-25        3           1    5     7                   0.75   4.60   \n",
       "1017 2015-03-02        0           1    0     9                   0.75  18.79   \n",
       "289  2015-01-17        2           1    1     2                   0.60  22.94   \n",
       "923  2015-02-25        3           1    5     5                   0.80   4.60   \n",
       "881  2015-02-22        3           1    2    10                   0.80   3.94   \n",
       "\n",
       "         wip  over_time  incentive  idle_time  idle_men  no_of_style_change  \\\n",
       "106   1179.0      10620         75        0.0         0                   0   \n",
       "874   1146.0       6840         40        0.0         0                   2   \n",
       "969   1190.0       3360          0        0.0         0                   0   \n",
       "160    893.0       4710         50        0.0         0                   0   \n",
       "413   1190.0       1440          0        0.0         0                   0   \n",
       "...      ...        ...        ...        ...       ...                 ...   \n",
       "936   1190.0        960          0        0.0         0                   0   \n",
       "1017   935.0       6240         45        0.0         0                   0   \n",
       "289    865.0       6570         23        0.0         0                   0   \n",
       "923   1190.0       1080          0        0.0         0                   0   \n",
       "881   1190.0        960          0        0.0         0                   0   \n",
       "\n",
       "      no_of_workers  actual_productivity      diff  Target_label  \n",
       "106            59.0             0.850502  0.050502             1  \n",
       "874            57.0             0.700614  0.000614             1  \n",
       "969             8.0             0.768847  0.268847             1  \n",
       "160            31.5             0.800346  0.000346             1  \n",
       "413             8.0             0.578314 -0.121686            -1  \n",
       "...             ...                  ...       ...           ...  \n",
       "936             8.0             0.676667 -0.073333            -1  \n",
       "1017           52.0             0.750396  0.000396             1  \n",
       "289            56.5             0.770114  0.170114             1  \n",
       "923             9.0             0.902963  0.102963             1  \n",
       "881             8.0             0.385792 -0.414208            -1  \n",
       "\n",
       "[1581 rows x 17 columns]"
      ]
     },
     "execution_count": 63,
     "metadata": {},
     "output_type": "execute_result"
    }
   ],
   "source": [
    "from sklearn.preprocessing import LabelEncoder\n",
    "\n",
    "data3= balanced_df.copy()\n",
    "label_encoder = LabelEncoder()\n",
    "for col in catogrical:\n",
    "    balanced_df[col] = label_encoder.fit_transform(balanced_df[col])\n",
    "    \n",
    "balanced_df"
   ]
  },
  {
   "cell_type": "code",
   "execution_count": 64,
   "id": "3cdc1ad4",
   "metadata": {
    "execution": {
     "iopub.execute_input": "2021-09-01T12:38:33.258732Z",
     "iopub.status.busy": "2021-09-01T12:38:33.258092Z",
     "iopub.status.idle": "2021-09-01T12:38:33.503037Z",
     "shell.execute_reply": "2021-09-01T12:38:33.502466Z",
     "shell.execute_reply.started": "2021-09-01T12:35:25.260781Z"
    },
    "papermill": {
     "duration": 0.346213,
     "end_time": "2021-09-01T12:38:33.503184",
     "exception": false,
     "start_time": "2021-09-01T12:38:33.156971",
     "status": "completed"
    },
    "tags": []
   },
   "outputs": [],
   "source": [
    "balanced_df[\"Date\"] = pd.to_datetime(balanced_df['date'])\n",
    "balanced_df[\"year\"] = balanced_df[\"date\"].dt.year\n",
    "balanced_df[\"day\"] = balanced_df[\"date\"].dt.day\n",
    "balanced_df[\"month\"] = balanced_df[\"date\"].dt.month\n",
    "\n",
    "# Drop original columns Date\n",
    "balanced_df.drop('date', axis=1, inplace=True)\n",
    "balanced_df.drop('Date', axis=1, inplace=True)\n"
   ]
  },
  {
   "cell_type": "code",
   "execution_count": 65,
   "id": "cbce9266",
   "metadata": {
    "execution": {
     "iopub.execute_input": "2021-09-01T12:38:33.719163Z",
     "iopub.status.busy": "2021-09-01T12:38:33.718494Z",
     "iopub.status.idle": "2021-09-01T12:38:33.726184Z",
     "shell.execute_reply": "2021-09-01T12:38:33.726707Z",
     "shell.execute_reply.started": "2021-09-01T12:35:26.911288Z"
    },
    "papermill": {
     "duration": 0.119147,
     "end_time": "2021-09-01T12:38:33.726928",
     "exception": false,
     "start_time": "2021-09-01T12:38:33.607781",
     "status": "completed"
    },
    "tags": []
   },
   "outputs": [],
   "source": [
    "X = balanced_df.drop('Target_label',axis=1)\n",
    "y = balanced_df['Target_label']\n",
    "#Standardization\n",
    "from sklearn.preprocessing import StandardScaler\n",
    "sc=StandardScaler()\n",
    "X=sc.fit_transform(X)\n",
    "from sklearn.model_selection import train_test_split\n",
    "X_train, X_test, y_train, y_test = train_test_split(X, y, test_size=0.25, random_state=42,shuffle=True)"
   ]
  },
  {
   "cell_type": "markdown",
   "id": "13364e15",
   "metadata": {
    "papermill": {
     "duration": 0.098054,
     "end_time": "2021-09-01T12:38:33.923785",
     "exception": false,
     "start_time": "2021-09-01T12:38:33.825731",
     "status": "completed"
    },
    "tags": []
   },
   "source": [
    "## Random Forest Classifier"
   ]
  },
  {
   "cell_type": "code",
   "execution_count": 66,
   "id": "4fa33e0d",
   "metadata": {
    "execution": {
     "iopub.execute_input": "2021-09-01T12:38:34.125836Z",
     "iopub.status.busy": "2021-09-01T12:38:34.125186Z",
     "iopub.status.idle": "2021-09-01T12:38:36.727798Z",
     "shell.execute_reply": "2021-09-01T12:38:36.727019Z",
     "shell.execute_reply.started": "2021-09-01T12:35:28.836617Z"
    },
    "papermill": {
     "duration": 2.704454,
     "end_time": "2021-09-01T12:38:36.728012",
     "exception": false,
     "start_time": "2021-09-01T12:38:34.023558",
     "status": "completed"
    },
    "tags": []
   },
   "outputs": [
    {
     "name": "stdout",
     "output_type": "stream",
     "text": [
      "TRAINIG RESULTS: \n",
      "===============================\n",
      "CONFUSION MATRIX:\n",
      "[[522   0]\n",
      " [  0 663]]\n",
      "ACCURACY SCORE:\n",
      "1.0000\n",
      "CLASSIFICATION REPORT:\n",
      "              -1      1  accuracy  macro avg  weighted avg\n",
      "precision    1.0    1.0       1.0        1.0           1.0\n",
      "recall       1.0    1.0       1.0        1.0           1.0\n",
      "f1-score     1.0    1.0       1.0        1.0           1.0\n",
      "support    522.0  663.0       1.0     1185.0        1185.0\n",
      "TESTING RESULTS: \n",
      "===============================\n",
      "CONFUSION MATRIX:\n",
      "[[184   0]\n",
      " [  0 212]]\n",
      "ACCURACY SCORE:\n",
      "1.0000\n",
      "CLASSIFICATION REPORT:\n",
      "              -1      1  accuracy  macro avg  weighted avg\n",
      "precision    1.0    1.0       1.0        1.0           1.0\n",
      "recall       1.0    1.0       1.0        1.0           1.0\n",
      "f1-score     1.0    1.0       1.0        1.0           1.0\n",
      "support    184.0  212.0       1.0      396.0         396.0\n"
     ]
    }
   ],
   "source": [
    "from sklearn.metrics import (accuracy_score, confusion_matrix, \n",
    "                             classification_report, roc_curve, auc)\n",
    "from sklearn.ensemble import RandomForestClassifier\n",
    "rf_clf = RandomForestClassifier(random_state=42, n_estimators=1000)\n",
    "rf_clf.fit(X_train, y_train)\n",
    "\n",
    "evaluate(rf_clf, X_train, X_test, y_train, y_test)"
   ]
  },
  {
   "cell_type": "code",
   "execution_count": 67,
   "id": "09c016bf",
   "metadata": {
    "execution": {
     "iopub.execute_input": "2021-09-01T12:38:36.939971Z",
     "iopub.status.busy": "2021-09-01T12:38:36.939269Z",
     "iopub.status.idle": "2021-09-01T12:38:37.231726Z",
     "shell.execute_reply": "2021-09-01T12:38:37.230995Z",
     "shell.execute_reply.started": "2021-09-01T12:36:32.771529Z"
    },
    "papermill": {
     "duration": 0.401063,
     "end_time": "2021-09-01T12:38:37.231889",
     "exception": false,
     "start_time": "2021-09-01T12:38:36.830826",
     "status": "completed"
    },
    "tags": []
   },
   "outputs": [],
   "source": [
    "scores= {'Name':'Random Forest',\n",
    "        'Train': accuracy_score(y_train, rf_clf.predict(X_train)),\n",
    "        'Test': accuracy_score(y_test, rf_clf.predict(X_test)),\n",
    "    }"
   ]
  },
  {
   "cell_type": "markdown",
   "id": "09a4d169",
   "metadata": {
    "papermill": {
     "duration": 0.100385,
     "end_time": "2021-09-01T12:38:37.433170",
     "exception": false,
     "start_time": "2021-09-01T12:38:37.332785",
     "status": "completed"
    },
    "tags": []
   },
   "source": [
    "## Decision Tree Classifier"
   ]
  },
  {
   "cell_type": "code",
   "execution_count": 68,
   "id": "92448f92",
   "metadata": {
    "execution": {
     "iopub.execute_input": "2021-09-01T12:38:37.646809Z",
     "iopub.status.busy": "2021-09-01T12:38:37.644484Z",
     "iopub.status.idle": "2021-09-01T12:38:42.449697Z",
     "shell.execute_reply": "2021-09-01T12:38:42.450248Z",
     "shell.execute_reply.started": "2021-09-01T12:36:35.041408Z"
    },
    "papermill": {
     "duration": 4.916575,
     "end_time": "2021-09-01T12:38:42.450466",
     "exception": false,
     "start_time": "2021-09-01T12:38:37.533891",
     "status": "completed"
    },
    "tags": []
   },
   "outputs": [
    {
     "name": "stdout",
     "output_type": "stream",
     "text": [
      "TRAINIG RESULTS: \n",
      "===============================\n",
      "CONFUSION MATRIX:\n",
      "[[522   0]\n",
      " [  0 663]]\n",
      "ACCURACY SCORE:\n",
      "1.0000\n",
      "CLASSIFICATION REPORT:\n",
      "              -1      1  accuracy  macro avg  weighted avg\n",
      "precision    1.0    1.0       1.0        1.0           1.0\n",
      "recall       1.0    1.0       1.0        1.0           1.0\n",
      "f1-score     1.0    1.0       1.0        1.0           1.0\n",
      "support    522.0  663.0       1.0     1185.0        1185.0\n",
      "TESTING RESULTS: \n",
      "===============================\n",
      "CONFUSION MATRIX:\n",
      "[[184   0]\n",
      " [  0 212]]\n",
      "ACCURACY SCORE:\n",
      "1.0000\n",
      "CLASSIFICATION REPORT:\n",
      "              -1      1  accuracy  macro avg  weighted avg\n",
      "precision    1.0    1.0       1.0        1.0           1.0\n",
      "recall       1.0    1.0       1.0        1.0           1.0\n",
      "f1-score     1.0    1.0       1.0        1.0           1.0\n",
      "support    184.0  212.0       1.0      396.0         396.0\n"
     ]
    }
   ],
   "source": [
    "from sklearn.ensemble import BaggingClassifier\n",
    "from sklearn.tree import DecisionTreeClassifier\n",
    "\n",
    "tree = DecisionTreeClassifier()\n",
    "bagging_clf = BaggingClassifier(base_estimator=tree, n_estimators=1500, random_state=42)\n",
    "bagging_clf.fit(X_train, y_train)\n",
    "\n",
    "evaluate(bagging_clf, X_train, X_test, y_train, y_test)"
   ]
  },
  {
   "cell_type": "code",
   "execution_count": null,
   "id": "0fdd1069",
   "metadata": {},
   "outputs": [],
   "source": []
  }
 ],
 "metadata": {
  "kernelspec": {
   "display_name": "Python 3 (ipykernel)",
   "language": "python",
   "name": "python3"
  },
  "language_info": {
   "codemirror_mode": {
    "name": "ipython",
    "version": 3
   },
   "file_extension": ".py",
   "mimetype": "text/x-python",
   "name": "python",
   "nbconvert_exporter": "python",
   "pygments_lexer": "ipython3",
   "version": "3.8.8"
  },
  "papermill": {
   "default_parameters": {},
   "duration": 47.048706,
   "end_time": "2021-09-01T12:38:44.025184",
   "environment_variables": {},
   "exception": null,
   "input_path": "__notebook__.ipynb",
   "output_path": "__notebook__.ipynb",
   "parameters": {},
   "start_time": "2021-09-01T12:37:56.976478",
   "version": "2.3.3"
  }
 },
 "nbformat": 4,
 "nbformat_minor": 5
}
