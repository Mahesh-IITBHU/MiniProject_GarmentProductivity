{
 "cells": [
  {
   "cell_type": "code",
   "execution_count": 1,
   "id": "underlying-nicholas",
   "metadata": {
    "execution": {
     "iopub.execute_input": "2021-04-10T14:15:00.190508Z",
     "iopub.status.busy": "2021-04-10T14:15:00.189883Z",
     "iopub.status.idle": "2021-04-10T14:15:04.270974Z",
     "shell.execute_reply": "2021-04-10T14:15:04.270192Z"
    },
    "papermill": {
     "duration": 4.127901,
     "end_time": "2021-04-10T14:15:04.271170",
     "exception": false,
     "start_time": "2021-04-10T14:15:00.143269",
     "status": "completed"
    },
    "tags": []
   },
   "outputs": [],
   "source": [
    "#importing libraries\n",
    "import numpy as np\n",
    "import pandas as pd \n",
    "import matplotlib.pyplot as plt\n",
    "import seaborn as sns\n",
    "\n",
    "import plotly_express as px\n",
    "import plotly.graph_objects as go\n",
    "import plotly.io as pio\n",
    "import plotly.figure_factory as ff\n",
    "from plotly.subplots import make_subplots\n",
    "\n",
    "from plotly.offline import plot, iplot,init_notebook_mode"
   ]
  },
  {
   "cell_type": "code",
   "execution_count": 2,
   "id": "ideal-zealand",
   "metadata": {
    "execution": {
     "iopub.execute_input": "2021-04-10T14:15:04.348368Z",
     "iopub.status.busy": "2021-04-10T14:15:04.347552Z",
     "iopub.status.idle": "2021-04-10T14:15:04.409493Z",
     "shell.execute_reply": "2021-04-10T14:15:04.410027Z"
    },
    "papermill": {
     "duration": 0.103443,
     "end_time": "2021-04-10T14:15:04.410211",
     "exception": false,
     "start_time": "2021-04-10T14:15:04.306768",
     "status": "completed"
    },
    "tags": []
   },
   "outputs": [
    {
     "ename": "FileNotFoundError",
     "evalue": "[Errno 2] No such file or directory: '../input/productivity-prediction-of-garment-employees/garments_worker_productivity.csv'",
     "output_type": "error",
     "traceback": [
      "\u001b[1;31m---------------------------------------------------------------------------\u001b[0m",
      "\u001b[1;31mFileNotFoundError\u001b[0m                         Traceback (most recent call last)",
      "\u001b[1;32m<ipython-input-2-c06f9e5c3261>\u001b[0m in \u001b[0;36m<module>\u001b[1;34m\u001b[0m\n\u001b[1;32m----> 1\u001b[1;33m \u001b[0mdata\u001b[0m \u001b[1;33m=\u001b[0m \u001b[0mpd\u001b[0m\u001b[1;33m.\u001b[0m\u001b[0mread_csv\u001b[0m\u001b[1;33m(\u001b[0m\u001b[1;34m'../input/productivity-prediction-of-garment-employees/garments_worker_productivity.csv'\u001b[0m\u001b[1;33m)\u001b[0m\u001b[1;33m\u001b[0m\u001b[1;33m\u001b[0m\u001b[0m\n\u001b[0m\u001b[0;32m      2\u001b[0m \u001b[0mdata\u001b[0m\u001b[1;33m.\u001b[0m\u001b[0mhead\u001b[0m\u001b[1;33m(\u001b[0m\u001b[1;33m)\u001b[0m\u001b[1;33m\u001b[0m\u001b[1;33m\u001b[0m\u001b[0m\n",
      "\u001b[1;32m~\\anaconda3\\lib\\site-packages\\pandas\\io\\parsers.py\u001b[0m in \u001b[0;36mread_csv\u001b[1;34m(filepath_or_buffer, sep, delimiter, header, names, index_col, usecols, squeeze, prefix, mangle_dupe_cols, dtype, engine, converters, true_values, false_values, skipinitialspace, skiprows, skipfooter, nrows, na_values, keep_default_na, na_filter, verbose, skip_blank_lines, parse_dates, infer_datetime_format, keep_date_col, date_parser, dayfirst, cache_dates, iterator, chunksize, compression, thousands, decimal, lineterminator, quotechar, quoting, doublequote, escapechar, comment, encoding, dialect, error_bad_lines, warn_bad_lines, delim_whitespace, low_memory, memory_map, float_precision, storage_options)\u001b[0m\n\u001b[0;32m    608\u001b[0m     \u001b[0mkwds\u001b[0m\u001b[1;33m.\u001b[0m\u001b[0mupdate\u001b[0m\u001b[1;33m(\u001b[0m\u001b[0mkwds_defaults\u001b[0m\u001b[1;33m)\u001b[0m\u001b[1;33m\u001b[0m\u001b[1;33m\u001b[0m\u001b[0m\n\u001b[0;32m    609\u001b[0m \u001b[1;33m\u001b[0m\u001b[0m\n\u001b[1;32m--> 610\u001b[1;33m     \u001b[1;32mreturn\u001b[0m \u001b[0m_read\u001b[0m\u001b[1;33m(\u001b[0m\u001b[0mfilepath_or_buffer\u001b[0m\u001b[1;33m,\u001b[0m \u001b[0mkwds\u001b[0m\u001b[1;33m)\u001b[0m\u001b[1;33m\u001b[0m\u001b[1;33m\u001b[0m\u001b[0m\n\u001b[0m\u001b[0;32m    611\u001b[0m \u001b[1;33m\u001b[0m\u001b[0m\n\u001b[0;32m    612\u001b[0m \u001b[1;33m\u001b[0m\u001b[0m\n",
      "\u001b[1;32m~\\anaconda3\\lib\\site-packages\\pandas\\io\\parsers.py\u001b[0m in \u001b[0;36m_read\u001b[1;34m(filepath_or_buffer, kwds)\u001b[0m\n\u001b[0;32m    460\u001b[0m \u001b[1;33m\u001b[0m\u001b[0m\n\u001b[0;32m    461\u001b[0m     \u001b[1;31m# Create the parser.\u001b[0m\u001b[1;33m\u001b[0m\u001b[1;33m\u001b[0m\u001b[1;33m\u001b[0m\u001b[0m\n\u001b[1;32m--> 462\u001b[1;33m     \u001b[0mparser\u001b[0m \u001b[1;33m=\u001b[0m \u001b[0mTextFileReader\u001b[0m\u001b[1;33m(\u001b[0m\u001b[0mfilepath_or_buffer\u001b[0m\u001b[1;33m,\u001b[0m \u001b[1;33m**\u001b[0m\u001b[0mkwds\u001b[0m\u001b[1;33m)\u001b[0m\u001b[1;33m\u001b[0m\u001b[1;33m\u001b[0m\u001b[0m\n\u001b[0m\u001b[0;32m    463\u001b[0m \u001b[1;33m\u001b[0m\u001b[0m\n\u001b[0;32m    464\u001b[0m     \u001b[1;32mif\u001b[0m \u001b[0mchunksize\u001b[0m \u001b[1;32mor\u001b[0m \u001b[0miterator\u001b[0m\u001b[1;33m:\u001b[0m\u001b[1;33m\u001b[0m\u001b[1;33m\u001b[0m\u001b[0m\n",
      "\u001b[1;32m~\\anaconda3\\lib\\site-packages\\pandas\\io\\parsers.py\u001b[0m in \u001b[0;36m__init__\u001b[1;34m(self, f, engine, **kwds)\u001b[0m\n\u001b[0;32m    817\u001b[0m             \u001b[0mself\u001b[0m\u001b[1;33m.\u001b[0m\u001b[0moptions\u001b[0m\u001b[1;33m[\u001b[0m\u001b[1;34m\"has_index_names\"\u001b[0m\u001b[1;33m]\u001b[0m \u001b[1;33m=\u001b[0m \u001b[0mkwds\u001b[0m\u001b[1;33m[\u001b[0m\u001b[1;34m\"has_index_names\"\u001b[0m\u001b[1;33m]\u001b[0m\u001b[1;33m\u001b[0m\u001b[1;33m\u001b[0m\u001b[0m\n\u001b[0;32m    818\u001b[0m \u001b[1;33m\u001b[0m\u001b[0m\n\u001b[1;32m--> 819\u001b[1;33m         \u001b[0mself\u001b[0m\u001b[1;33m.\u001b[0m\u001b[0m_engine\u001b[0m \u001b[1;33m=\u001b[0m \u001b[0mself\u001b[0m\u001b[1;33m.\u001b[0m\u001b[0m_make_engine\u001b[0m\u001b[1;33m(\u001b[0m\u001b[0mself\u001b[0m\u001b[1;33m.\u001b[0m\u001b[0mengine\u001b[0m\u001b[1;33m)\u001b[0m\u001b[1;33m\u001b[0m\u001b[1;33m\u001b[0m\u001b[0m\n\u001b[0m\u001b[0;32m    820\u001b[0m \u001b[1;33m\u001b[0m\u001b[0m\n\u001b[0;32m    821\u001b[0m     \u001b[1;32mdef\u001b[0m \u001b[0mclose\u001b[0m\u001b[1;33m(\u001b[0m\u001b[0mself\u001b[0m\u001b[1;33m)\u001b[0m\u001b[1;33m:\u001b[0m\u001b[1;33m\u001b[0m\u001b[1;33m\u001b[0m\u001b[0m\n",
      "\u001b[1;32m~\\anaconda3\\lib\\site-packages\\pandas\\io\\parsers.py\u001b[0m in \u001b[0;36m_make_engine\u001b[1;34m(self, engine)\u001b[0m\n\u001b[0;32m   1048\u001b[0m             )\n\u001b[0;32m   1049\u001b[0m         \u001b[1;31m# error: Too many arguments for \"ParserBase\"\u001b[0m\u001b[1;33m\u001b[0m\u001b[1;33m\u001b[0m\u001b[1;33m\u001b[0m\u001b[0m\n\u001b[1;32m-> 1050\u001b[1;33m         \u001b[1;32mreturn\u001b[0m \u001b[0mmapping\u001b[0m\u001b[1;33m[\u001b[0m\u001b[0mengine\u001b[0m\u001b[1;33m]\u001b[0m\u001b[1;33m(\u001b[0m\u001b[0mself\u001b[0m\u001b[1;33m.\u001b[0m\u001b[0mf\u001b[0m\u001b[1;33m,\u001b[0m \u001b[1;33m**\u001b[0m\u001b[0mself\u001b[0m\u001b[1;33m.\u001b[0m\u001b[0moptions\u001b[0m\u001b[1;33m)\u001b[0m  \u001b[1;31m# type: ignore[call-arg]\u001b[0m\u001b[1;33m\u001b[0m\u001b[1;33m\u001b[0m\u001b[0m\n\u001b[0m\u001b[0;32m   1051\u001b[0m \u001b[1;33m\u001b[0m\u001b[0m\n\u001b[0;32m   1052\u001b[0m     \u001b[1;32mdef\u001b[0m \u001b[0m_failover_to_python\u001b[0m\u001b[1;33m(\u001b[0m\u001b[0mself\u001b[0m\u001b[1;33m)\u001b[0m\u001b[1;33m:\u001b[0m\u001b[1;33m\u001b[0m\u001b[1;33m\u001b[0m\u001b[0m\n",
      "\u001b[1;32m~\\anaconda3\\lib\\site-packages\\pandas\\io\\parsers.py\u001b[0m in \u001b[0;36m__init__\u001b[1;34m(self, src, **kwds)\u001b[0m\n\u001b[0;32m   1865\u001b[0m \u001b[1;33m\u001b[0m\u001b[0m\n\u001b[0;32m   1866\u001b[0m         \u001b[1;31m# open handles\u001b[0m\u001b[1;33m\u001b[0m\u001b[1;33m\u001b[0m\u001b[1;33m\u001b[0m\u001b[0m\n\u001b[1;32m-> 1867\u001b[1;33m         \u001b[0mself\u001b[0m\u001b[1;33m.\u001b[0m\u001b[0m_open_handles\u001b[0m\u001b[1;33m(\u001b[0m\u001b[0msrc\u001b[0m\u001b[1;33m,\u001b[0m \u001b[0mkwds\u001b[0m\u001b[1;33m)\u001b[0m\u001b[1;33m\u001b[0m\u001b[1;33m\u001b[0m\u001b[0m\n\u001b[0m\u001b[0;32m   1868\u001b[0m         \u001b[1;32massert\u001b[0m \u001b[0mself\u001b[0m\u001b[1;33m.\u001b[0m\u001b[0mhandles\u001b[0m \u001b[1;32mis\u001b[0m \u001b[1;32mnot\u001b[0m \u001b[1;32mNone\u001b[0m\u001b[1;33m\u001b[0m\u001b[1;33m\u001b[0m\u001b[0m\n\u001b[0;32m   1869\u001b[0m         \u001b[1;32mfor\u001b[0m \u001b[0mkey\u001b[0m \u001b[1;32min\u001b[0m \u001b[1;33m(\u001b[0m\u001b[1;34m\"storage_options\"\u001b[0m\u001b[1;33m,\u001b[0m \u001b[1;34m\"encoding\"\u001b[0m\u001b[1;33m,\u001b[0m \u001b[1;34m\"memory_map\"\u001b[0m\u001b[1;33m,\u001b[0m \u001b[1;34m\"compression\"\u001b[0m\u001b[1;33m)\u001b[0m\u001b[1;33m:\u001b[0m\u001b[1;33m\u001b[0m\u001b[1;33m\u001b[0m\u001b[0m\n",
      "\u001b[1;32m~\\anaconda3\\lib\\site-packages\\pandas\\io\\parsers.py\u001b[0m in \u001b[0;36m_open_handles\u001b[1;34m(self, src, kwds)\u001b[0m\n\u001b[0;32m   1360\u001b[0m         \u001b[0mLet\u001b[0m \u001b[0mthe\u001b[0m \u001b[0mreaders\u001b[0m \u001b[0mopen\u001b[0m \u001b[0mIOHanldes\u001b[0m \u001b[0mafter\u001b[0m \u001b[0mthey\u001b[0m \u001b[0mare\u001b[0m \u001b[0mdone\u001b[0m \u001b[1;32mwith\u001b[0m \u001b[0mtheir\u001b[0m \u001b[0mpotential\u001b[0m \u001b[0mraises\u001b[0m\u001b[1;33m.\u001b[0m\u001b[1;33m\u001b[0m\u001b[1;33m\u001b[0m\u001b[0m\n\u001b[0;32m   1361\u001b[0m         \"\"\"\n\u001b[1;32m-> 1362\u001b[1;33m         self.handles = get_handle(\n\u001b[0m\u001b[0;32m   1363\u001b[0m             \u001b[0msrc\u001b[0m\u001b[1;33m,\u001b[0m\u001b[1;33m\u001b[0m\u001b[1;33m\u001b[0m\u001b[0m\n\u001b[0;32m   1364\u001b[0m             \u001b[1;34m\"r\"\u001b[0m\u001b[1;33m,\u001b[0m\u001b[1;33m\u001b[0m\u001b[1;33m\u001b[0m\u001b[0m\n",
      "\u001b[1;32m~\\anaconda3\\lib\\site-packages\\pandas\\io\\common.py\u001b[0m in \u001b[0;36mget_handle\u001b[1;34m(path_or_buf, mode, encoding, compression, memory_map, is_text, errors, storage_options)\u001b[0m\n\u001b[0;32m    640\u001b[0m                 \u001b[0merrors\u001b[0m \u001b[1;33m=\u001b[0m \u001b[1;34m\"replace\"\u001b[0m\u001b[1;33m\u001b[0m\u001b[1;33m\u001b[0m\u001b[0m\n\u001b[0;32m    641\u001b[0m             \u001b[1;31m# Encoding\u001b[0m\u001b[1;33m\u001b[0m\u001b[1;33m\u001b[0m\u001b[1;33m\u001b[0m\u001b[0m\n\u001b[1;32m--> 642\u001b[1;33m             handle = open(\n\u001b[0m\u001b[0;32m    643\u001b[0m                 \u001b[0mhandle\u001b[0m\u001b[1;33m,\u001b[0m\u001b[1;33m\u001b[0m\u001b[1;33m\u001b[0m\u001b[0m\n\u001b[0;32m    644\u001b[0m                 \u001b[0mioargs\u001b[0m\u001b[1;33m.\u001b[0m\u001b[0mmode\u001b[0m\u001b[1;33m,\u001b[0m\u001b[1;33m\u001b[0m\u001b[1;33m\u001b[0m\u001b[0m\n",
      "\u001b[1;31mFileNotFoundError\u001b[0m: [Errno 2] No such file or directory: '../input/productivity-prediction-of-garment-employees/garments_worker_productivity.csv'"
     ]
    }
   ],
   "source": [
    "data = pd.read_csv('')\n",
    "data.head()"
   ]
  },
  {
   "cell_type": "code",
   "execution_count": null,
   "id": "burning-turkish",
   "metadata": {
    "execution": {
     "iopub.execute_input": "2021-04-10T14:15:04.487309Z",
     "iopub.status.busy": "2021-04-10T14:15:04.486600Z",
     "iopub.status.idle": "2021-04-10T14:15:04.489250Z",
     "shell.execute_reply": "2021-04-10T14:15:04.489776Z"
    },
    "papermill": {
     "duration": 0.044032,
     "end_time": "2021-04-10T14:15:04.489950",
     "exception": false,
     "start_time": "2021-04-10T14:15:04.445918",
     "status": "completed"
    },
    "tags": []
   },
   "outputs": [],
   "source": [
    "df = data.copy()"
   ]
  },
  {
   "cell_type": "code",
   "execution_count": null,
   "id": "crude-unemployment",
   "metadata": {
    "execution": {
     "iopub.execute_input": "2021-04-10T14:15:04.570210Z",
     "iopub.status.busy": "2021-04-10T14:15:04.569173Z",
     "iopub.status.idle": "2021-04-10T14:15:04.573276Z",
     "shell.execute_reply": "2021-04-10T14:15:04.572731Z"
    },
    "papermill": {
     "duration": 0.047359,
     "end_time": "2021-04-10T14:15:04.573411",
     "exception": false,
     "start_time": "2021-04-10T14:15:04.526052",
     "status": "completed"
    },
    "tags": []
   },
   "outputs": [],
   "source": [
    "df.shape"
   ]
  },
  {
   "cell_type": "code",
   "execution_count": null,
   "id": "offensive-morrison",
   "metadata": {
    "execution": {
     "iopub.execute_input": "2021-04-10T14:15:04.666915Z",
     "iopub.status.busy": "2021-04-10T14:15:04.665967Z",
     "iopub.status.idle": "2021-04-10T14:15:04.670331Z",
     "shell.execute_reply": "2021-04-10T14:15:04.669693Z"
    },
    "papermill": {
     "duration": 0.060729,
     "end_time": "2021-04-10T14:15:04.670465",
     "exception": false,
     "start_time": "2021-04-10T14:15:04.609736",
     "status": "completed"
    },
    "tags": []
   },
   "outputs": [],
   "source": [
    "df.info()"
   ]
  },
  {
   "cell_type": "markdown",
   "id": "premium-ballet",
   "metadata": {
    "papermill": {
     "duration": 0.037636,
     "end_time": "2021-04-10T14:15:04.746021",
     "exception": false,
     "start_time": "2021-04-10T14:15:04.708385",
     "status": "completed"
    },
    "tags": []
   },
   "source": [
    "# Data Description\n",
    "1. The dataset contains 1197 rows and 15 columns\n",
    " \n",
    "Attribute Information:\n",
    "\n",
    "1. date : Date in MM-DD-YYYY\n",
    "2. day : Day of the Week\n",
    "3. quarter : A portion of the month. A month was divided into four quarters\n",
    "4. department : Associated department with the instance\n",
    "5. teamno : Associated team number with the instance\n",
    "6. noofworkers : Number of workers in each team \n",
    "7. noofstylechange : Number of changes in the style of a particular product\n",
    "8. targetedproductivity : Targeted productivity set by the Authority for each team for each day.\n",
    "9. smv : Standard Minute Value, it is the allocated time for a task \n",
    "10. wip : Work in progress. Includes the number of unfinished items for products \n",
    "11. overtime : Represents the amount of overtime by each team in minutes\n",
    "12. incentive : Represents the amount of financial incentive (in BDT) that enables or motivates a particular course of action.\n",
    "13. idletime : The amount of time when the production was interrupted due to several reasons \n",
    "14. idlemen : The number of workers who were idle due to production interruption\n",
    "15. actual_productivity : The actual % of productivity that was delivered by the workers. It ranges from 0-1.\n",
    "\n",
    "Date,quarter, department and day are object datatypes and rest are int or float types"
   ]
  },
  {
   "cell_type": "code",
   "execution_count": null,
   "id": "naked-simpson",
   "metadata": {
    "execution": {
     "iopub.execute_input": "2021-04-10T14:15:04.831479Z",
     "iopub.status.busy": "2021-04-10T14:15:04.830626Z",
     "iopub.status.idle": "2021-04-10T14:15:04.835356Z",
     "shell.execute_reply": "2021-04-10T14:15:04.835827Z"
    },
    "papermill": {
     "duration": 0.052146,
     "end_time": "2021-04-10T14:15:04.836007",
     "exception": false,
     "start_time": "2021-04-10T14:15:04.783861",
     "status": "completed"
    },
    "tags": []
   },
   "outputs": [],
   "source": [
    "df.isna().sum()"
   ]
  },
  {
   "cell_type": "markdown",
   "id": "outstanding-credits",
   "metadata": {
    "papermill": {
     "duration": 0.037387,
     "end_time": "2021-04-10T14:15:04.911521",
     "exception": false,
     "start_time": "2021-04-10T14:15:04.874134",
     "status": "completed"
    },
    "tags": []
   },
   "source": [
    "# Data Cleaning - Feature engineering"
   ]
  },
  {
   "cell_type": "code",
   "execution_count": null,
   "id": "attempted-mercy",
   "metadata": {
    "execution": {
     "iopub.execute_input": "2021-04-10T14:15:05.006449Z",
     "iopub.status.busy": "2021-04-10T14:15:05.005805Z",
     "iopub.status.idle": "2021-04-10T14:15:05.009590Z",
     "shell.execute_reply": "2021-04-10T14:15:05.009048Z"
    },
    "papermill": {
     "duration": 0.060881,
     "end_time": "2021-04-10T14:15:05.009755",
     "exception": false,
     "start_time": "2021-04-10T14:15:04.948874",
     "status": "completed"
    },
    "tags": []
   },
   "outputs": [],
   "source": [
    "df['date'] = pd.to_datetime(df['date'])\n",
    "df['month_name'] = df['date'].dt.month_name() #create month name"
   ]
  },
  {
   "cell_type": "code",
   "execution_count": null,
   "id": "intimate-kuwait",
   "metadata": {
    "execution": {
     "iopub.execute_input": "2021-04-10T14:15:05.094428Z",
     "iopub.status.busy": "2021-04-10T14:15:05.093775Z",
     "iopub.status.idle": "2021-04-10T14:15:05.097125Z",
     "shell.execute_reply": "2021-04-10T14:15:05.096506Z"
    },
    "papermill": {
     "duration": 0.048571,
     "end_time": "2021-04-10T14:15:05.097269",
     "exception": false,
     "start_time": "2021-04-10T14:15:05.048698",
     "status": "completed"
    },
    "tags": []
   },
   "outputs": [],
   "source": [
    "df['overtime_in_hours'] = df['over_time'].apply(lambda x: x/60) #create a new feature which has overtime measured in hours"
   ]
  },
  {
   "cell_type": "code",
   "execution_count": null,
   "id": "italian-piece",
   "metadata": {
    "execution": {
     "iopub.execute_input": "2021-04-10T14:15:05.182135Z",
     "iopub.status.busy": "2021-04-10T14:15:05.181047Z",
     "iopub.status.idle": "2021-04-10T14:15:05.185485Z",
     "shell.execute_reply": "2021-04-10T14:15:05.184955Z"
    },
    "papermill": {
     "duration": 0.051192,
     "end_time": "2021-04-10T14:15:05.185629",
     "exception": false,
     "start_time": "2021-04-10T14:15:05.134437",
     "status": "completed"
    },
    "tags": []
   },
   "outputs": [],
   "source": [
    "df['quarter'].value_counts()"
   ]
  },
  {
   "cell_type": "code",
   "execution_count": null,
   "id": "wireless-middle",
   "metadata": {
    "execution": {
     "iopub.execute_input": "2021-04-10T14:15:05.269736Z",
     "iopub.status.busy": "2021-04-10T14:15:05.269005Z",
     "iopub.status.idle": "2021-04-10T14:15:05.273100Z",
     "shell.execute_reply": "2021-04-10T14:15:05.272478Z"
    },
    "papermill": {
     "duration": 0.049329,
     "end_time": "2021-04-10T14:15:05.273234",
     "exception": false,
     "start_time": "2021-04-10T14:15:05.223905",
     "status": "completed"
    },
    "tags": []
   },
   "outputs": [],
   "source": [
    "df['department'].value_counts().index.to_list() #We can see there is an extra space, which led to 3 categories, we'll fix it and also fix the spelling of sewing"
   ]
  },
  {
   "cell_type": "code",
   "execution_count": null,
   "id": "veterinary-container",
   "metadata": {
    "execution": {
     "iopub.execute_input": "2021-04-10T14:15:05.356800Z",
     "iopub.status.busy": "2021-04-10T14:15:05.356115Z",
     "iopub.status.idle": "2021-04-10T14:15:05.359282Z",
     "shell.execute_reply": "2021-04-10T14:15:05.358573Z"
    },
    "papermill": {
     "duration": 0.048119,
     "end_time": "2021-04-10T14:15:05.359421",
     "exception": false,
     "start_time": "2021-04-10T14:15:05.311302",
     "status": "completed"
    },
    "tags": []
   },
   "outputs": [],
   "source": [
    "df['department'] = df['department'].apply(lambda x: 'finishing' if x == ('finishing ' or 'finishing' ) else 'sewing' )"
   ]
  },
  {
   "cell_type": "code",
   "execution_count": null,
   "id": "speaking-battle",
   "metadata": {
    "execution": {
     "iopub.execute_input": "2021-04-10T14:15:05.445751Z",
     "iopub.status.busy": "2021-04-10T14:15:05.445020Z",
     "iopub.status.idle": "2021-04-10T14:15:05.447957Z",
     "shell.execute_reply": "2021-04-10T14:15:05.448409Z"
    },
    "papermill": {
     "duration": 0.049153,
     "end_time": "2021-04-10T14:15:05.448581",
     "exception": false,
     "start_time": "2021-04-10T14:15:05.399428",
     "status": "completed"
    },
    "tags": []
   },
   "outputs": [],
   "source": [
    "df['department'].value_counts().index.to_list()"
   ]
  },
  {
   "cell_type": "code",
   "execution_count": null,
   "id": "important-protection",
   "metadata": {
    "execution": {
     "iopub.execute_input": "2021-04-10T14:15:05.530552Z",
     "iopub.status.busy": "2021-04-10T14:15:05.529886Z",
     "iopub.status.idle": "2021-04-10T14:15:05.538147Z",
     "shell.execute_reply": "2021-04-10T14:15:05.537566Z"
    },
    "papermill": {
     "duration": 0.050722,
     "end_time": "2021-04-10T14:15:05.538296",
     "exception": false,
     "start_time": "2021-04-10T14:15:05.487574",
     "status": "completed"
    },
    "tags": []
   },
   "outputs": [],
   "source": [
    "df['day'].value_counts() #Friday is not a working day"
   ]
  },
  {
   "cell_type": "code",
   "execution_count": null,
   "id": "biblical-membership",
   "metadata": {
    "execution": {
     "iopub.execute_input": "2021-04-10T14:15:05.630908Z",
     "iopub.status.busy": "2021-04-10T14:15:05.630150Z",
     "iopub.status.idle": "2021-04-10T14:15:05.633609Z",
     "shell.execute_reply": "2021-04-10T14:15:05.634139Z"
    },
    "papermill": {
     "duration": 0.055859,
     "end_time": "2021-04-10T14:15:05.634326",
     "exception": false,
     "start_time": "2021-04-10T14:15:05.578467",
     "status": "completed"
    },
    "tags": []
   },
   "outputs": [],
   "source": [
    "dept = df.department.value_counts().reset_index()\n",
    "dept.rename(columns = {'index':'department', 'department':'total_num'},inplace=True)\n",
    "dept"
   ]
  },
  {
   "cell_type": "markdown",
   "id": "exact-singing",
   "metadata": {
    "papermill": {
     "duration": 0.04005,
     "end_time": "2021-04-10T14:15:05.714293",
     "exception": false,
     "start_time": "2021-04-10T14:15:05.674243",
     "status": "completed"
    },
    "tags": []
   },
   "source": [
    "# Univariate analysis of categorical variables"
   ]
  },
  {
   "cell_type": "code",
   "execution_count": null,
   "id": "approved-emergency",
   "metadata": {
    "execution": {
     "iopub.execute_input": "2021-04-10T14:15:05.798078Z",
     "iopub.status.busy": "2021-04-10T14:15:05.797089Z",
     "iopub.status.idle": "2021-04-10T14:15:05.926437Z",
     "shell.execute_reply": "2021-04-10T14:15:05.925780Z"
    },
    "papermill": {
     "duration": 0.172495,
     "end_time": "2021-04-10T14:15:05.926574",
     "exception": false,
     "start_time": "2021-04-10T14:15:05.754079",
     "status": "completed"
    },
    "tags": []
   },
   "outputs": [],
   "source": [
    "fig = go.Figure(data=[go.Pie(labels=dept.department.to_list(),\n",
    "                             values=dept.total_num.to_list())])\n",
    "fig.update_traces(hoverinfo='label+percent', textinfo='value', textfont_size=20,\n",
    "                  marker=dict(colors=['green', 'yellow'], line=dict(color='#000000', width=2)))\n",
    "fig.show()"
   ]
  },
  {
   "cell_type": "code",
   "execution_count": null,
   "id": "enhanced-specific",
   "metadata": {
    "execution": {
     "iopub.execute_input": "2021-04-10T14:15:06.024404Z",
     "iopub.status.busy": "2021-04-10T14:15:06.023635Z",
     "iopub.status.idle": "2021-04-10T14:15:06.038740Z",
     "shell.execute_reply": "2021-04-10T14:15:06.037942Z"
    },
    "papermill": {
     "duration": 0.070078,
     "end_time": "2021-04-10T14:15:06.038893",
     "exception": false,
     "start_time": "2021-04-10T14:15:05.968815",
     "status": "completed"
    },
    "tags": []
   },
   "outputs": [],
   "source": [
    "qdf = df['quarter'].value_counts().reset_index()\n",
    "qdf.rename(columns={'index': 'quarters', 'quarter': 'days_in_each_quarter'}, inplace=True)\n",
    "fig = go.Figure(data=[go.Pie(labels=qdf.quarters.to_list(), values=qdf.days_in_each_quarter.to_list(), pull=[0, 0, 0, 0, 0.4], hole=.3)])\n",
    "fig.show()"
   ]
  },
  {
   "cell_type": "markdown",
   "id": "compact-marketing",
   "metadata": {
    "papermill": {
     "duration": 0.041979,
     "end_time": "2021-04-10T14:15:06.125341",
     "exception": false,
     "start_time": "2021-04-10T14:15:06.083362",
     "status": "completed"
    },
    "tags": []
   },
   "source": [
    "# Univariate analysis of continuous variables"
   ]
  },
  {
   "cell_type": "markdown",
   "id": "assured-stage",
   "metadata": {
    "papermill": {
     "duration": 0.043377,
     "end_time": "2021-04-10T14:15:06.212733",
     "exception": false,
     "start_time": "2021-04-10T14:15:06.169356",
     "status": "completed"
    },
    "tags": []
   },
   "source": [
    "**Histogram is representation of the distribution of numerical data**"
   ]
  },
  {
   "cell_type": "code",
   "execution_count": null,
   "id": "conditional-serial",
   "metadata": {
    "execution": {
     "iopub.execute_input": "2021-04-10T14:15:06.302932Z",
     "iopub.status.busy": "2021-04-10T14:15:06.302291Z",
     "iopub.status.idle": "2021-04-10T14:15:07.291733Z",
     "shell.execute_reply": "2021-04-10T14:15:07.292290Z"
    },
    "papermill": {
     "duration": 1.036159,
     "end_time": "2021-04-10T14:15:07.292485",
     "exception": false,
     "start_time": "2021-04-10T14:15:06.256326",
     "status": "completed"
    },
    "tags": []
   },
   "outputs": [],
   "source": [
    "fig = px.histogram(df, x=\"targeted_productivity\", nbins=20, template='plotly_dark')\n",
    "fig.update_layout(title='Distribution of Targeted productivity', title_x=0.5)\n",
    "fig.show()"
   ]
  },
  {
   "cell_type": "markdown",
   "id": "chemical-survival",
   "metadata": {
    "papermill": {
     "duration": 0.043401,
     "end_time": "2021-04-10T14:15:07.379766",
     "exception": false,
     "start_time": "2021-04-10T14:15:07.336365",
     "status": "completed"
    },
    "tags": []
   },
   "source": [
    "**A violin plot is a method of plotting numeric data. It is similar to a box plot, with the addition of a rotated kernel density plot on each side**"
   ]
  },
  {
   "cell_type": "code",
   "execution_count": null,
   "id": "included-athens",
   "metadata": {
    "execution": {
     "iopub.execute_input": "2021-04-10T14:15:07.484433Z",
     "iopub.status.busy": "2021-04-10T14:15:07.482566Z",
     "iopub.status.idle": "2021-04-10T14:15:07.594057Z",
     "shell.execute_reply": "2021-04-10T14:15:07.593409Z"
    },
    "papermill": {
     "duration": 0.170799,
     "end_time": "2021-04-10T14:15:07.594208",
     "exception": false,
     "start_time": "2021-04-10T14:15:07.423409",
     "status": "completed"
    },
    "tags": []
   },
   "outputs": [],
   "source": [
    "fig = px.violin(df, y=\"actual_productivity\", box=True, points='all')\n",
    "fig.update_layout(title='Distribution of actual_productivity', title_x=0.5)\n",
    "fig.show()"
   ]
  },
  {
   "cell_type": "code",
   "execution_count": null,
   "id": "muslim-worker",
   "metadata": {
    "execution": {
     "iopub.execute_input": "2021-04-10T14:15:07.690832Z",
     "iopub.status.busy": "2021-04-10T14:15:07.690059Z",
     "iopub.status.idle": "2021-04-10T14:15:07.868503Z",
     "shell.execute_reply": "2021-04-10T14:15:07.867277Z"
    },
    "papermill": {
     "duration": 0.229726,
     "end_time": "2021-04-10T14:15:07.868692",
     "exception": false,
     "start_time": "2021-04-10T14:15:07.638966",
     "status": "completed"
    },
    "tags": []
   },
   "outputs": [],
   "source": [
    "fig = px.histogram(df, x=\"smv\", \n",
    "                   marginal=\"violin\", template='ggplot2' # or violin, rug\n",
    "                  )\n",
    "fig.update_layout(title='Distribution of smv(standard minute value)', title_x=0.5)\n",
    "\n",
    "fig.show()"
   ]
  },
  {
   "cell_type": "code",
   "execution_count": null,
   "id": "abroad-schedule",
   "metadata": {
    "execution": {
     "iopub.execute_input": "2021-04-10T14:15:07.980374Z",
     "iopub.status.busy": "2021-04-10T14:15:07.975105Z",
     "iopub.status.idle": "2021-04-10T14:15:08.026291Z",
     "shell.execute_reply": "2021-04-10T14:15:08.026828Z"
    },
    "papermill": {
     "duration": 0.111675,
     "end_time": "2021-04-10T14:15:08.027011",
     "exception": false,
     "start_time": "2021-04-10T14:15:07.915336",
     "status": "completed"
    },
    "tags": []
   },
   "outputs": [],
   "source": [
    "fig = make_subplots(rows=1, cols=2)\n",
    "y1= df['no_of_workers']\n",
    "y2=df['incentive']\n",
    "x=df['month_name']\n",
    "\n",
    "fig.add_trace(go.Bar( x=x,y=y1), row=1, col=1)\n",
    "fig.add_trace(go.Bar(x=x, y=y2), row=1, col=2)\n",
    "\n",
    "fig.update_layout(title='Plots of number of workers and incentive paid in each month', title_x=0.5)\n",
    "\n",
    "fig.show()"
   ]
  },
  {
   "cell_type": "markdown",
   "id": "adapted-annex",
   "metadata": {
    "papermill": {
     "duration": 0.048453,
     "end_time": "2021-04-10T14:15:08.123379",
     "exception": false,
     "start_time": "2021-04-10T14:15:08.074926",
     "status": "completed"
    },
    "tags": []
   },
   "source": [
    "# Although less number of people worked in March, high incentive was paid, which means they are working overtime."
   ]
  },
  {
   "cell_type": "code",
   "execution_count": null,
   "id": "peaceful-benchmark",
   "metadata": {
    "execution": {
     "iopub.execute_input": "2021-04-10T14:15:08.226584Z",
     "iopub.status.busy": "2021-04-10T14:15:08.225932Z",
     "iopub.status.idle": "2021-04-10T14:15:08.371565Z",
     "shell.execute_reply": "2021-04-10T14:15:08.370878Z"
    },
    "papermill": {
     "duration": 0.199478,
     "end_time": "2021-04-10T14:15:08.371732",
     "exception": false,
     "start_time": "2021-04-10T14:15:08.172254",
     "status": "completed"
    },
    "tags": []
   },
   "outputs": [],
   "source": [
    "fig = px.scatter(df, x=\"date\", y=\"idle_time\",color=\"team\", template=\"plotly_dark\")\n",
    "fig.update_layout(title='Idle time spent by Teams', title_x=0.5)\n",
    "fig.show()"
   ]
  },
  {
   "cell_type": "markdown",
   "id": "deadly-panic",
   "metadata": {
    "papermill": {
     "duration": 0.048059,
     "end_time": "2021-04-10T14:15:08.469104",
     "exception": false,
     "start_time": "2021-04-10T14:15:08.421045",
     "status": "completed"
    },
    "tags": []
   },
   "source": [
    "# Team 8 and 7 spent most idle time"
   ]
  },
  {
   "cell_type": "code",
   "execution_count": null,
   "id": "accepting-hampton",
   "metadata": {
    "execution": {
     "iopub.execute_input": "2021-04-10T14:15:08.570440Z",
     "iopub.status.busy": "2021-04-10T14:15:08.569732Z",
     "iopub.status.idle": "2021-04-10T14:15:08.955846Z",
     "shell.execute_reply": "2021-04-10T14:15:08.955256Z"
    },
    "papermill": {
     "duration": 0.437809,
     "end_time": "2021-04-10T14:15:08.955987",
     "exception": false,
     "start_time": "2021-04-10T14:15:08.518178",
     "status": "completed"
    },
    "tags": []
   },
   "outputs": [],
   "source": [
    "fig = px.scatter(df, y=\"idle_men\", x=\"date\", color=\"idle_men\", facet_col=\"team\", \n",
    "                 title=\"Number of Idle_men in Teams\", template=\"plotly_dark\")\n",
    "fig.update_layout(title='Count of Idle men in Teams', title_x=0.5)\n",
    "fig.update_xaxes(showgrid=False)\n",
    "\n",
    "fig.show()"
   ]
  },
  {
   "cell_type": "markdown",
   "id": "pointed-begin",
   "metadata": {
    "papermill": {
     "duration": 0.051039,
     "end_time": "2021-04-10T14:15:09.058804",
     "exception": false,
     "start_time": "2021-04-10T14:15:09.007765",
     "status": "completed"
    },
    "tags": []
   },
   "source": [
    "# Bivariate Analysis"
   ]
  },
  {
   "cell_type": "markdown",
   "id": "intended-filename",
   "metadata": {
    "papermill": {
     "duration": 0.05016,
     "end_time": "2021-04-10T14:15:09.159422",
     "exception": false,
     "start_time": "2021-04-10T14:15:09.109262",
     "status": "completed"
    },
    "tags": []
   },
   "source": [
    "# Actual productivity w.r.t departments"
   ]
  },
  {
   "cell_type": "code",
   "execution_count": null,
   "id": "equipped-height",
   "metadata": {
    "execution": {
     "iopub.execute_input": "2021-04-10T14:15:09.267012Z",
     "iopub.status.busy": "2021-04-10T14:15:09.265972Z",
     "iopub.status.idle": "2021-04-10T14:15:09.350612Z",
     "shell.execute_reply": "2021-04-10T14:15:09.350014Z"
    },
    "papermill": {
     "duration": 0.138686,
     "end_time": "2021-04-10T14:15:09.350766",
     "exception": false,
     "start_time": "2021-04-10T14:15:09.212080",
     "status": "completed"
    },
    "tags": []
   },
   "outputs": [],
   "source": [
    "fig = px.violin(df, y=\"actual_productivity\", box=True, points='all', color='department')\n",
    "fig.show()"
   ]
  },
  {
   "cell_type": "code",
   "execution_count": null,
   "id": "bacterial-suspect",
   "metadata": {
    "execution": {
     "iopub.execute_input": "2021-04-10T14:15:09.459575Z",
     "iopub.status.busy": "2021-04-10T14:15:09.458524Z",
     "iopub.status.idle": "2021-04-10T14:15:09.541719Z",
     "shell.execute_reply": "2021-04-10T14:15:09.541021Z"
    },
    "papermill": {
     "duration": 0.139297,
     "end_time": "2021-04-10T14:15:09.541873",
     "exception": false,
     "start_time": "2021-04-10T14:15:09.402576",
     "status": "completed"
    },
    "tags": []
   },
   "outputs": [],
   "source": [
    "fig = px.scatter(df, y=\"actual_productivity\",x=\"targeted_productivity\", color='department'\n",
    "             )\n",
    "fig.update_layout(title_text='Actual vs Targeted Productivity',title_x=0.5,font=dict(\n",
    "        family=\"Courier New, monospace\",\n",
    "        size=18,\n",
    "        color=\"rosybrown\"\n",
    "    ))\n",
    "\n",
    "fig.show()"
   ]
  },
  {
   "cell_type": "markdown",
   "id": "parallel-judge",
   "metadata": {
    "papermill": {
     "duration": 0.053023,
     "end_time": "2021-04-10T14:15:09.647861",
     "exception": false,
     "start_time": "2021-04-10T14:15:09.594838",
     "status": "completed"
    },
    "tags": []
   },
   "source": [
    "Both departments are exceeding targets"
   ]
  },
  {
   "cell_type": "code",
   "execution_count": null,
   "id": "minus-albuquerque",
   "metadata": {
    "execution": {
     "iopub.execute_input": "2021-04-10T14:15:09.772389Z",
     "iopub.status.busy": "2021-04-10T14:15:09.771095Z",
     "iopub.status.idle": "2021-04-10T14:15:09.957818Z",
     "shell.execute_reply": "2021-04-10T14:15:09.958347Z"
    },
    "papermill": {
     "duration": 0.255989,
     "end_time": "2021-04-10T14:15:09.958520",
     "exception": false,
     "start_time": "2021-04-10T14:15:09.702531",
     "status": "completed"
    },
    "tags": []
   },
   "outputs": [],
   "source": [
    "fig = px.bar(df, x=\"department\", y=\"actual_productivity\", barmode=\"group\", color=\"department\",\n",
    "             facet_col=\"quarter\")\n",
    "fig.update_layout(title_text='Productivity of departments in each quarter',title_x=0.5,font=dict(\n",
    "        family=\"Courier New, monospace\",\n",
    "        size=18,\n",
    "        color=\"maroon\"\n",
    "    ))\n",
    "\n",
    "fig.show()"
   ]
  },
  {
   "cell_type": "markdown",
   "id": "regional-gardening",
   "metadata": {
    "papermill": {
     "duration": 0.055407,
     "end_time": "2021-04-10T14:15:10.069022",
     "exception": false,
     "start_time": "2021-04-10T14:15:10.013615",
     "status": "completed"
    },
    "tags": []
   },
   "source": [
    "# Productivity in each month"
   ]
  },
  {
   "cell_type": "code",
   "execution_count": null,
   "id": "actual-might",
   "metadata": {
    "execution": {
     "iopub.execute_input": "2021-04-10T14:15:10.233379Z",
     "iopub.status.busy": "2021-04-10T14:15:10.228113Z",
     "iopub.status.idle": "2021-04-10T14:15:10.257368Z",
     "shell.execute_reply": "2021-04-10T14:15:10.257894Z"
    },
    "papermill": {
     "duration": 0.131965,
     "end_time": "2021-04-10T14:15:10.258066",
     "exception": false,
     "start_time": "2021-04-10T14:15:10.126101",
     "status": "completed"
    },
    "tags": []
   },
   "outputs": [],
   "source": [
    "fig = go.Figure()\n",
    "fig.add_trace(go.Bar(\n",
    "    y=df['month_name'].to_list(),\n",
    "    x=df['no_of_workers'].to_list(),\n",
    "    name='Sewing',\n",
    "    orientation='h',\n",
    "    marker=dict(\n",
    "        color='rgba(246, 78, 139, 0.6)',\n",
    "        line=dict(color='rgba(246, 78, 139, 1.0)', width=3)\n",
    "    )\n",
    "))\n",
    "fig.add_trace(go.Bar(\n",
    "    y=df['month_name'].to_list(),\n",
    "    x=df['no_of_workers'].to_list(),\n",
    "    name='Finishing',\n",
    "    orientation='h',\n",
    "    marker=dict(\n",
    "        color='rgba(58, 71, 80, 0.6)',\n",
    "        line=dict(color='rgba(58, 71, 80, 1.0)', width=3)\n",
    "    )\n",
    "))\n",
    "\n",
    "fig.update_layout(barmode='stack')\n",
    "fig.show()"
   ]
  },
  {
   "cell_type": "code",
   "execution_count": null,
   "id": "permanent-october",
   "metadata": {
    "execution": {
     "iopub.execute_input": "2021-04-10T14:15:10.381417Z",
     "iopub.status.busy": "2021-04-10T14:15:10.380640Z",
     "iopub.status.idle": "2021-04-10T14:15:10.452547Z",
     "shell.execute_reply": "2021-04-10T14:15:10.451906Z"
    },
    "papermill": {
     "duration": 0.13695,
     "end_time": "2021-04-10T14:15:10.452713",
     "exception": false,
     "start_time": "2021-04-10T14:15:10.315763",
     "status": "completed"
    },
    "tags": []
   },
   "outputs": [],
   "source": [
    "daydf = df[['day', 'actual_productivity']].groupby('day').mean()\n",
    "daydf = daydf.sort_values('actual_productivity', ascending=False).reset_index()\n",
    "fig = px.bar(daydf, x='day', y='actual_productivity',\n",
    "             hover_data=['day', 'actual_productivity'], color='actual_productivity',\n",
    "             labels={'actual_productivity':'Productivity'}, height=500)\n",
    "fig.show()"
   ]
  },
  {
   "cell_type": "markdown",
   "id": "confidential-tenant",
   "metadata": {
    "papermill": {
     "duration": 0.058056,
     "end_time": "2021-04-10T14:15:10.570359",
     "exception": false,
     "start_time": "2021-04-10T14:15:10.512303",
     "status": "completed"
    },
    "tags": []
   },
   "source": [
    "**Surprisingly Saturday is the most productive with an average of 0.75, maybe because Friday is holiday which makes sense, after a break your productivity is more**"
   ]
  },
  {
   "cell_type": "code",
   "execution_count": null,
   "id": "nonprofit-inside",
   "metadata": {
    "execution": {
     "iopub.execute_input": "2021-04-10T14:15:10.704822Z",
     "iopub.status.busy": "2021-04-10T14:15:10.697950Z",
     "iopub.status.idle": "2021-04-10T14:15:10.771104Z",
     "shell.execute_reply": "2021-04-10T14:15:10.770538Z"
    },
    "papermill": {
     "duration": 0.142221,
     "end_time": "2021-04-10T14:15:10.771248",
     "exception": false,
     "start_time": "2021-04-10T14:15:10.629027",
     "status": "completed"
    },
    "tags": []
   },
   "outputs": [],
   "source": [
    "teamdf = df[['team', 'actual_productivity']].groupby('team').mean()\n",
    "teamdf = teamdf.sort_values('actual_productivity', ascending=False).reset_index()\n",
    "teamdf\n",
    "fig = px.bar(teamdf, x=\"team\", y=\"actual_productivity\", color='actual_productivity')\n",
    "fig.update_layout(title_text='Productivity by Teams',title_x=0.5,font=dict(\n",
    "        family=\"Courier New, monospace\",\n",
    "        size=18,\n",
    "        color=\"green\"\n",
    "    ))\n",
    "fig.show()"
   ]
  },
  {
   "cell_type": "markdown",
   "id": "refined-japan",
   "metadata": {
    "papermill": {
     "duration": 0.058273,
     "end_time": "2021-04-10T14:15:10.888019",
     "exception": false,
     "start_time": "2021-04-10T14:15:10.829746",
     "status": "completed"
    },
    "tags": []
   },
   "source": [
    "# Team 1 is the most productive followed by Team 3"
   ]
  },
  {
   "cell_type": "markdown",
   "id": "technological-rapid",
   "metadata": {
    "papermill": {
     "duration": 0.057942,
     "end_time": "2021-04-10T14:15:11.003928",
     "exception": false,
     "start_time": "2021-04-10T14:15:10.945986",
     "status": "completed"
    },
    "tags": []
   },
   "source": [
    "# Number of workers in each Team"
   ]
  },
  {
   "cell_type": "code",
   "execution_count": null,
   "id": "intermediate-consultancy",
   "metadata": {
    "execution": {
     "iopub.execute_input": "2021-04-10T14:15:11.136613Z",
     "iopub.status.busy": "2021-04-10T14:15:11.135955Z",
     "iopub.status.idle": "2021-04-10T14:15:11.210014Z",
     "shell.execute_reply": "2021-04-10T14:15:11.210566Z"
    },
    "papermill": {
     "duration": 0.148902,
     "end_time": "2021-04-10T14:15:11.210758",
     "exception": false,
     "start_time": "2021-04-10T14:15:11.061856",
     "status": "completed"
    },
    "tags": []
   },
   "outputs": [],
   "source": [
    "fig = px.bar(df, x=\"team\", y=\"no_of_workers\", barmode=\"group\", color='department'\n",
    "             )\n",
    "fig.update_layout(title_text='Team size',title_x=0.5,font=dict(\n",
    "        family=\"Courier New, monospace\",\n",
    "        size=18,\n",
    "        color=\"red\"\n",
    "    ))\n",
    "\n",
    "fig.show()  "
   ]
  },
  {
   "cell_type": "markdown",
   "id": "mounted-trade",
   "metadata": {
    "papermill": {
     "duration": 0.059566,
     "end_time": "2021-04-10T14:15:11.329503",
     "exception": false,
     "start_time": "2021-04-10T14:15:11.269937",
     "status": "completed"
    },
    "tags": []
   },
   "source": [
    "# Incentives paid to different teams"
   ]
  },
  {
   "cell_type": "code",
   "execution_count": null,
   "id": "certified-phase",
   "metadata": {
    "execution": {
     "iopub.execute_input": "2021-04-10T14:15:11.453018Z",
     "iopub.status.busy": "2021-04-10T14:15:11.452296Z",
     "iopub.status.idle": "2021-04-10T14:15:11.522420Z",
     "shell.execute_reply": "2021-04-10T14:15:11.521741Z"
    },
    "papermill": {
     "duration": 0.132578,
     "end_time": "2021-04-10T14:15:11.522560",
     "exception": false,
     "start_time": "2021-04-10T14:15:11.389982",
     "status": "completed"
    },
    "tags": []
   },
   "outputs": [],
   "source": [
    "idf = df[['team', 'incentive']].groupby('team').mean().sort_values('incentive',ascending=False).reset_index()\n",
    "fig = px.bar(idf, x=\"team\", y=\"incentive\", barmode=\"group\"\n",
    "             )\n",
    "fig.update_layout(title_text='Incentive paid to each team',title_x=0.5,font=dict(\n",
    "        family=\"Courier New, monospace\",\n",
    "        size=18,\n",
    "        color=\"green\"\n",
    "    ))\n",
    "\n",
    "fig.show()  "
   ]
  },
  {
   "cell_type": "markdown",
   "id": "collaborative-journal",
   "metadata": {
    "papermill": {
     "duration": 0.059605,
     "end_time": "2021-04-10T14:15:11.643602",
     "exception": false,
     "start_time": "2021-04-10T14:15:11.583997",
     "status": "completed"
    },
    "tags": []
   },
   "source": [
    "**Team 9 gets the highest incentive on avg, let us check the box plots to see if any outliers exist**"
   ]
  },
  {
   "cell_type": "code",
   "execution_count": null,
   "id": "voluntary-riding",
   "metadata": {
    "execution": {
     "iopub.execute_input": "2021-04-10T14:15:11.778743Z",
     "iopub.status.busy": "2021-04-10T14:15:11.778044Z",
     "iopub.status.idle": "2021-04-10T14:15:11.868547Z",
     "shell.execute_reply": "2021-04-10T14:15:11.869048Z"
    },
    "papermill": {
     "duration": 0.165478,
     "end_time": "2021-04-10T14:15:11.869243",
     "exception": false,
     "start_time": "2021-04-10T14:15:11.703765",
     "status": "completed"
    },
    "tags": []
   },
   "outputs": [],
   "source": [
    "fig = px.box(df, x=\"team\", y=\"incentive\")\n",
    "fig.update_layout(title_text='Incentive paid to each team - boxplot',title_x=0.5,font=dict(\n",
    "        family=\"Courier New, monospace\",\n",
    "        size=10,\n",
    "        color=\"red\"\n",
    "    ))\n",
    "fig.show()"
   ]
  },
  {
   "cell_type": "markdown",
   "id": "modern-cannon",
   "metadata": {
    "papermill": {
     "duration": 0.061315,
     "end_time": "2021-04-10T14:15:11.992008",
     "exception": false,
     "start_time": "2021-04-10T14:15:11.930693",
     "status": "completed"
    },
    "tags": []
   },
   "source": [
    "**Because of the outlier, team 9 avg incentive value is very high****"
   ]
  },
  {
   "cell_type": "markdown",
   "id": "respected-pharmacy",
   "metadata": {
    "papermill": {
     "duration": 0.062403,
     "end_time": "2021-04-10T14:15:12.117401",
     "exception": false,
     "start_time": "2021-04-10T14:15:12.054998",
     "status": "completed"
    },
    "tags": []
   },
   "source": [
    "# Only sewing department gets incentive"
   ]
  },
  {
   "cell_type": "code",
   "execution_count": null,
   "id": "entitled-multimedia",
   "metadata": {
    "execution": {
     "iopub.execute_input": "2021-04-10T14:15:12.256049Z",
     "iopub.status.busy": "2021-04-10T14:15:12.253363Z",
     "iopub.status.idle": "2021-04-10T14:15:12.317942Z",
     "shell.execute_reply": "2021-04-10T14:15:12.317328Z"
    },
    "papermill": {
     "duration": 0.139276,
     "end_time": "2021-04-10T14:15:12.318090",
     "exception": false,
     "start_time": "2021-04-10T14:15:12.178814",
     "status": "completed"
    },
    "tags": []
   },
   "outputs": [],
   "source": [
    "fig = px.box(df, x=\"department\", y=\"incentive\")\n",
    "fig.show()"
   ]
  },
  {
   "cell_type": "markdown",
   "id": "protecting-operation",
   "metadata": {
    "papermill": {
     "duration": 0.062202,
     "end_time": "2021-04-10T14:15:12.444159",
     "exception": false,
     "start_time": "2021-04-10T14:15:12.381957",
     "status": "completed"
    },
    "tags": []
   },
   "source": [
    "# Over-time vs Teams, department"
   ]
  },
  {
   "cell_type": "code",
   "execution_count": null,
   "id": "younger-consortium",
   "metadata": {
    "execution": {
     "iopub.execute_input": "2021-04-10T14:15:12.590016Z",
     "iopub.status.busy": "2021-04-10T14:15:12.589330Z",
     "iopub.status.idle": "2021-04-10T14:15:12.652570Z",
     "shell.execute_reply": "2021-04-10T14:15:12.651909Z"
    },
    "papermill": {
     "duration": 0.145333,
     "end_time": "2021-04-10T14:15:12.652826",
     "exception": false,
     "start_time": "2021-04-10T14:15:12.507493",
     "status": "completed"
    },
    "tags": []
   },
   "outputs": [],
   "source": [
    "fig = px.box(df, x=\"department\", y=\"overtime_in_hours\")\n",
    "\n",
    "fig.update_layout(title_text='Overtime spent(in hours) vs Departments',xaxis_title = 'Department',yaxis_title='Overtime in minutes', title_x=0.5,font=dict(\n",
    "        family=\"Courier New, monospace\",\n",
    "        size=18,\n",
    "        color=\"mediumvioletred\"\n",
    "    ))\n",
    "\n",
    "fig.show()"
   ]
  },
  {
   "cell_type": "markdown",
   "id": "subject-workshop",
   "metadata": {
    "papermill": {
     "duration": 0.063768,
     "end_time": "2021-04-10T14:15:12.780880",
     "exception": false,
     "start_time": "2021-04-10T14:15:12.717112",
     "status": "completed"
    },
    "tags": []
   },
   "source": [
    "**the median value of financing department working overtime is 1 day , it is not paid incentive, while sewing department works 4 days as overtime**"
   ]
  },
  {
   "cell_type": "markdown",
   "id": "authorized-promise",
   "metadata": {
    "papermill": {
     "duration": 0.070143,
     "end_time": "2021-04-10T14:15:12.915022",
     "exception": false,
     "start_time": "2021-04-10T14:15:12.844879",
     "status": "completed"
    },
    "tags": []
   },
   "source": [
    "# Work in progress in departments, teams, quarters"
   ]
  },
  {
   "cell_type": "code",
   "execution_count": null,
   "id": "particular-estonia",
   "metadata": {
    "execution": {
     "iopub.execute_input": "2021-04-10T14:15:13.063435Z",
     "iopub.status.busy": "2021-04-10T14:15:13.062385Z",
     "iopub.status.idle": "2021-04-10T14:15:13.125430Z",
     "shell.execute_reply": "2021-04-10T14:15:13.125959Z"
    },
    "papermill": {
     "duration": 0.146561,
     "end_time": "2021-04-10T14:15:13.126140",
     "exception": false,
     "start_time": "2021-04-10T14:15:12.979579",
     "status": "completed"
    },
    "tags": []
   },
   "outputs": [],
   "source": [
    "fig = px.box(df, x=\"department\", y=\"wip\")\n",
    "fig.show()"
   ]
  },
  {
   "cell_type": "markdown",
   "id": "numerical-being",
   "metadata": {
    "papermill": {
     "duration": 0.066707,
     "end_time": "2021-04-10T14:15:13.261054",
     "exception": false,
     "start_time": "2021-04-10T14:15:13.194347",
     "status": "completed"
    },
    "tags": []
   },
   "source": [
    "## Work in progress in teams"
   ]
  },
  {
   "cell_type": "code",
   "execution_count": null,
   "id": "expensive-henry",
   "metadata": {
    "execution": {
     "iopub.execute_input": "2021-04-10T14:15:13.394713Z",
     "iopub.status.busy": "2021-04-10T14:15:13.394057Z",
     "iopub.status.idle": "2021-04-10T14:15:13.459798Z",
     "shell.execute_reply": "2021-04-10T14:15:13.460263Z"
    },
    "papermill": {
     "duration": 0.134896,
     "end_time": "2021-04-10T14:15:13.460442",
     "exception": false,
     "start_time": "2021-04-10T14:15:13.325546",
     "status": "completed"
    },
    "tags": []
   },
   "outputs": [],
   "source": [
    "fig = px.box(df, x=\"team\", y=\"wip\")\n",
    "fig.show()"
   ]
  },
  {
   "cell_type": "markdown",
   "id": "tight-cisco",
   "metadata": {
    "papermill": {
     "duration": 0.065506,
     "end_time": "2021-04-10T14:15:13.593276",
     "exception": false,
     "start_time": "2021-04-10T14:15:13.527770",
     "status": "completed"
    },
    "tags": []
   },
   "source": [
    "# Work in progress in teams"
   ]
  },
  {
   "cell_type": "code",
   "execution_count": null,
   "id": "alternative-criticism",
   "metadata": {
    "execution": {
     "iopub.execute_input": "2021-04-10T14:15:13.729977Z",
     "iopub.status.busy": "2021-04-10T14:15:13.729252Z",
     "iopub.status.idle": "2021-04-10T14:15:13.803002Z",
     "shell.execute_reply": "2021-04-10T14:15:13.802439Z"
    },
    "papermill": {
     "duration": 0.144117,
     "end_time": "2021-04-10T14:15:13.803148",
     "exception": false,
     "start_time": "2021-04-10T14:15:13.659031",
     "status": "completed"
    },
    "tags": []
   },
   "outputs": [],
   "source": [
    "fig = px.box(df, x=\"quarter\", y=\"wip\")\n",
    "fig.show()"
   ]
  },
  {
   "cell_type": "markdown",
   "id": "shared-sheriff",
   "metadata": {
    "papermill": {
     "duration": 0.068424,
     "end_time": "2021-04-10T14:15:13.939640",
     "exception": false,
     "start_time": "2021-04-10T14:15:13.871216",
     "status": "completed"
    },
    "tags": []
   },
   "source": [
    "**Notebook is under construction .. Do Appreciate if you find it useful and checkout this dataset to create visualisations and submitting tasks**\n",
    "**Thank you**"
   ]
  }
 ],
 "metadata": {
  "kernelspec": {
   "display_name": "Python 3 (ipykernel)",
   "language": "python",
   "name": "python3"
  },
  "language_info": {
   "codemirror_mode": {
    "name": "ipython",
    "version": 3
   },
   "file_extension": ".py",
   "mimetype": "text/x-python",
   "name": "python",
   "nbconvert_exporter": "python",
   "pygments_lexer": "ipython3",
   "version": "3.8.8"
  },
  "papermill": {
   "default_parameters": {},
   "duration": 21.750116,
   "end_time": "2021-04-10T14:15:14.920924",
   "environment_variables": {},
   "exception": null,
   "input_path": "__notebook__.ipynb",
   "output_path": "__notebook__.ipynb",
   "parameters": {},
   "start_time": "2021-04-10T14:14:53.170808",
   "version": "2.3.2"
  }
 },
 "nbformat": 4,
 "nbformat_minor": 5
}
